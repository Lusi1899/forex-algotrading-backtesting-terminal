{
 "cells": [
  {
   "cell_type": "code",
   "execution_count": 114,
   "id": "fec1144d-38c7-4fd0-a16a-f7ea19cc6950",
   "metadata": {},
   "outputs": [],
   "source": [
    "import sys\n",
    "sys.path.append(\"../\")\n",
    "import pandas as pd\n",
    "import plotly.graph_objects as go\n",
    "from technicals.indicators import RSI\n",
    "from technicals.patterns import apply_patterns\n",
    "from ploting import CandlePlot\n",
    "import datetime as dt"
   ]
  },
  {
   "cell_type": "code",
   "execution_count": 4,
   "id": "61deeada-7547-441f-9174-9113da422941",
   "metadata": {},
   "outputs": [],
   "source": [
    "df_raw=pd.read_pickle(\"../data/EUR_USD_H1.pkl\")"
   ]
  },
  {
   "cell_type": "code",
   "execution_count": 5,
   "id": "c098096b-63c2-4607-b22b-f57d3179374d",
   "metadata": {},
   "outputs": [
    {
     "data": {
      "text/plain": [
       "(35658, 14)"
      ]
     },
     "execution_count": 5,
     "metadata": {},
     "output_type": "execute_result"
    }
   ],
   "source": [
    "df_raw.shape"
   ]
  },
  {
   "cell_type": "code",
   "execution_count": 87,
   "id": "dfbb8631-c4ee-4eed-a41a-1628b900e290",
   "metadata": {},
   "outputs": [],
   "source": [
    "df_an=df_raw.copy()#iloc[-6000:].copy()\n",
    "df_an.reset_index(drop=True,inplace=True)\n"
   ]
  },
  {
   "cell_type": "code",
   "execution_count": 38,
   "id": "fb9dd9ef-7cc8-4637-8aee-8603d0c7f46e",
   "metadata": {},
   "outputs": [],
   "source": [
    "df_an=RSI(df_an)"
   ]
  },
  {
   "cell_type": "code",
   "execution_count": 39,
   "id": "edfef6cc-7ae3-4cc9-87d0-858b5f2ec4c5",
   "metadata": {},
   "outputs": [
    {
     "data": {
      "text/html": [
       "<div>\n",
       "<style scoped>\n",
       "    .dataframe tbody tr th:only-of-type {\n",
       "        vertical-align: middle;\n",
       "    }\n",
       "\n",
       "    .dataframe tbody tr th {\n",
       "        vertical-align: top;\n",
       "    }\n",
       "\n",
       "    .dataframe thead th {\n",
       "        text-align: right;\n",
       "    }\n",
       "</style>\n",
       "<table border=\"1\" class=\"dataframe\">\n",
       "  <thead>\n",
       "    <tr style=\"text-align: right;\">\n",
       "      <th></th>\n",
       "      <th>time</th>\n",
       "      <th>volume</th>\n",
       "      <th>mid_o</th>\n",
       "      <th>mid_h</th>\n",
       "      <th>mid_l</th>\n",
       "      <th>mid_c</th>\n",
       "      <th>bid_o</th>\n",
       "      <th>bid_h</th>\n",
       "      <th>bid_l</th>\n",
       "      <th>bid_c</th>\n",
       "      <th>ask_o</th>\n",
       "      <th>ask_h</th>\n",
       "      <th>ask_l</th>\n",
       "      <th>ask_c</th>\n",
       "      <th>RSI_14</th>\n",
       "    </tr>\n",
       "  </thead>\n",
       "  <tbody>\n",
       "    <tr>\n",
       "      <th>35653</th>\n",
       "      <td>2021-12-30 19:00:00+00:00</td>\n",
       "      <td>1063</td>\n",
       "      <td>1.13058</td>\n",
       "      <td>1.13298</td>\n",
       "      <td>1.13043</td>\n",
       "      <td>1.13274</td>\n",
       "      <td>1.13052</td>\n",
       "      <td>1.13291</td>\n",
       "      <td>1.13036</td>\n",
       "      <td>1.13267</td>\n",
       "      <td>1.13065</td>\n",
       "      <td>1.13306</td>\n",
       "      <td>1.13049</td>\n",
       "      <td>1.13280</td>\n",
       "      <td>51.407635</td>\n",
       "    </tr>\n",
       "    <tr>\n",
       "      <th>35654</th>\n",
       "      <td>2021-12-30 20:00:00+00:00</td>\n",
       "      <td>1092</td>\n",
       "      <td>1.13272</td>\n",
       "      <td>1.13304</td>\n",
       "      <td>1.13185</td>\n",
       "      <td>1.13193</td>\n",
       "      <td>1.13264</td>\n",
       "      <td>1.13297</td>\n",
       "      <td>1.13177</td>\n",
       "      <td>1.13186</td>\n",
       "      <td>1.13279</td>\n",
       "      <td>1.13311</td>\n",
       "      <td>1.13192</td>\n",
       "      <td>1.13200</td>\n",
       "      <td>48.671929</td>\n",
       "    </tr>\n",
       "    <tr>\n",
       "      <th>35655</th>\n",
       "      <td>2021-12-30 21:00:00+00:00</td>\n",
       "      <td>388</td>\n",
       "      <td>1.13195</td>\n",
       "      <td>1.13276</td>\n",
       "      <td>1.13194</td>\n",
       "      <td>1.13258</td>\n",
       "      <td>1.13188</td>\n",
       "      <td>1.13269</td>\n",
       "      <td>1.13187</td>\n",
       "      <td>1.13249</td>\n",
       "      <td>1.13202</td>\n",
       "      <td>1.13283</td>\n",
       "      <td>1.13201</td>\n",
       "      <td>1.13267</td>\n",
       "      <td>50.928675</td>\n",
       "    </tr>\n",
       "    <tr>\n",
       "      <th>35656</th>\n",
       "      <td>2021-12-30 22:00:00+00:00</td>\n",
       "      <td>118</td>\n",
       "      <td>1.13252</td>\n",
       "      <td>1.13264</td>\n",
       "      <td>1.13222</td>\n",
       "      <td>1.13230</td>\n",
       "      <td>1.13204</td>\n",
       "      <td>1.13236</td>\n",
       "      <td>1.13182</td>\n",
       "      <td>1.13218</td>\n",
       "      <td>1.13299</td>\n",
       "      <td>1.13299</td>\n",
       "      <td>1.13236</td>\n",
       "      <td>1.13243</td>\n",
       "      <td>49.910668</td>\n",
       "    </tr>\n",
       "    <tr>\n",
       "      <th>35657</th>\n",
       "      <td>2021-12-30 23:00:00+00:00</td>\n",
       "      <td>507</td>\n",
       "      <td>1.13227</td>\n",
       "      <td>1.13258</td>\n",
       "      <td>1.13190</td>\n",
       "      <td>1.13224</td>\n",
       "      <td>1.13214</td>\n",
       "      <td>1.13251</td>\n",
       "      <td>1.13183</td>\n",
       "      <td>1.13216</td>\n",
       "      <td>1.13240</td>\n",
       "      <td>1.13266</td>\n",
       "      <td>1.13198</td>\n",
       "      <td>1.13231</td>\n",
       "      <td>49.681497</td>\n",
       "    </tr>\n",
       "  </tbody>\n",
       "</table>\n",
       "</div>"
      ],
      "text/plain": [
       "                           time  volume    mid_o    mid_h    mid_l    mid_c  \\\n",
       "35653 2021-12-30 19:00:00+00:00    1063  1.13058  1.13298  1.13043  1.13274   \n",
       "35654 2021-12-30 20:00:00+00:00    1092  1.13272  1.13304  1.13185  1.13193   \n",
       "35655 2021-12-30 21:00:00+00:00     388  1.13195  1.13276  1.13194  1.13258   \n",
       "35656 2021-12-30 22:00:00+00:00     118  1.13252  1.13264  1.13222  1.13230   \n",
       "35657 2021-12-30 23:00:00+00:00     507  1.13227  1.13258  1.13190  1.13224   \n",
       "\n",
       "         bid_o    bid_h    bid_l    bid_c    ask_o    ask_h    ask_l    ask_c  \\\n",
       "35653  1.13052  1.13291  1.13036  1.13267  1.13065  1.13306  1.13049  1.13280   \n",
       "35654  1.13264  1.13297  1.13177  1.13186  1.13279  1.13311  1.13192  1.13200   \n",
       "35655  1.13188  1.13269  1.13187  1.13249  1.13202  1.13283  1.13201  1.13267   \n",
       "35656  1.13204  1.13236  1.13182  1.13218  1.13299  1.13299  1.13236  1.13243   \n",
       "35657  1.13214  1.13251  1.13183  1.13216  1.13240  1.13266  1.13198  1.13231   \n",
       "\n",
       "          RSI_14  \n",
       "35653  51.407635  \n",
       "35654  48.671929  \n",
       "35655  50.928675  \n",
       "35656  49.910668  \n",
       "35657  49.681497  "
      ]
     },
     "execution_count": 39,
     "metadata": {},
     "output_type": "execute_result"
    }
   ],
   "source": [
    "df_an.tail()"
   ]
  },
  {
   "cell_type": "code",
   "execution_count": 40,
   "id": "46a167e6-c4b9-4041-b7bc-809f4542327d",
   "metadata": {},
   "outputs": [],
   "source": [
    "df_an=apply_patterns(df_an)"
   ]
  },
  {
   "cell_type": "code",
   "execution_count": 41,
   "id": "0e8673e2-ca22-47ae-ae49-f3fc63a986ed",
   "metadata": {},
   "outputs": [],
   "source": [
    "df_an[\"EMA_200\"]=df_an.mid_c.ewm(span=200,min_periods=200).mean()"
   ]
  },
  {
   "cell_type": "code",
   "execution_count": 42,
   "id": "bb459a3d-8b1f-44c9-8026-e2ebaf19da45",
   "metadata": {},
   "outputs": [
    {
     "data": {
      "text/plain": [
       "Index(['time', 'volume', 'mid_o', 'mid_h', 'mid_l', 'mid_c', 'bid_o', 'bid_h',\n",
       "       'bid_l', 'bid_c', 'ask_o', 'ask_h', 'ask_l', 'ask_c', 'RSI_14',\n",
       "       'body_lower', 'body_upper', 'body_bottom_perc', 'body_upper_perc',\n",
       "       'body_perc', 'direction', 'body_size', 'low_change', 'high_change',\n",
       "       'body_size_change', 'mid_point', 'mid_point_prev_2', 'body_size_prev',\n",
       "       'direction_prev', 'direction_prev_2', 'body_perc_prev',\n",
       "       'body_perc_prev_2', 'HANGING_MAN', 'SHOOTING_STAR', 'SPINNING_TOP',\n",
       "       'MARUBOZU', 'ENGULFING', 'TWEEZER_TOP', 'TWEEZER_BOTTOM',\n",
       "       'MORNING_STAR', 'EVENING_STAR', 'EMA_200'],\n",
       "      dtype='object')"
      ]
     },
     "execution_count": 42,
     "metadata": {},
     "output_type": "execute_result"
    }
   ],
   "source": [
    "df_an.columns"
   ]
  },
  {
   "cell_type": "code",
   "execution_count": 43,
   "id": "456a10bc-7621-4e72-9b89-0f515a14fc9e",
   "metadata": {},
   "outputs": [],
   "source": [
    "our_cols=['time', 'mid_o', 'mid_h', 'mid_l', 'mid_c','ask_c', 'bid_c','ENGULFING', 'EMA_200', 'direction','RSI_14']"
   ]
  },
  {
   "cell_type": "code",
   "execution_count": 44,
   "id": "7701c17f-d933-4995-a5f4-76bad43566d2",
   "metadata": {},
   "outputs": [],
   "source": [
    "df_slim=df_an[our_cols].copy()\n"
   ]
  },
  {
   "cell_type": "code",
   "execution_count": 45,
   "id": "5badb8cf-ccea-4f36-8f79-63c2c11c0c19",
   "metadata": {},
   "outputs": [],
   "source": [
    "\n",
    "df_slim.dropna(inplace=True)\n",
    "df_slim.reset_index(drop=True,inplace=True)"
   ]
  },
  {
   "cell_type": "code",
   "execution_count": 46,
   "id": "818c1ca6-31e4-4ae2-80e8-a13f134a1ccc",
   "metadata": {},
   "outputs": [
    {
     "data": {
      "text/html": [
       "<div>\n",
       "<style scoped>\n",
       "    .dataframe tbody tr th:only-of-type {\n",
       "        vertical-align: middle;\n",
       "    }\n",
       "\n",
       "    .dataframe tbody tr th {\n",
       "        vertical-align: top;\n",
       "    }\n",
       "\n",
       "    .dataframe thead th {\n",
       "        text-align: right;\n",
       "    }\n",
       "</style>\n",
       "<table border=\"1\" class=\"dataframe\">\n",
       "  <thead>\n",
       "    <tr style=\"text-align: right;\">\n",
       "      <th></th>\n",
       "      <th>time</th>\n",
       "      <th>mid_o</th>\n",
       "      <th>mid_h</th>\n",
       "      <th>mid_l</th>\n",
       "      <th>mid_c</th>\n",
       "      <th>ask_c</th>\n",
       "      <th>bid_c</th>\n",
       "      <th>ENGULFING</th>\n",
       "      <th>EMA_200</th>\n",
       "      <th>direction</th>\n",
       "      <th>RSI_14</th>\n",
       "    </tr>\n",
       "  </thead>\n",
       "  <tbody>\n",
       "    <tr>\n",
       "      <th>0</th>\n",
       "      <td>2016-04-19 07:00:00+00:00</td>\n",
       "      <td>1.13388</td>\n",
       "      <td>1.13406</td>\n",
       "      <td>1.13254</td>\n",
       "      <td>1.13270</td>\n",
       "      <td>1.13279</td>\n",
       "      <td>1.13262</td>\n",
       "      <td>False</td>\n",
       "      <td>1.132002</td>\n",
       "      <td>-1</td>\n",
       "      <td>59.865758</td>\n",
       "    </tr>\n",
       "    <tr>\n",
       "      <th>1</th>\n",
       "      <td>2016-04-19 08:00:00+00:00</td>\n",
       "      <td>1.13267</td>\n",
       "      <td>1.13335</td>\n",
       "      <td>1.13149</td>\n",
       "      <td>1.13326</td>\n",
       "      <td>1.13347</td>\n",
       "      <td>1.13306</td>\n",
       "      <td>False</td>\n",
       "      <td>1.132016</td>\n",
       "      <td>1</td>\n",
       "      <td>62.890585</td>\n",
       "    </tr>\n",
       "    <tr>\n",
       "      <th>2</th>\n",
       "      <td>2016-04-19 09:00:00+00:00</td>\n",
       "      <td>1.13334</td>\n",
       "      <td>1.13434</td>\n",
       "      <td>1.13258</td>\n",
       "      <td>1.13316</td>\n",
       "      <td>1.13322</td>\n",
       "      <td>1.13310</td>\n",
       "      <td>False</td>\n",
       "      <td>1.132029</td>\n",
       "      <td>-1</td>\n",
       "      <td>61.992084</td>\n",
       "    </tr>\n",
       "    <tr>\n",
       "      <th>3</th>\n",
       "      <td>2016-04-19 10:00:00+00:00</td>\n",
       "      <td>1.13312</td>\n",
       "      <td>1.13390</td>\n",
       "      <td>1.13277</td>\n",
       "      <td>1.13344</td>\n",
       "      <td>1.13351</td>\n",
       "      <td>1.13336</td>\n",
       "      <td>False</td>\n",
       "      <td>1.132046</td>\n",
       "      <td>1</td>\n",
       "      <td>63.561839</td>\n",
       "    </tr>\n",
       "    <tr>\n",
       "      <th>4</th>\n",
       "      <td>2016-04-19 14:00:00+00:00</td>\n",
       "      <td>1.13773</td>\n",
       "      <td>1.13827</td>\n",
       "      <td>1.13600</td>\n",
       "      <td>1.13768</td>\n",
       "      <td>1.13775</td>\n",
       "      <td>1.13761</td>\n",
       "      <td>False</td>\n",
       "      <td>1.132234</td>\n",
       "      <td>-1</td>\n",
       "      <td>78.618041</td>\n",
       "    </tr>\n",
       "  </tbody>\n",
       "</table>\n",
       "</div>"
      ],
      "text/plain": [
       "                       time    mid_o    mid_h    mid_l    mid_c    ask_c  \\\n",
       "0 2016-04-19 07:00:00+00:00  1.13388  1.13406  1.13254  1.13270  1.13279   \n",
       "1 2016-04-19 08:00:00+00:00  1.13267  1.13335  1.13149  1.13326  1.13347   \n",
       "2 2016-04-19 09:00:00+00:00  1.13334  1.13434  1.13258  1.13316  1.13322   \n",
       "3 2016-04-19 10:00:00+00:00  1.13312  1.13390  1.13277  1.13344  1.13351   \n",
       "4 2016-04-19 14:00:00+00:00  1.13773  1.13827  1.13600  1.13768  1.13775   \n",
       "\n",
       "     bid_c ENGULFING   EMA_200  direction     RSI_14  \n",
       "0  1.13262     False  1.132002         -1  59.865758  \n",
       "1  1.13306     False  1.132016          1  62.890585  \n",
       "2  1.13310     False  1.132029         -1  61.992084  \n",
       "3  1.13336     False  1.132046          1  63.561839  \n",
       "4  1.13761     False  1.132234         -1  78.618041  "
      ]
     },
     "execution_count": 46,
     "metadata": {},
     "output_type": "execute_result"
    }
   ],
   "source": [
    "df_slim.head()"
   ]
  },
  {
   "cell_type": "code",
   "execution_count": 47,
   "id": "f6694056-a609-4384-a45f-9a6f73b87dc5",
   "metadata": {},
   "outputs": [],
   "source": [
    "BUY=1\n",
    "SELL=-1\n",
    "NONE=0\n",
    "RSI_LIMIT=50.0\n",
    "\n",
    "def apply_signal(row):\n",
    "    if row.ENGULFING==True:\n",
    "        if row.direction==BUY and row.mid_l>row.EMA_200:\n",
    "            if row.RSI_14> RSI_LIMIT:\n",
    "                return BUY\n",
    "        if row.direction==SELL and row.mid_h<row.EMA_200:\n",
    "            if row.RSI_14< RSI_LIMIT:\n",
    "                return SELL\n",
    "    else:\n",
    "        return NONE\n",
    "        \n",
    "                "
   ]
  },
  {
   "cell_type": "code",
   "execution_count": 50,
   "id": "d2abffb8-0977-431f-afe0-d2716ca35be9",
   "metadata": {},
   "outputs": [],
   "source": [
    "df_slim[\"SIGNAL\"]=df_slim.apply(apply_signal, axis=1)"
   ]
  },
  {
   "cell_type": "code",
   "execution_count": 51,
   "id": "78cf8999-a825-4443-9f24-c4ef1e565696",
   "metadata": {},
   "outputs": [
    {
     "data": {
      "text/plain": [
       "SIGNAL\n",
       " 0.0    12390\n",
       "-1.0     1150\n",
       " 1.0     1112\n",
       "Name: count, dtype: int64"
      ]
     },
     "execution_count": 51,
     "metadata": {},
     "output_type": "execute_result"
    }
   ],
   "source": [
    "df_slim[\"SIGNAL\"].value_counts()"
   ]
  },
  {
   "cell_type": "code",
   "execution_count": 52,
   "id": "eca31c5c-051d-4d29-bedd-26442c2670bb",
   "metadata": {},
   "outputs": [],
   "source": [
    "LOSS_FACTOR=-1.0\n",
    "PROFIT_FACTOR=1.5\n",
    "\n",
    "def apply_take_profit(row):\n",
    "    if row.SIGNAL != NONE:\n",
    "        return (row.mid_c-row.mid_o)* PROFIT_FACTOR + row.mid_c\n",
    "    else:\n",
    "        return 0.0\n",
    "\n",
    "def apply_stop_loss(row):\n",
    "    if row.SIGNAL != NONE:\n",
    "        return row.mid_o\n",
    "    else:\n",
    "        return 0.0\n",
    "\n"
   ]
  },
  {
   "cell_type": "code",
   "execution_count": 53,
   "id": "9baff16a-e7eb-4956-acc9-1f11941fb432",
   "metadata": {},
   "outputs": [],
   "source": [
    "df_slim[\"TAKE_PROFIT\"]=df_slim.apply(apply_take_profit, axis=1)\n",
    "df_slim[\"STOP_LOSS\"]=df_slim.apply(apply_stop_loss, axis=1)\n"
   ]
  },
  {
   "cell_type": "code",
   "execution_count": 93,
   "id": "84ac5781-f608-43a5-8145-ad21bb802f3d",
   "metadata": {},
   "outputs": [],
   "source": [
    "df_slim[df_slim.SIGNAL==SELL].head()\n",
    "df_plot=df_slim.iloc[100:140]"
   ]
  },
  {
   "cell_type": "code",
   "execution_count": 94,
   "id": "52b0eff0-be8d-4973-9148-8a836c793c2c",
   "metadata": {},
   "outputs": [
    {
     "data": {
      "application/vnd.plotly.v1+json": {
       "config": {
        "plotlyServerURL": "https://plot.ly"
       },
       "data": [
        {
         "close": [
          1.15118,
          1.15154,
          1.15174,
          1.15236,
          1.1518,
          1.15339,
          1.15272,
          1.1534,
          1.15319,
          1.15326,
          1.15925,
          1.15268,
          1.15244,
          1.14994,
          1.14874,
          1.14798,
          1.14848,
          1.14952,
          1.14892,
          1.14844,
          1.14934,
          1.1502,
          1.14924,
          1.1497,
          1.14912,
          1.15002,
          1.14906,
          1.14894,
          1.14853,
          1.14854,
          1.14842,
          1.14902,
          1.14877,
          1.14321,
          1.14074,
          1.14025,
          1.13992,
          1.1402,
          1.14031,
          1.14036
         ],
         "decreasing": {
          "fillcolor": "#CC2E3C",
          "line": {
           "color": "#ff3a4c"
          }
         },
         "high": [
          1.15352,
          1.15193,
          1.15326,
          1.15318,
          1.15236,
          1.15362,
          1.15337,
          1.15396,
          1.15384,
          1.1539,
          1.16164,
          1.1528,
          1.15385,
          1.15022,
          1.15085,
          1.14865,
          1.14932,
          1.14974,
          1.14983,
          1.14849,
          1.15296,
          1.15182,
          1.15064,
          1.14994,
          1.1498,
          1.15028,
          1.15009,
          1.14908,
          1.14927,
          1.14938,
          1.14885,
          1.1494,
          1.14916,
          1.14328,
          1.14364,
          1.14077,
          1.14127,
          1.1404,
          1.14058,
          1.1405
         ],
         "increasing": {
          "fillcolor": "#24A06B",
          "line": {
           "color": "#2EC886"
          }
         },
         "line": {
          "width": 1
         },
         "low": [
          1.14908,
          1.15062,
          1.15169,
          1.15144,
          1.15154,
          1.15184,
          1.15252,
          1.15227,
          1.15292,
          1.15223,
          1.15879,
          1.15012,
          1.15238,
          1.14953,
          1.14782,
          1.14776,
          1.1483,
          1.14794,
          1.14698,
          1.14736,
          1.14866,
          1.14878,
          1.14666,
          1.14858,
          1.1484,
          1.1489,
          1.14904,
          1.14846,
          1.14832,
          1.14845,
          1.14822,
          1.14846,
          1.14826,
          1.14181,
          1.1404,
          1.1392,
          1.1399,
          1.1397,
          1.14014,
          1.1402
         ],
         "opacity": 1,
         "open": [
          1.15216,
          1.15121,
          1.15246,
          1.15178,
          1.15236,
          1.15184,
          1.15306,
          1.15232,
          1.15362,
          1.15318,
          1.1593,
          1.15066,
          1.15264,
          1.1497,
          1.15056,
          1.14782,
          1.14872,
          1.14852,
          1.14975,
          1.14832,
          1.15048,
          1.14938,
          1.1502,
          1.14858,
          1.14972,
          1.14916,
          1.15004,
          1.14862,
          1.1491,
          1.1485,
          1.14885,
          1.14846,
          1.149,
          1.14268,
          1.1434,
          1.13986,
          1.14124,
          1.13984,
          1.14045,
          1.1403
         ],
         "type": "candlestick",
         "x": [
          "s16-05-02 14:00",
          "s16-05-02 15:00",
          "s16-05-02 17:00",
          "s16-05-02 18:00",
          "s16-05-02 19:00",
          "s16-05-02 20:00",
          "s16-05-02 21:00",
          "s16-05-03 00:00",
          "s16-05-03 03:00",
          "s16-05-03 04:00",
          "s16-05-03 08:00",
          "s16-05-03 16:00",
          "s16-05-03 17:00",
          "s16-05-03 22:00",
          "s16-05-04 01:00",
          "s16-05-04 03:00",
          "s16-05-04 05:00",
          "s16-05-04 06:00",
          "s16-05-04 08:00",
          "s16-05-04 10:00",
          "s16-05-04 12:00",
          "s16-05-04 13:00",
          "s16-05-04 14:00",
          "s16-05-04 16:00",
          "s16-05-04 17:00",
          "s16-05-04 18:00",
          "s16-05-04 19:00",
          "s16-05-04 22:00",
          "s16-05-05 00:00",
          "s16-05-05 01:00",
          "s16-05-05 04:00",
          "s16-05-05 05:00",
          "s16-05-05 06:00",
          "s16-05-05 11:00",
          "s16-05-05 13:00",
          "s16-05-05 15:00",
          "s16-05-05 17:00",
          "s16-05-05 19:00",
          "s16-05-05 21:00",
          "s16-05-05 22:00"
         ]
        },
        {
         "marker": {
          "color": "#0000FF",
          "size": 12
         },
         "mode": "markers",
         "type": "scatter",
         "x": [
          "s16-05-02 20:00",
          "s16-05-03 00:00",
          "s16-05-03 03:00",
          "s16-05-03 16:00",
          "s16-05-03 22:00",
          "s16-05-04 01:00",
          "s16-05-04 06:00",
          "s16-05-04 08:00",
          "s16-05-04 22:00",
          "s16-05-05 00:00",
          "s16-05-05 04:00",
          "s16-05-05 13:00",
          "s16-05-05 19:00"
         ],
         "y": [
          1.15339,
          1.1534,
          1.15319,
          1.15268,
          1.14994,
          1.14874,
          1.14952,
          1.14892,
          1.14894,
          1.14853,
          1.14842,
          1.14074,
          1.1402
         ]
        },
        {
         "line": {
          "shape": "spline",
          "width": 2
         },
         "name": "EMA_200",
         "type": "scatter",
         "x": [
          "s16-05-02 14:00",
          "s16-05-02 15:00",
          "s16-05-02 17:00",
          "s16-05-02 18:00",
          "s16-05-02 19:00",
          "s16-05-02 20:00",
          "s16-05-02 21:00",
          "s16-05-03 00:00",
          "s16-05-03 03:00",
          "s16-05-03 04:00",
          "s16-05-03 08:00",
          "s16-05-03 16:00",
          "s16-05-03 17:00",
          "s16-05-03 22:00",
          "s16-05-04 01:00",
          "s16-05-04 03:00",
          "s16-05-04 05:00",
          "s16-05-04 06:00",
          "s16-05-04 08:00",
          "s16-05-04 10:00",
          "s16-05-04 12:00",
          "s16-05-04 13:00",
          "s16-05-04 14:00",
          "s16-05-04 16:00",
          "s16-05-04 17:00",
          "s16-05-04 18:00",
          "s16-05-04 19:00",
          "s16-05-04 22:00",
          "s16-05-05 00:00",
          "s16-05-05 01:00",
          "s16-05-05 04:00",
          "s16-05-05 05:00",
          "s16-05-05 06:00",
          "s16-05-05 11:00",
          "s16-05-05 13:00",
          "s16-05-05 15:00",
          "s16-05-05 17:00",
          "s16-05-05 19:00",
          "s16-05-05 21:00",
          "s16-05-05 22:00"
         ],
         "xaxis": "x",
         "y": [
          1.1352881351910757,
          1.1354522091152845,
          1.1357861462829622,
          1.1359533986534611,
          1.1361132895150259,
          1.1362875857130172,
          1.1364533413068028,
          1.1369433796356239,
          1.1374382019012104,
          1.1375976498692053,
          1.1383837278604647,
          1.139665322383566,
          1.1397938614905772,
          1.1403031908454588,
          1.14058643749134,
          1.1407329343782928,
          1.140890650049293,
          1.140977360030248,
          1.1411443104057224,
          1.1412885515463476,
          1.1414611926250509,
          1.1415489440242967,
          1.1416261672955412,
          1.1417760350372417,
          1.141849753489504,
          1.141931758932699,
          1.1420032994684914,
          1.1422037974023616,
          1.1423357559846923,
          1.1423979917787266,
          1.1425852783545958,
          1.1426498055322407,
          1.1427111738722104,
          1.142764085580321,
          1.1427503084306019,
          1.1426961830022657,
          1.1426535268219238,
          1.1426012416327438,
          1.1425576525215915,
          1.142535641411878
         ],
         "yaxis": "y"
        },
        {
         "line": {
          "shape": "spline",
          "width": 2
         },
         "name": "RSI_14",
         "type": "scatter",
         "x": [
          "s16-05-02 14:00",
          "s16-05-02 15:00",
          "s16-05-02 17:00",
          "s16-05-02 18:00",
          "s16-05-02 19:00",
          "s16-05-02 20:00",
          "s16-05-02 21:00",
          "s16-05-03 00:00",
          "s16-05-03 03:00",
          "s16-05-03 04:00",
          "s16-05-03 08:00",
          "s16-05-03 16:00",
          "s16-05-03 17:00",
          "s16-05-03 22:00",
          "s16-05-04 01:00",
          "s16-05-04 03:00",
          "s16-05-04 05:00",
          "s16-05-04 06:00",
          "s16-05-04 08:00",
          "s16-05-04 10:00",
          "s16-05-04 12:00",
          "s16-05-04 13:00",
          "s16-05-04 14:00",
          "s16-05-04 16:00",
          "s16-05-04 17:00",
          "s16-05-04 18:00",
          "s16-05-04 19:00",
          "s16-05-04 22:00",
          "s16-05-05 00:00",
          "s16-05-05 01:00",
          "s16-05-05 04:00",
          "s16-05-05 05:00",
          "s16-05-05 06:00",
          "s16-05-05 11:00",
          "s16-05-05 13:00",
          "s16-05-05 15:00",
          "s16-05-05 17:00",
          "s16-05-05 19:00",
          "s16-05-05 21:00",
          "s16-05-05 22:00"
         ],
         "xaxis": "x",
         "y": [
          73.47845030529572,
          74.32863392715382,
          71.68414665510028,
          73.27987650910272,
          69.47168675448523,
          73.65753969552011,
          69.342890791078,
          70.18690614236793,
          67.3637346606375,
          67.63156124591684,
          81.93560636159833,
          47.92614183757096,
          47.12667178514976,
          40.04077655100715,
          36.80798616797332,
          34.91286150984388,
          38.317588812387605,
          44.02950618247747,
          41.725607299464336,
          40.17632616437114,
          45.98864851284315,
          49.94332748188734,
          45.90293024919179,
          48.63120808460171,
          46.22942850250752,
          50.328840671617215,
          46.27611478693897,
          46.275008195919874,
          44.366546759417375,
          44.42863724985027,
          43.87140849252359,
          48.15760718740189,
          46.56211636961804,
          28.124605622787783,
          23.036406376352318,
          24.184722577683047,
          27.1208644958095,
          29.246715310149227,
          30.743208851655297,
          31.116188157569994
         ],
         "yaxis": "y2"
        }
       ],
       "layout": {
        "height": 400,
        "margin": {
         "b": 10,
         "l": 10,
         "r": 10,
         "t": 10
        },
        "plot_bgcolor": "#2c303c",
        "template": {
         "data": {
          "bar": [
           {
            "error_x": {
             "color": "#2a3f5f"
            },
            "error_y": {
             "color": "#2a3f5f"
            },
            "marker": {
             "line": {
              "color": "#E5ECF6",
              "width": 0.5
             },
             "pattern": {
              "fillmode": "overlay",
              "size": 10,
              "solidity": 0.2
             }
            },
            "type": "bar"
           }
          ],
          "barpolar": [
           {
            "marker": {
             "line": {
              "color": "#E5ECF6",
              "width": 0.5
             },
             "pattern": {
              "fillmode": "overlay",
              "size": 10,
              "solidity": 0.2
             }
            },
            "type": "barpolar"
           }
          ],
          "carpet": [
           {
            "aaxis": {
             "endlinecolor": "#2a3f5f",
             "gridcolor": "white",
             "linecolor": "white",
             "minorgridcolor": "white",
             "startlinecolor": "#2a3f5f"
            },
            "baxis": {
             "endlinecolor": "#2a3f5f",
             "gridcolor": "white",
             "linecolor": "white",
             "minorgridcolor": "white",
             "startlinecolor": "#2a3f5f"
            },
            "type": "carpet"
           }
          ],
          "choropleth": [
           {
            "colorbar": {
             "outlinewidth": 0,
             "ticks": ""
            },
            "type": "choropleth"
           }
          ],
          "contour": [
           {
            "colorbar": {
             "outlinewidth": 0,
             "ticks": ""
            },
            "colorscale": [
             [
              0,
              "#0d0887"
             ],
             [
              0.1111111111111111,
              "#46039f"
             ],
             [
              0.2222222222222222,
              "#7201a8"
             ],
             [
              0.3333333333333333,
              "#9c179e"
             ],
             [
              0.4444444444444444,
              "#bd3786"
             ],
             [
              0.5555555555555556,
              "#d8576b"
             ],
             [
              0.6666666666666666,
              "#ed7953"
             ],
             [
              0.7777777777777778,
              "#fb9f3a"
             ],
             [
              0.8888888888888888,
              "#fdca26"
             ],
             [
              1,
              "#f0f921"
             ]
            ],
            "type": "contour"
           }
          ],
          "contourcarpet": [
           {
            "colorbar": {
             "outlinewidth": 0,
             "ticks": ""
            },
            "type": "contourcarpet"
           }
          ],
          "heatmap": [
           {
            "colorbar": {
             "outlinewidth": 0,
             "ticks": ""
            },
            "colorscale": [
             [
              0,
              "#0d0887"
             ],
             [
              0.1111111111111111,
              "#46039f"
             ],
             [
              0.2222222222222222,
              "#7201a8"
             ],
             [
              0.3333333333333333,
              "#9c179e"
             ],
             [
              0.4444444444444444,
              "#bd3786"
             ],
             [
              0.5555555555555556,
              "#d8576b"
             ],
             [
              0.6666666666666666,
              "#ed7953"
             ],
             [
              0.7777777777777778,
              "#fb9f3a"
             ],
             [
              0.8888888888888888,
              "#fdca26"
             ],
             [
              1,
              "#f0f921"
             ]
            ],
            "type": "heatmap"
           }
          ],
          "heatmapgl": [
           {
            "colorbar": {
             "outlinewidth": 0,
             "ticks": ""
            },
            "colorscale": [
             [
              0,
              "#0d0887"
             ],
             [
              0.1111111111111111,
              "#46039f"
             ],
             [
              0.2222222222222222,
              "#7201a8"
             ],
             [
              0.3333333333333333,
              "#9c179e"
             ],
             [
              0.4444444444444444,
              "#bd3786"
             ],
             [
              0.5555555555555556,
              "#d8576b"
             ],
             [
              0.6666666666666666,
              "#ed7953"
             ],
             [
              0.7777777777777778,
              "#fb9f3a"
             ],
             [
              0.8888888888888888,
              "#fdca26"
             ],
             [
              1,
              "#f0f921"
             ]
            ],
            "type": "heatmapgl"
           }
          ],
          "histogram": [
           {
            "marker": {
             "pattern": {
              "fillmode": "overlay",
              "size": 10,
              "solidity": 0.2
             }
            },
            "type": "histogram"
           }
          ],
          "histogram2d": [
           {
            "colorbar": {
             "outlinewidth": 0,
             "ticks": ""
            },
            "colorscale": [
             [
              0,
              "#0d0887"
             ],
             [
              0.1111111111111111,
              "#46039f"
             ],
             [
              0.2222222222222222,
              "#7201a8"
             ],
             [
              0.3333333333333333,
              "#9c179e"
             ],
             [
              0.4444444444444444,
              "#bd3786"
             ],
             [
              0.5555555555555556,
              "#d8576b"
             ],
             [
              0.6666666666666666,
              "#ed7953"
             ],
             [
              0.7777777777777778,
              "#fb9f3a"
             ],
             [
              0.8888888888888888,
              "#fdca26"
             ],
             [
              1,
              "#f0f921"
             ]
            ],
            "type": "histogram2d"
           }
          ],
          "histogram2dcontour": [
           {
            "colorbar": {
             "outlinewidth": 0,
             "ticks": ""
            },
            "colorscale": [
             [
              0,
              "#0d0887"
             ],
             [
              0.1111111111111111,
              "#46039f"
             ],
             [
              0.2222222222222222,
              "#7201a8"
             ],
             [
              0.3333333333333333,
              "#9c179e"
             ],
             [
              0.4444444444444444,
              "#bd3786"
             ],
             [
              0.5555555555555556,
              "#d8576b"
             ],
             [
              0.6666666666666666,
              "#ed7953"
             ],
             [
              0.7777777777777778,
              "#fb9f3a"
             ],
             [
              0.8888888888888888,
              "#fdca26"
             ],
             [
              1,
              "#f0f921"
             ]
            ],
            "type": "histogram2dcontour"
           }
          ],
          "mesh3d": [
           {
            "colorbar": {
             "outlinewidth": 0,
             "ticks": ""
            },
            "type": "mesh3d"
           }
          ],
          "parcoords": [
           {
            "line": {
             "colorbar": {
              "outlinewidth": 0,
              "ticks": ""
             }
            },
            "type": "parcoords"
           }
          ],
          "pie": [
           {
            "automargin": true,
            "type": "pie"
           }
          ],
          "scatter": [
           {
            "fillpattern": {
             "fillmode": "overlay",
             "size": 10,
             "solidity": 0.2
            },
            "type": "scatter"
           }
          ],
          "scatter3d": [
           {
            "line": {
             "colorbar": {
              "outlinewidth": 0,
              "ticks": ""
             }
            },
            "marker": {
             "colorbar": {
              "outlinewidth": 0,
              "ticks": ""
             }
            },
            "type": "scatter3d"
           }
          ],
          "scattercarpet": [
           {
            "marker": {
             "colorbar": {
              "outlinewidth": 0,
              "ticks": ""
             }
            },
            "type": "scattercarpet"
           }
          ],
          "scattergeo": [
           {
            "marker": {
             "colorbar": {
              "outlinewidth": 0,
              "ticks": ""
             }
            },
            "type": "scattergeo"
           }
          ],
          "scattergl": [
           {
            "marker": {
             "colorbar": {
              "outlinewidth": 0,
              "ticks": ""
             }
            },
            "type": "scattergl"
           }
          ],
          "scattermapbox": [
           {
            "marker": {
             "colorbar": {
              "outlinewidth": 0,
              "ticks": ""
             }
            },
            "type": "scattermapbox"
           }
          ],
          "scatterpolar": [
           {
            "marker": {
             "colorbar": {
              "outlinewidth": 0,
              "ticks": ""
             }
            },
            "type": "scatterpolar"
           }
          ],
          "scatterpolargl": [
           {
            "marker": {
             "colorbar": {
              "outlinewidth": 0,
              "ticks": ""
             }
            },
            "type": "scatterpolargl"
           }
          ],
          "scatterternary": [
           {
            "marker": {
             "colorbar": {
              "outlinewidth": 0,
              "ticks": ""
             }
            },
            "type": "scatterternary"
           }
          ],
          "surface": [
           {
            "colorbar": {
             "outlinewidth": 0,
             "ticks": ""
            },
            "colorscale": [
             [
              0,
              "#0d0887"
             ],
             [
              0.1111111111111111,
              "#46039f"
             ],
             [
              0.2222222222222222,
              "#7201a8"
             ],
             [
              0.3333333333333333,
              "#9c179e"
             ],
             [
              0.4444444444444444,
              "#bd3786"
             ],
             [
              0.5555555555555556,
              "#d8576b"
             ],
             [
              0.6666666666666666,
              "#ed7953"
             ],
             [
              0.7777777777777778,
              "#fb9f3a"
             ],
             [
              0.8888888888888888,
              "#fdca26"
             ],
             [
              1,
              "#f0f921"
             ]
            ],
            "type": "surface"
           }
          ],
          "table": [
           {
            "cells": {
             "fill": {
              "color": "#EBF0F8"
             },
             "line": {
              "color": "white"
             }
            },
            "header": {
             "fill": {
              "color": "#C8D4E3"
             },
             "line": {
              "color": "white"
             }
            },
            "type": "table"
           }
          ]
         },
         "layout": {
          "annotationdefaults": {
           "arrowcolor": "#2a3f5f",
           "arrowhead": 0,
           "arrowwidth": 1
          },
          "autotypenumbers": "strict",
          "coloraxis": {
           "colorbar": {
            "outlinewidth": 0,
            "ticks": ""
           }
          },
          "colorscale": {
           "diverging": [
            [
             0,
             "#8e0152"
            ],
            [
             0.1,
             "#c51b7d"
            ],
            [
             0.2,
             "#de77ae"
            ],
            [
             0.3,
             "#f1b6da"
            ],
            [
             0.4,
             "#fde0ef"
            ],
            [
             0.5,
             "#f7f7f7"
            ],
            [
             0.6,
             "#e6f5d0"
            ],
            [
             0.7,
             "#b8e186"
            ],
            [
             0.8,
             "#7fbc41"
            ],
            [
             0.9,
             "#4d9221"
            ],
            [
             1,
             "#276419"
            ]
           ],
           "sequential": [
            [
             0,
             "#0d0887"
            ],
            [
             0.1111111111111111,
             "#46039f"
            ],
            [
             0.2222222222222222,
             "#7201a8"
            ],
            [
             0.3333333333333333,
             "#9c179e"
            ],
            [
             0.4444444444444444,
             "#bd3786"
            ],
            [
             0.5555555555555556,
             "#d8576b"
            ],
            [
             0.6666666666666666,
             "#ed7953"
            ],
            [
             0.7777777777777778,
             "#fb9f3a"
            ],
            [
             0.8888888888888888,
             "#fdca26"
            ],
            [
             1,
             "#f0f921"
            ]
           ],
           "sequentialminus": [
            [
             0,
             "#0d0887"
            ],
            [
             0.1111111111111111,
             "#46039f"
            ],
            [
             0.2222222222222222,
             "#7201a8"
            ],
            [
             0.3333333333333333,
             "#9c179e"
            ],
            [
             0.4444444444444444,
             "#bd3786"
            ],
            [
             0.5555555555555556,
             "#d8576b"
            ],
            [
             0.6666666666666666,
             "#ed7953"
            ],
            [
             0.7777777777777778,
             "#fb9f3a"
            ],
            [
             0.8888888888888888,
             "#fdca26"
            ],
            [
             1,
             "#f0f921"
            ]
           ]
          },
          "colorway": [
           "#636efa",
           "#EF553B",
           "#00cc96",
           "#ab63fa",
           "#FFA15A",
           "#19d3f3",
           "#FF6692",
           "#B6E880",
           "#FF97FF",
           "#FECB52"
          ],
          "font": {
           "color": "#2a3f5f"
          },
          "geo": {
           "bgcolor": "white",
           "lakecolor": "white",
           "landcolor": "#E5ECF6",
           "showlakes": true,
           "showland": true,
           "subunitcolor": "white"
          },
          "hoverlabel": {
           "align": "left"
          },
          "hovermode": "closest",
          "mapbox": {
           "style": "light"
          },
          "paper_bgcolor": "white",
          "plot_bgcolor": "#E5ECF6",
          "polar": {
           "angularaxis": {
            "gridcolor": "white",
            "linecolor": "white",
            "ticks": ""
           },
           "bgcolor": "#E5ECF6",
           "radialaxis": {
            "gridcolor": "white",
            "linecolor": "white",
            "ticks": ""
           }
          },
          "scene": {
           "xaxis": {
            "backgroundcolor": "#E5ECF6",
            "gridcolor": "white",
            "gridwidth": 2,
            "linecolor": "white",
            "showbackground": true,
            "ticks": "",
            "zerolinecolor": "white"
           },
           "yaxis": {
            "backgroundcolor": "#E5ECF6",
            "gridcolor": "white",
            "gridwidth": 2,
            "linecolor": "white",
            "showbackground": true,
            "ticks": "",
            "zerolinecolor": "white"
           },
           "zaxis": {
            "backgroundcolor": "#E5ECF6",
            "gridcolor": "white",
            "gridwidth": 2,
            "linecolor": "white",
            "showbackground": true,
            "ticks": "",
            "zerolinecolor": "white"
           }
          },
          "shapedefaults": {
           "line": {
            "color": "#2a3f5f"
           }
          },
          "ternary": {
           "aaxis": {
            "gridcolor": "white",
            "linecolor": "white",
            "ticks": ""
           },
           "baxis": {
            "gridcolor": "white",
            "linecolor": "white",
            "ticks": ""
           },
           "bgcolor": "#E5ECF6",
           "caxis": {
            "gridcolor": "white",
            "linecolor": "white",
            "ticks": ""
           }
          },
          "title": {
           "x": 0.05
          },
          "xaxis": {
           "automargin": true,
           "gridcolor": "white",
           "linecolor": "white",
           "ticks": "",
           "title": {
            "standoff": 15
           },
           "zerolinecolor": "white",
           "zerolinewidth": 2
          },
          "yaxis": {
           "automargin": true,
           "gridcolor": "white",
           "linecolor": "white",
           "ticks": "",
           "title": {
            "standoff": 15
           },
           "zerolinecolor": "white",
           "zerolinewidth": 2
          }
         }
        },
        "width": 900,
        "xaxis": {
         "anchor": "y",
         "autorange": true,
         "domain": [
          0,
          0.94
         ],
         "gridcolor": "#0d292f",
         "nticks": 5,
         "range": [
          -0.5,
          39.5
         ],
         "rangeslider": {
          "visible": false,
          "yaxis": {},
          "yaxis2": {}
         },
         "type": "category"
        },
        "yaxis": {
         "anchor": "x",
         "autorange": true,
         "domain": [
          0,
          1
         ],
         "gridcolor": "#0d292f",
         "range": [
          1.133824142701691,
          1.1631039924893847
         ],
         "type": "linear"
        },
        "yaxis2": {
         "anchor": "x",
         "autorange": true,
         "gridcolor": "#0d292f",
         "overlaying": "y",
         "range": [
          19.764228599394205,
          85.20778413855645
         ],
         "side": "right",
         "type": "linear"
        }
       }
      },
      "image/png": "[encoded data removed]",
      "text/html": [
       "<div>                            <div id=\"e724b250-b8c8-4ae2-943c-13911effb6f9\" class=\"plotly-graph-div\" style=\"height:400px; width:900px;\"></div>            <script type=\"text/javascript\">                require([\"plotly\"], function(Plotly) {                    window.PLOTLYENV=window.PLOTLYENV || {};                                    if (document.getElementById(\"e724b250-b8c8-4ae2-943c-13911effb6f9\")) {                    Plotly.newPlot(                        \"e724b250-b8c8-4ae2-943c-13911effb6f9\",                        [{\"close\":[1.15118,1.15154,1.15174,1.15236,1.1518,1.15339,1.15272,1.1534,1.15319,1.15326,1.15925,1.15268,1.15244,1.14994,1.14874,1.14798,1.14848,1.14952,1.14892,1.14844,1.14934,1.1502,1.14924,1.1497,1.14912,1.15002,1.14906,1.14894,1.14853,1.14854,1.14842,1.14902,1.14877,1.14321,1.14074,1.14025,1.13992,1.1402,1.14031,1.14036],\"decreasing\":{\"fillcolor\":\"#CC2E3C\",\"line\":{\"color\":\"#ff3a4c\"}},\"high\":[1.15352,1.15193,1.15326,1.15318,1.15236,1.15362,1.15337,1.15396,1.15384,1.1539,1.16164,1.1528,1.15385,1.15022,1.15085,1.14865,1.14932,1.14974,1.14983,1.14849,1.15296,1.15182,1.15064,1.14994,1.1498,1.15028,1.15009,1.14908,1.14927,1.14938,1.14885,1.1494,1.14916,1.14328,1.14364,1.14077,1.14127,1.1404,1.14058,1.1405],\"increasing\":{\"fillcolor\":\"#24A06B\",\"line\":{\"color\":\"#2EC886\"}},\"line\":{\"width\":1},\"low\":[1.14908,1.15062,1.15169,1.15144,1.15154,1.15184,1.15252,1.15227,1.15292,1.15223,1.15879,1.15012,1.15238,1.14953,1.14782,1.14776,1.1483,1.14794,1.14698,1.14736,1.14866,1.14878,1.14666,1.14858,1.1484,1.1489,1.14904,1.14846,1.14832,1.14845,1.14822,1.14846,1.14826,1.14181,1.1404,1.1392,1.1399,1.1397,1.14014,1.1402],\"opacity\":1,\"open\":[1.15216,1.15121,1.15246,1.15178,1.15236,1.15184,1.15306,1.15232,1.15362,1.15318,1.1593,1.15066,1.15264,1.1497,1.15056,1.14782,1.14872,1.14852,1.14975,1.14832,1.15048,1.14938,1.1502,1.14858,1.14972,1.14916,1.15004,1.14862,1.1491,1.1485,1.14885,1.14846,1.149,1.14268,1.1434,1.13986,1.14124,1.13984,1.14045,1.1403],\"x\":[\"s16-05-02 14:00\",\"s16-05-02 15:00\",\"s16-05-02 17:00\",\"s16-05-02 18:00\",\"s16-05-02 19:00\",\"s16-05-02 20:00\",\"s16-05-02 21:00\",\"s16-05-03 00:00\",\"s16-05-03 03:00\",\"s16-05-03 04:00\",\"s16-05-03 08:00\",\"s16-05-03 16:00\",\"s16-05-03 17:00\",\"s16-05-03 22:00\",\"s16-05-04 01:00\",\"s16-05-04 03:00\",\"s16-05-04 05:00\",\"s16-05-04 06:00\",\"s16-05-04 08:00\",\"s16-05-04 10:00\",\"s16-05-04 12:00\",\"s16-05-04 13:00\",\"s16-05-04 14:00\",\"s16-05-04 16:00\",\"s16-05-04 17:00\",\"s16-05-04 18:00\",\"s16-05-04 19:00\",\"s16-05-04 22:00\",\"s16-05-05 00:00\",\"s16-05-05 01:00\",\"s16-05-05 04:00\",\"s16-05-05 05:00\",\"s16-05-05 06:00\",\"s16-05-05 11:00\",\"s16-05-05 13:00\",\"s16-05-05 15:00\",\"s16-05-05 17:00\",\"s16-05-05 19:00\",\"s16-05-05 21:00\",\"s16-05-05 22:00\"],\"type\":\"candlestick\"},{\"marker\":{\"color\":\"#0000FF\",\"size\":12},\"mode\":\"markers\",\"x\":[\"s16-05-02 20:00\",\"s16-05-03 00:00\",\"s16-05-03 03:00\",\"s16-05-03 16:00\",\"s16-05-03 22:00\",\"s16-05-04 01:00\",\"s16-05-04 06:00\",\"s16-05-04 08:00\",\"s16-05-04 22:00\",\"s16-05-05 00:00\",\"s16-05-05 04:00\",\"s16-05-05 13:00\",\"s16-05-05 19:00\"],\"y\":[1.15339,1.1534,1.15319,1.15268,1.14994,1.14874,1.14952,1.14892,1.14894,1.14853,1.14842,1.14074,1.1402],\"type\":\"scatter\"},{\"line\":{\"shape\":\"spline\",\"width\":2},\"name\":\"EMA_200\",\"x\":[\"s16-05-02 14:00\",\"s16-05-02 15:00\",\"s16-05-02 17:00\",\"s16-05-02 18:00\",\"s16-05-02 19:00\",\"s16-05-02 20:00\",\"s16-05-02 21:00\",\"s16-05-03 00:00\",\"s16-05-03 03:00\",\"s16-05-03 04:00\",\"s16-05-03 08:00\",\"s16-05-03 16:00\",\"s16-05-03 17:00\",\"s16-05-03 22:00\",\"s16-05-04 01:00\",\"s16-05-04 03:00\",\"s16-05-04 05:00\",\"s16-05-04 06:00\",\"s16-05-04 08:00\",\"s16-05-04 10:00\",\"s16-05-04 12:00\",\"s16-05-04 13:00\",\"s16-05-04 14:00\",\"s16-05-04 16:00\",\"s16-05-04 17:00\",\"s16-05-04 18:00\",\"s16-05-04 19:00\",\"s16-05-04 22:00\",\"s16-05-05 00:00\",\"s16-05-05 01:00\",\"s16-05-05 04:00\",\"s16-05-05 05:00\",\"s16-05-05 06:00\",\"s16-05-05 11:00\",\"s16-05-05 13:00\",\"s16-05-05 15:00\",\"s16-05-05 17:00\",\"s16-05-05 19:00\",\"s16-05-05 21:00\",\"s16-05-05 22:00\"],\"y\":[1.1352881351910757,1.1354522091152845,1.1357861462829622,1.1359533986534611,1.1361132895150259,1.1362875857130172,1.1364533413068028,1.1369433796356239,1.1374382019012104,1.1375976498692053,1.1383837278604647,1.139665322383566,1.1397938614905772,1.1403031908454588,1.14058643749134,1.1407329343782928,1.140890650049293,1.140977360030248,1.1411443104057224,1.1412885515463476,1.1414611926250509,1.1415489440242967,1.1416261672955412,1.1417760350372417,1.141849753489504,1.141931758932699,1.1420032994684914,1.1422037974023616,1.1423357559846923,1.1423979917787266,1.1425852783545958,1.1426498055322407,1.1427111738722104,1.142764085580321,1.1427503084306019,1.1426961830022657,1.1426535268219238,1.1426012416327438,1.1425576525215915,1.142535641411878],\"type\":\"scatter\",\"xaxis\":\"x\",\"yaxis\":\"y\"},{\"line\":{\"shape\":\"spline\",\"width\":2},\"name\":\"RSI_14\",\"x\":[\"s16-05-02 14:00\",\"s16-05-02 15:00\",\"s16-05-02 17:00\",\"s16-05-02 18:00\",\"s16-05-02 19:00\",\"s16-05-02 20:00\",\"s16-05-02 21:00\",\"s16-05-03 00:00\",\"s16-05-03 03:00\",\"s16-05-03 04:00\",\"s16-05-03 08:00\",\"s16-05-03 16:00\",\"s16-05-03 17:00\",\"s16-05-03 22:00\",\"s16-05-04 01:00\",\"s16-05-04 03:00\",\"s16-05-04 05:00\",\"s16-05-04 06:00\",\"s16-05-04 08:00\",\"s16-05-04 10:00\",\"s16-05-04 12:00\",\"s16-05-04 13:00\",\"s16-05-04 14:00\",\"s16-05-04 16:00\",\"s16-05-04 17:00\",\"s16-05-04 18:00\",\"s16-05-04 19:00\",\"s16-05-04 22:00\",\"s16-05-05 00:00\",\"s16-05-05 01:00\",\"s16-05-05 04:00\",\"s16-05-05 05:00\",\"s16-05-05 06:00\",\"s16-05-05 11:00\",\"s16-05-05 13:00\",\"s16-05-05 15:00\",\"s16-05-05 17:00\",\"s16-05-05 19:00\",\"s16-05-05 21:00\",\"s16-05-05 22:00\"],\"y\":[73.47845030529572,74.32863392715382,71.68414665510028,73.27987650910272,69.47168675448523,73.65753969552011,69.342890791078,70.18690614236793,67.3637346606375,67.63156124591684,81.93560636159833,47.92614183757096,47.12667178514976,40.04077655100715,36.80798616797332,34.91286150984388,38.317588812387605,44.02950618247747,41.725607299464336,40.17632616437114,45.98864851284315,49.94332748188734,45.90293024919179,48.63120808460171,46.22942850250752,50.328840671617215,46.27611478693897,46.275008195919874,44.366546759417375,44.42863724985027,43.87140849252359,48.15760718740189,46.56211636961804,28.124605622787783,23.036406376352318,24.184722577683047,27.1208644958095,29.246715310149227,30.743208851655297,31.116188157569994],\"type\":\"scatter\",\"xaxis\":\"x\",\"yaxis\":\"y2\"}],                        {\"template\":{\"data\":{\"histogram2dcontour\":[{\"type\":\"histogram2dcontour\",\"colorbar\":{\"outlinewidth\":0,\"ticks\":\"\"},\"colorscale\":[[0.0,\"#0d0887\"],[0.1111111111111111,\"#46039f\"],[0.2222222222222222,\"#7201a8\"],[0.3333333333333333,\"#9c179e\"],[0.4444444444444444,\"#bd3786\"],[0.5555555555555556,\"#d8576b\"],[0.6666666666666666,\"#ed7953\"],[0.7777777777777778,\"#fb9f3a\"],[0.8888888888888888,\"#fdca26\"],[1.0,\"#f0f921\"]]}],\"choropleth\":[{\"type\":\"choropleth\",\"colorbar\":{\"outlinewidth\":0,\"ticks\":\"\"}}],\"histogram2d\":[{\"type\":\"histogram2d\",\"colorbar\":{\"outlinewidth\":0,\"ticks\":\"\"},\"colorscale\":[[0.0,\"#0d0887\"],[0.1111111111111111,\"#46039f\"],[0.2222222222222222,\"#7201a8\"],[0.3333333333333333,\"#9c179e\"],[0.4444444444444444,\"#bd3786\"],[0.5555555555555556,\"#d8576b\"],[0.6666666666666666,\"#ed7953\"],[0.7777777777777778,\"#fb9f3a\"],[0.8888888888888888,\"#fdca26\"],[1.0,\"#f0f921\"]]}],\"heatmap\":[{\"type\":\"heatmap\",\"colorbar\":{\"outlinewidth\":0,\"ticks\":\"\"},\"colorscale\":[[0.0,\"#0d0887\"],[0.1111111111111111,\"#46039f\"],[0.2222222222222222,\"#7201a8\"],[0.3333333333333333,\"#9c179e\"],[0.4444444444444444,\"#bd3786\"],[0.5555555555555556,\"#d8576b\"],[0.6666666666666666,\"#ed7953\"],[0.7777777777777778,\"#fb9f3a\"],[0.8888888888888888,\"#fdca26\"],[1.0,\"#f0f921\"]]}],\"heatmapgl\":[{\"type\":\"heatmapgl\",\"colorbar\":{\"outlinewidth\":0,\"ticks\":\"\"},\"colorscale\":[[0.0,\"#0d0887\"],[0.1111111111111111,\"#46039f\"],[0.2222222222222222,\"#7201a8\"],[0.3333333333333333,\"#9c179e\"],[0.4444444444444444,\"#bd3786\"],[0.5555555555555556,\"#d8576b\"],[0.6666666666666666,\"#ed7953\"],[0.7777777777777778,\"#fb9f3a\"],[0.8888888888888888,\"#fdca26\"],[1.0,\"#f0f921\"]]}],\"contourcarpet\":[{\"type\":\"contourcarpet\",\"colorbar\":{\"outlinewidth\":0,\"ticks\":\"\"}}],\"contour\":[{\"type\":\"contour\",\"colorbar\":{\"outlinewidth\":0,\"ticks\":\"\"},\"colorscale\":[[0.0,\"#0d0887\"],[0.1111111111111111,\"#46039f\"],[0.2222222222222222,\"#7201a8\"],[0.3333333333333333,\"#9c179e\"],[0.4444444444444444,\"#bd3786\"],[0.5555555555555556,\"#d8576b\"],[0.6666666666666666,\"#ed7953\"],[0.7777777777777778,\"#fb9f3a\"],[0.8888888888888888,\"#fdca26\"],[1.0,\"#f0f921\"]]}],\"surface\":[{\"type\":\"surface\",\"colorbar\":{\"outlinewidth\":0,\"ticks\":\"\"},\"colorscale\":[[0.0,\"#0d0887\"],[0.1111111111111111,\"#46039f\"],[0.2222222222222222,\"#7201a8\"],[0.3333333333333333,\"#9c179e\"],[0.4444444444444444,\"#bd3786\"],[0.5555555555555556,\"#d8576b\"],[0.6666666666666666,\"#ed7953\"],[0.7777777777777778,\"#fb9f3a\"],[0.8888888888888888,\"#fdca26\"],[1.0,\"#f0f921\"]]}],\"mesh3d\":[{\"type\":\"mesh3d\",\"colorbar\":{\"outlinewidth\":0,\"ticks\":\"\"}}],\"scatter\":[{\"fillpattern\":{\"fillmode\":\"overlay\",\"size\":10,\"solidity\":0.2},\"type\":\"scatter\"}],\"parcoords\":[{\"type\":\"parcoords\",\"line\":{\"colorbar\":{\"outlinewidth\":0,\"ticks\":\"\"}}}],\"scatterpolargl\":[{\"type\":\"scatterpolargl\",\"marker\":{\"colorbar\":{\"outlinewidth\":0,\"ticks\":\"\"}}}],\"bar\":[{\"error_x\":{\"color\":\"#2a3f5f\"},\"error_y\":{\"color\":\"#2a3f5f\"},\"marker\":{\"line\":{\"color\":\"#E5ECF6\",\"width\":0.5},\"pattern\":{\"fillmode\":\"overlay\",\"size\":10,\"solidity\":0.2}},\"type\":\"bar\"}],\"scattergeo\":[{\"type\":\"scattergeo\",\"marker\":{\"colorbar\":{\"outlinewidth\":0,\"ticks\":\"\"}}}],\"scatterpolar\":[{\"type\":\"scatterpolar\",\"marker\":{\"colorbar\":{\"outlinewidth\":0,\"ticks\":\"\"}}}],\"histogram\":[{\"marker\":{\"pattern\":{\"fillmode\":\"overlay\",\"size\":10,\"solidity\":0.2}},\"type\":\"histogram\"}],\"scattergl\":[{\"type\":\"scattergl\",\"marker\":{\"colorbar\":{\"outlinewidth\":0,\"ticks\":\"\"}}}],\"scatter3d\":[{\"type\":\"scatter3d\",\"line\":{\"colorbar\":{\"outlinewidth\":0,\"ticks\":\"\"}},\"marker\":{\"colorbar\":{\"outlinewidth\":0,\"ticks\":\"\"}}}],\"scattermapbox\":[{\"type\":\"scattermapbox\",\"marker\":{\"colorbar\":{\"outlinewidth\":0,\"ticks\":\"\"}}}],\"scatterternary\":[{\"type\":\"scatterternary\",\"marker\":{\"colorbar\":{\"outlinewidth\":0,\"ticks\":\"\"}}}],\"scattercarpet\":[{\"type\":\"scattercarpet\",\"marker\":{\"colorbar\":{\"outlinewidth\":0,\"ticks\":\"\"}}}],\"carpet\":[{\"aaxis\":{\"endlinecolor\":\"#2a3f5f\",\"gridcolor\":\"white\",\"linecolor\":\"white\",\"minorgridcolor\":\"white\",\"startlinecolor\":\"#2a3f5f\"},\"baxis\":{\"endlinecolor\":\"#2a3f5f\",\"gridcolor\":\"white\",\"linecolor\":\"white\",\"minorgridcolor\":\"white\",\"startlinecolor\":\"#2a3f5f\"},\"type\":\"carpet\"}],\"table\":[{\"cells\":{\"fill\":{\"color\":\"#EBF0F8\"},\"line\":{\"color\":\"white\"}},\"header\":{\"fill\":{\"color\":\"#C8D4E3\"},\"line\":{\"color\":\"white\"}},\"type\":\"table\"}],\"barpolar\":[{\"marker\":{\"line\":{\"color\":\"#E5ECF6\",\"width\":0.5},\"pattern\":{\"fillmode\":\"overlay\",\"size\":10,\"solidity\":0.2}},\"type\":\"barpolar\"}],\"pie\":[{\"automargin\":true,\"type\":\"pie\"}]},\"layout\":{\"autotypenumbers\":\"strict\",\"colorway\":[\"#636efa\",\"#EF553B\",\"#00cc96\",\"#ab63fa\",\"#FFA15A\",\"#19d3f3\",\"#FF6692\",\"#B6E880\",\"#FF97FF\",\"#FECB52\"],\"font\":{\"color\":\"#2a3f5f\"},\"hovermode\":\"closest\",\"hoverlabel\":{\"align\":\"left\"},\"paper_bgcolor\":\"white\",\"plot_bgcolor\":\"#E5ECF6\",\"polar\":{\"bgcolor\":\"#E5ECF6\",\"angularaxis\":{\"gridcolor\":\"white\",\"linecolor\":\"white\",\"ticks\":\"\"},\"radialaxis\":{\"gridcolor\":\"white\",\"linecolor\":\"white\",\"ticks\":\"\"}},\"ternary\":{\"bgcolor\":\"#E5ECF6\",\"aaxis\":{\"gridcolor\":\"white\",\"linecolor\":\"white\",\"ticks\":\"\"},\"baxis\":{\"gridcolor\":\"white\",\"linecolor\":\"white\",\"ticks\":\"\"},\"caxis\":{\"gridcolor\":\"white\",\"linecolor\":\"white\",\"ticks\":\"\"}},\"coloraxis\":{\"colorbar\":{\"outlinewidth\":0,\"ticks\":\"\"}},\"colorscale\":{\"sequential\":[[0.0,\"#0d0887\"],[0.1111111111111111,\"#46039f\"],[0.2222222222222222,\"#7201a8\"],[0.3333333333333333,\"#9c179e\"],[0.4444444444444444,\"#bd3786\"],[0.5555555555555556,\"#d8576b\"],[0.6666666666666666,\"#ed7953\"],[0.7777777777777778,\"#fb9f3a\"],[0.8888888888888888,\"#fdca26\"],[1.0,\"#f0f921\"]],\"sequentialminus\":[[0.0,\"#0d0887\"],[0.1111111111111111,\"#46039f\"],[0.2222222222222222,\"#7201a8\"],[0.3333333333333333,\"#9c179e\"],[0.4444444444444444,\"#bd3786\"],[0.5555555555555556,\"#d8576b\"],[0.6666666666666666,\"#ed7953\"],[0.7777777777777778,\"#fb9f3a\"],[0.8888888888888888,\"#fdca26\"],[1.0,\"#f0f921\"]],\"diverging\":[[0,\"#8e0152\"],[0.1,\"#c51b7d\"],[0.2,\"#de77ae\"],[0.3,\"#f1b6da\"],[0.4,\"#fde0ef\"],[0.5,\"#f7f7f7\"],[0.6,\"#e6f5d0\"],[0.7,\"#b8e186\"],[0.8,\"#7fbc41\"],[0.9,\"#4d9221\"],[1,\"#276419\"]]},\"xaxis\":{\"gridcolor\":\"white\",\"linecolor\":\"white\",\"ticks\":\"\",\"title\":{\"standoff\":15},\"zerolinecolor\":\"white\",\"automargin\":true,\"zerolinewidth\":2},\"yaxis\":{\"gridcolor\":\"white\",\"linecolor\":\"white\",\"ticks\":\"\",\"title\":{\"standoff\":15},\"zerolinecolor\":\"white\",\"automargin\":true,\"zerolinewidth\":2},\"scene\":{\"xaxis\":{\"backgroundcolor\":\"#E5ECF6\",\"gridcolor\":\"white\",\"linecolor\":\"white\",\"showbackground\":true,\"ticks\":\"\",\"zerolinecolor\":\"white\",\"gridwidth\":2},\"yaxis\":{\"backgroundcolor\":\"#E5ECF6\",\"gridcolor\":\"white\",\"linecolor\":\"white\",\"showbackground\":true,\"ticks\":\"\",\"zerolinecolor\":\"white\",\"gridwidth\":2},\"zaxis\":{\"backgroundcolor\":\"#E5ECF6\",\"gridcolor\":\"white\",\"linecolor\":\"white\",\"showbackground\":true,\"ticks\":\"\",\"zerolinecolor\":\"white\",\"gridwidth\":2}},\"shapedefaults\":{\"line\":{\"color\":\"#2a3f5f\"}},\"annotationdefaults\":{\"arrowcolor\":\"#2a3f5f\",\"arrowhead\":0,\"arrowwidth\":1},\"geo\":{\"bgcolor\":\"white\",\"landcolor\":\"#E5ECF6\",\"subunitcolor\":\"white\",\"showland\":true,\"showlakes\":true,\"lakecolor\":\"white\"},\"title\":{\"x\":0.05},\"mapbox\":{\"style\":\"light\"}}},\"xaxis\":{\"anchor\":\"y\",\"domain\":[0.0,0.94],\"rangeslider\":{\"visible\":false},\"gridcolor\":\"#0d292f\",\"nticks\":5},\"yaxis\":{\"anchor\":\"x\",\"domain\":[0.0,1.0],\"gridcolor\":\"#0d292f\"},\"yaxis2\":{\"anchor\":\"x\",\"overlaying\":\"y\",\"side\":\"right\",\"gridcolor\":\"#0d292f\"},\"margin\":{\"l\":10,\"r\":10,\"b\":10,\"t\":10},\"width\":900,\"height\":400,\"plot_bgcolor\":\"#2c303c\"},                        {\"responsive\": true}                    ).then(function(){\n",
       "                            \n",
       "var gd = document.getElementById('e724b250-b8c8-4ae2-943c-13911effb6f9');\n",
       "var x = new MutationObserver(function (mutations, observer) {{\n",
       "        var display = window.getComputedStyle(gd).display;\n",
       "        if (!display || display === 'none') {{\n",
       "            console.log([gd, 'removed!']);\n",
       "            Plotly.purge(gd);\n",
       "            observer.disconnect();\n",
       "        }}\n",
       "}});\n",
       "\n",
       "// Listen for the removal of the full notebook cells\n",
       "var notebookContainer = gd.closest('#notebook-container');\n",
       "if (notebookContainer) {{\n",
       "    x.observe(notebookContainer, {childList: true});\n",
       "}}\n",
       "\n",
       "// Listen for the clearing of the current output cell\n",
       "var outputEl = gd.closest('.output');\n",
       "if (outputEl) {{\n",
       "    x.observe(outputEl, {childList: true});\n",
       "}}\n",
       "\n",
       "                        })                };                });            </script>        </div>"
      ]
     },
     "metadata": {},
     "output_type": "display_data"
    },
    {
     "data": {
      "application/vnd.plotly.v1+json": {
       "config": {
        "plotlyServerURL": "https://plot.ly"
       },
       "data": [
        {
         "close": [
          1.15118,
          1.15154,
          1.15174,
          1.15236,
          1.1518,
          1.15339,
          1.15272,
          1.1534,
          1.15319,
          1.15326,
          1.15925,
          1.15268,
          1.15244,
          1.14994,
          1.14874,
          1.14798,
          1.14848,
          1.14952,
          1.14892,
          1.14844,
          1.14934,
          1.1502,
          1.14924,
          1.1497,
          1.14912,
          1.15002,
          1.14906,
          1.14894,
          1.14853,
          1.14854,
          1.14842,
          1.14902,
          1.14877,
          1.14321,
          1.14074,
          1.14025,
          1.13992,
          1.1402,
          1.14031,
          1.14036
         ],
         "decreasing": {
          "fillcolor": "#CC2E3C",
          "line": {
           "color": "#ff3a4c"
          }
         },
         "high": [
          1.15352,
          1.15193,
          1.15326,
          1.15318,
          1.15236,
          1.15362,
          1.15337,
          1.15396,
          1.15384,
          1.1539,
          1.16164,
          1.1528,
          1.15385,
          1.15022,
          1.15085,
          1.14865,
          1.14932,
          1.14974,
          1.14983,
          1.14849,
          1.15296,
          1.15182,
          1.15064,
          1.14994,
          1.1498,
          1.15028,
          1.15009,
          1.14908,
          1.14927,
          1.14938,
          1.14885,
          1.1494,
          1.14916,
          1.14328,
          1.14364,
          1.14077,
          1.14127,
          1.1404,
          1.14058,
          1.1405
         ],
         "increasing": {
          "fillcolor": "#24A06B",
          "line": {
           "color": "#2EC886"
          }
         },
         "line": {
          "width": 1
         },
         "low": [
          1.14908,
          1.15062,
          1.15169,
          1.15144,
          1.15154,
          1.15184,
          1.15252,
          1.15227,
          1.15292,
          1.15223,
          1.15879,
          1.15012,
          1.15238,
          1.14953,
          1.14782,
          1.14776,
          1.1483,
          1.14794,
          1.14698,
          1.14736,
          1.14866,
          1.14878,
          1.14666,
          1.14858,
          1.1484,
          1.1489,
          1.14904,
          1.14846,
          1.14832,
          1.14845,
          1.14822,
          1.14846,
          1.14826,
          1.14181,
          1.1404,
          1.1392,
          1.1399,
          1.1397,
          1.14014,
          1.1402
         ],
         "opacity": 1,
         "open": [
          1.15216,
          1.15121,
          1.15246,
          1.15178,
          1.15236,
          1.15184,
          1.15306,
          1.15232,
          1.15362,
          1.15318,
          1.1593,
          1.15066,
          1.15264,
          1.1497,
          1.15056,
          1.14782,
          1.14872,
          1.14852,
          1.14975,
          1.14832,
          1.15048,
          1.14938,
          1.1502,
          1.14858,
          1.14972,
          1.14916,
          1.15004,
          1.14862,
          1.1491,
          1.1485,
          1.14885,
          1.14846,
          1.149,
          1.14268,
          1.1434,
          1.13986,
          1.14124,
          1.13984,
          1.14045,
          1.1403
         ],
         "type": "candlestick",
         "x": [
          "s16-05-02 14:00",
          "s16-05-02 15:00",
          "s16-05-02 17:00",
          "s16-05-02 18:00",
          "s16-05-02 19:00",
          "s16-05-02 20:00",
          "s16-05-02 21:00",
          "s16-05-03 00:00",
          "s16-05-03 03:00",
          "s16-05-03 04:00",
          "s16-05-03 08:00",
          "s16-05-03 16:00",
          "s16-05-03 17:00",
          "s16-05-03 22:00",
          "s16-05-04 01:00",
          "s16-05-04 03:00",
          "s16-05-04 05:00",
          "s16-05-04 06:00",
          "s16-05-04 08:00",
          "s16-05-04 10:00",
          "s16-05-04 12:00",
          "s16-05-04 13:00",
          "s16-05-04 14:00",
          "s16-05-04 16:00",
          "s16-05-04 17:00",
          "s16-05-04 18:00",
          "s16-05-04 19:00",
          "s16-05-04 22:00",
          "s16-05-05 00:00",
          "s16-05-05 01:00",
          "s16-05-05 04:00",
          "s16-05-05 05:00",
          "s16-05-05 06:00",
          "s16-05-05 11:00",
          "s16-05-05 13:00",
          "s16-05-05 15:00",
          "s16-05-05 17:00",
          "s16-05-05 19:00",
          "s16-05-05 21:00",
          "s16-05-05 22:00"
         ]
        },
        {
         "marker": {
          "color": "#0000FF",
          "size": 12
         },
         "mode": "markers",
         "type": "scatter",
         "x": [
          "s16-05-02 20:00",
          "s16-05-03 00:00",
          "s16-05-03 03:00",
          "s16-05-03 16:00",
          "s16-05-03 22:00",
          "s16-05-04 01:00",
          "s16-05-04 06:00",
          "s16-05-04 08:00",
          "s16-05-04 22:00",
          "s16-05-05 00:00",
          "s16-05-05 04:00",
          "s16-05-05 13:00",
          "s16-05-05 19:00"
         ],
         "y": [
          1.15339,
          1.1534,
          1.15319,
          1.15268,
          1.14994,
          1.14874,
          1.14952,
          1.14892,
          1.14894,
          1.14853,
          1.14842,
          1.14074,
          1.1402
         ]
        },
        {
         "line": {
          "shape": "spline",
          "width": 2
         },
         "name": "EMA_200",
         "type": "scatter",
         "x": [
          "s16-05-02 14:00",
          "s16-05-02 15:00",
          "s16-05-02 17:00",
          "s16-05-02 18:00",
          "s16-05-02 19:00",
          "s16-05-02 20:00",
          "s16-05-02 21:00",
          "s16-05-03 00:00",
          "s16-05-03 03:00",
          "s16-05-03 04:00",
          "s16-05-03 08:00",
          "s16-05-03 16:00",
          "s16-05-03 17:00",
          "s16-05-03 22:00",
          "s16-05-04 01:00",
          "s16-05-04 03:00",
          "s16-05-04 05:00",
          "s16-05-04 06:00",
          "s16-05-04 08:00",
          "s16-05-04 10:00",
          "s16-05-04 12:00",
          "s16-05-04 13:00",
          "s16-05-04 14:00",
          "s16-05-04 16:00",
          "s16-05-04 17:00",
          "s16-05-04 18:00",
          "s16-05-04 19:00",
          "s16-05-04 22:00",
          "s16-05-05 00:00",
          "s16-05-05 01:00",
          "s16-05-05 04:00",
          "s16-05-05 05:00",
          "s16-05-05 06:00",
          "s16-05-05 11:00",
          "s16-05-05 13:00",
          "s16-05-05 15:00",
          "s16-05-05 17:00",
          "s16-05-05 19:00",
          "s16-05-05 21:00",
          "s16-05-05 22:00"
         ],
         "xaxis": "x",
         "y": [
          1.1352881351910757,
          1.1354522091152845,
          1.1357861462829622,
          1.1359533986534611,
          1.1361132895150259,
          1.1362875857130172,
          1.1364533413068028,
          1.1369433796356239,
          1.1374382019012104,
          1.1375976498692053,
          1.1383837278604647,
          1.139665322383566,
          1.1397938614905772,
          1.1403031908454588,
          1.14058643749134,
          1.1407329343782928,
          1.140890650049293,
          1.140977360030248,
          1.1411443104057224,
          1.1412885515463476,
          1.1414611926250509,
          1.1415489440242967,
          1.1416261672955412,
          1.1417760350372417,
          1.141849753489504,
          1.141931758932699,
          1.1420032994684914,
          1.1422037974023616,
          1.1423357559846923,
          1.1423979917787266,
          1.1425852783545958,
          1.1426498055322407,
          1.1427111738722104,
          1.142764085580321,
          1.1427503084306019,
          1.1426961830022657,
          1.1426535268219238,
          1.1426012416327438,
          1.1425576525215915,
          1.142535641411878
         ],
         "yaxis": "y"
        },
        {
         "line": {
          "shape": "spline",
          "width": 2
         },
         "name": "RSI_14",
         "type": "scatter",
         "x": [
          "s16-05-02 14:00",
          "s16-05-02 15:00",
          "s16-05-02 17:00",
          "s16-05-02 18:00",
          "s16-05-02 19:00",
          "s16-05-02 20:00",
          "s16-05-02 21:00",
          "s16-05-03 00:00",
          "s16-05-03 03:00",
          "s16-05-03 04:00",
          "s16-05-03 08:00",
          "s16-05-03 16:00",
          "s16-05-03 17:00",
          "s16-05-03 22:00",
          "s16-05-04 01:00",
          "s16-05-04 03:00",
          "s16-05-04 05:00",
          "s16-05-04 06:00",
          "s16-05-04 08:00",
          "s16-05-04 10:00",
          "s16-05-04 12:00",
          "s16-05-04 13:00",
          "s16-05-04 14:00",
          "s16-05-04 16:00",
          "s16-05-04 17:00",
          "s16-05-04 18:00",
          "s16-05-04 19:00",
          "s16-05-04 22:00",
          "s16-05-05 00:00",
          "s16-05-05 01:00",
          "s16-05-05 04:00",
          "s16-05-05 05:00",
          "s16-05-05 06:00",
          "s16-05-05 11:00",
          "s16-05-05 13:00",
          "s16-05-05 15:00",
          "s16-05-05 17:00",
          "s16-05-05 19:00",
          "s16-05-05 21:00",
          "s16-05-05 22:00"
         ],
         "xaxis": "x",
         "y": [
          73.47845030529572,
          74.32863392715382,
          71.68414665510028,
          73.27987650910272,
          69.47168675448523,
          73.65753969552011,
          69.342890791078,
          70.18690614236793,
          67.3637346606375,
          67.63156124591684,
          81.93560636159833,
          47.92614183757096,
          47.12667178514976,
          40.04077655100715,
          36.80798616797332,
          34.91286150984388,
          38.317588812387605,
          44.02950618247747,
          41.725607299464336,
          40.17632616437114,
          45.98864851284315,
          49.94332748188734,
          45.90293024919179,
          48.63120808460171,
          46.22942850250752,
          50.328840671617215,
          46.27611478693897,
          46.275008195919874,
          44.366546759417375,
          44.42863724985027,
          43.87140849252359,
          48.15760718740189,
          46.56211636961804,
          28.124605622787783,
          23.036406376352318,
          24.184722577683047,
          27.1208644958095,
          29.246715310149227,
          30.743208851655297,
          31.116188157569994
         ],
         "yaxis": "y2"
        },
        {
         "marker": {
          "color": "#00FF00",
          "size": 12
         },
         "mode": "markers",
         "type": "scatter",
         "x": [
          "s16-05-02 20:00",
          "s16-05-03 00:00",
          "s16-05-03 03:00",
          "s16-05-03 16:00",
          "s16-05-03 22:00",
          "s16-05-04 01:00",
          "s16-05-04 06:00",
          "s16-05-04 08:00",
          "s16-05-04 22:00",
          "s16-05-05 00:00",
          "s16-05-05 04:00",
          "s16-05-05 13:00",
          "s16-05-05 19:00"
         ],
         "y": [
          1.1557149999999998,
          1.15502,
          1.1525449999999997,
          1.1557099999999998,
          1.1503,
          1.1460100000000002,
          1.1510200000000004,
          1.1476749999999998,
          1.14942,
          1.147675,
          1.1477750000000002,
          1.1367500000000001,
          1.1407400000000003
         ]
        },
        {
         "line": {
          "shape": "spline",
          "width": 2
         },
         "name": "EMA_200",
         "type": "scatter",
         "x": [
          "s16-05-02 14:00",
          "s16-05-02 15:00",
          "s16-05-02 17:00",
          "s16-05-02 18:00",
          "s16-05-02 19:00",
          "s16-05-02 20:00",
          "s16-05-02 21:00",
          "s16-05-03 00:00",
          "s16-05-03 03:00",
          "s16-05-03 04:00",
          "s16-05-03 08:00",
          "s16-05-03 16:00",
          "s16-05-03 17:00",
          "s16-05-03 22:00",
          "s16-05-04 01:00",
          "s16-05-04 03:00",
          "s16-05-04 05:00",
          "s16-05-04 06:00",
          "s16-05-04 08:00",
          "s16-05-04 10:00",
          "s16-05-04 12:00",
          "s16-05-04 13:00",
          "s16-05-04 14:00",
          "s16-05-04 16:00",
          "s16-05-04 17:00",
          "s16-05-04 18:00",
          "s16-05-04 19:00",
          "s16-05-04 22:00",
          "s16-05-05 00:00",
          "s16-05-05 01:00",
          "s16-05-05 04:00",
          "s16-05-05 05:00",
          "s16-05-05 06:00",
          "s16-05-05 11:00",
          "s16-05-05 13:00",
          "s16-05-05 15:00",
          "s16-05-05 17:00",
          "s16-05-05 19:00",
          "s16-05-05 21:00",
          "s16-05-05 22:00"
         ],
         "xaxis": "x",
         "y": [
          1.1352881351910757,
          1.1354522091152845,
          1.1357861462829622,
          1.1359533986534611,
          1.1361132895150259,
          1.1362875857130172,
          1.1364533413068028,
          1.1369433796356239,
          1.1374382019012104,
          1.1375976498692053,
          1.1383837278604647,
          1.139665322383566,
          1.1397938614905772,
          1.1403031908454588,
          1.14058643749134,
          1.1407329343782928,
          1.140890650049293,
          1.140977360030248,
          1.1411443104057224,
          1.1412885515463476,
          1.1414611926250509,
          1.1415489440242967,
          1.1416261672955412,
          1.1417760350372417,
          1.141849753489504,
          1.141931758932699,
          1.1420032994684914,
          1.1422037974023616,
          1.1423357559846923,
          1.1423979917787266,
          1.1425852783545958,
          1.1426498055322407,
          1.1427111738722104,
          1.142764085580321,
          1.1427503084306019,
          1.1426961830022657,
          1.1426535268219238,
          1.1426012416327438,
          1.1425576525215915,
          1.142535641411878
         ],
         "yaxis": "y"
        },
        {
         "line": {
          "shape": "spline",
          "width": 2
         },
         "name": "RSI_14",
         "type": "scatter",
         "x": [
          "s16-05-02 14:00",
          "s16-05-02 15:00",
          "s16-05-02 17:00",
          "s16-05-02 18:00",
          "s16-05-02 19:00",
          "s16-05-02 20:00",
          "s16-05-02 21:00",
          "s16-05-03 00:00",
          "s16-05-03 03:00",
          "s16-05-03 04:00",
          "s16-05-03 08:00",
          "s16-05-03 16:00",
          "s16-05-03 17:00",
          "s16-05-03 22:00",
          "s16-05-04 01:00",
          "s16-05-04 03:00",
          "s16-05-04 05:00",
          "s16-05-04 06:00",
          "s16-05-04 08:00",
          "s16-05-04 10:00",
          "s16-05-04 12:00",
          "s16-05-04 13:00",
          "s16-05-04 14:00",
          "s16-05-04 16:00",
          "s16-05-04 17:00",
          "s16-05-04 18:00",
          "s16-05-04 19:00",
          "s16-05-04 22:00",
          "s16-05-05 00:00",
          "s16-05-05 01:00",
          "s16-05-05 04:00",
          "s16-05-05 05:00",
          "s16-05-05 06:00",
          "s16-05-05 11:00",
          "s16-05-05 13:00",
          "s16-05-05 15:00",
          "s16-05-05 17:00",
          "s16-05-05 19:00",
          "s16-05-05 21:00",
          "s16-05-05 22:00"
         ],
         "xaxis": "x",
         "y": [
          73.47845030529572,
          74.32863392715382,
          71.68414665510028,
          73.27987650910272,
          69.47168675448523,
          73.65753969552011,
          69.342890791078,
          70.18690614236793,
          67.3637346606375,
          67.63156124591684,
          81.93560636159833,
          47.92614183757096,
          47.12667178514976,
          40.04077655100715,
          36.80798616797332,
          34.91286150984388,
          38.317588812387605,
          44.02950618247747,
          41.725607299464336,
          40.17632616437114,
          45.98864851284315,
          49.94332748188734,
          45.90293024919179,
          48.63120808460171,
          46.22942850250752,
          50.328840671617215,
          46.27611478693897,
          46.275008195919874,
          44.366546759417375,
          44.42863724985027,
          43.87140849252359,
          48.15760718740189,
          46.56211636961804,
          28.124605622787783,
          23.036406376352318,
          24.184722577683047,
          27.1208644958095,
          29.246715310149227,
          30.743208851655297,
          31.116188157569994
         ],
         "yaxis": "y2"
        }
       ],
       "layout": {
        "height": 400,
        "margin": {
         "b": 10,
         "l": 10,
         "r": 10,
         "t": 10
        },
        "plot_bgcolor": "#2c303c",
        "template": {
         "data": {
          "bar": [
           {
            "error_x": {
             "color": "#2a3f5f"
            },
            "error_y": {
             "color": "#2a3f5f"
            },
            "marker": {
             "line": {
              "color": "#E5ECF6",
              "width": 0.5
             },
             "pattern": {
              "fillmode": "overlay",
              "size": 10,
              "solidity": 0.2
             }
            },
            "type": "bar"
           }
          ],
          "barpolar": [
           {
            "marker": {
             "line": {
              "color": "#E5ECF6",
              "width": 0.5
             },
             "pattern": {
              "fillmode": "overlay",
              "size": 10,
              "solidity": 0.2
             }
            },
            "type": "barpolar"
           }
          ],
          "carpet": [
           {
            "aaxis": {
             "endlinecolor": "#2a3f5f",
             "gridcolor": "white",
             "linecolor": "white",
             "minorgridcolor": "white",
             "startlinecolor": "#2a3f5f"
            },
            "baxis": {
             "endlinecolor": "#2a3f5f",
             "gridcolor": "white",
             "linecolor": "white",
             "minorgridcolor": "white",
             "startlinecolor": "#2a3f5f"
            },
            "type": "carpet"
           }
          ],
          "choropleth": [
           {
            "colorbar": {
             "outlinewidth": 0,
             "ticks": ""
            },
            "type": "choropleth"
           }
          ],
          "contour": [
           {
            "colorbar": {
             "outlinewidth": 0,
             "ticks": ""
            },
            "colorscale": [
             [
              0,
              "#0d0887"
             ],
             [
              0.1111111111111111,
              "#46039f"
             ],
             [
              0.2222222222222222,
              "#7201a8"
             ],
             [
              0.3333333333333333,
              "#9c179e"
             ],
             [
              0.4444444444444444,
              "#bd3786"
             ],
             [
              0.5555555555555556,
              "#d8576b"
             ],
             [
              0.6666666666666666,
              "#ed7953"
             ],
             [
              0.7777777777777778,
              "#fb9f3a"
             ],
             [
              0.8888888888888888,
              "#fdca26"
             ],
             [
              1,
              "#f0f921"
             ]
            ],
            "type": "contour"
           }
          ],
          "contourcarpet": [
           {
            "colorbar": {
             "outlinewidth": 0,
             "ticks": ""
            },
            "type": "contourcarpet"
           }
          ],
          "heatmap": [
           {
            "colorbar": {
             "outlinewidth": 0,
             "ticks": ""
            },
            "colorscale": [
             [
              0,
              "#0d0887"
             ],
             [
              0.1111111111111111,
              "#46039f"
             ],
             [
              0.2222222222222222,
              "#7201a8"
             ],
             [
              0.3333333333333333,
              "#9c179e"
             ],
             [
              0.4444444444444444,
              "#bd3786"
             ],
             [
              0.5555555555555556,
              "#d8576b"
             ],
             [
              0.6666666666666666,
              "#ed7953"
             ],
             [
              0.7777777777777778,
              "#fb9f3a"
             ],
             [
              0.8888888888888888,
              "#fdca26"
             ],
             [
              1,
              "#f0f921"
             ]
            ],
            "type": "heatmap"
           }
          ],
          "heatmapgl": [
           {
            "colorbar": {
             "outlinewidth": 0,
             "ticks": ""
            },
            "colorscale": [
             [
              0,
              "#0d0887"
             ],
             [
              0.1111111111111111,
              "#46039f"
             ],
             [
              0.2222222222222222,
              "#7201a8"
             ],
             [
              0.3333333333333333,
              "#9c179e"
             ],
             [
              0.4444444444444444,
              "#bd3786"
             ],
             [
              0.5555555555555556,
              "#d8576b"
             ],
             [
              0.6666666666666666,
              "#ed7953"
             ],
             [
              0.7777777777777778,
              "#fb9f3a"
             ],
             [
              0.8888888888888888,
              "#fdca26"
             ],
             [
              1,
              "#f0f921"
             ]
            ],
            "type": "heatmapgl"
           }
          ],
          "histogram": [
           {
            "marker": {
             "pattern": {
              "fillmode": "overlay",
              "size": 10,
              "solidity": 0.2
             }
            },
            "type": "histogram"
           }
          ],
          "histogram2d": [
           {
            "colorbar": {
             "outlinewidth": 0,
             "ticks": ""
            },
            "colorscale": [
             [
              0,
              "#0d0887"
             ],
             [
              0.1111111111111111,
              "#46039f"
             ],
             [
              0.2222222222222222,
              "#7201a8"
             ],
             [
              0.3333333333333333,
              "#9c179e"
             ],
             [
              0.4444444444444444,
              "#bd3786"
             ],
             [
              0.5555555555555556,
              "#d8576b"
             ],
             [
              0.6666666666666666,
              "#ed7953"
             ],
             [
              0.7777777777777778,
              "#fb9f3a"
             ],
             [
              0.8888888888888888,
              "#fdca26"
             ],
             [
              1,
              "#f0f921"
             ]
            ],
            "type": "histogram2d"
           }
          ],
          "histogram2dcontour": [
           {
            "colorbar": {
             "outlinewidth": 0,
             "ticks": ""
            },
            "colorscale": [
             [
              0,
              "#0d0887"
             ],
             [
              0.1111111111111111,
              "#46039f"
             ],
             [
              0.2222222222222222,
              "#7201a8"
             ],
             [
              0.3333333333333333,
              "#9c179e"
             ],
             [
              0.4444444444444444,
              "#bd3786"
             ],
             [
              0.5555555555555556,
              "#d8576b"
             ],
             [
              0.6666666666666666,
              "#ed7953"
             ],
             [
              0.7777777777777778,
              "#fb9f3a"
             ],
             [
              0.8888888888888888,
              "#fdca26"
             ],
             [
              1,
              "#f0f921"
             ]
            ],
            "type": "histogram2dcontour"
           }
          ],
          "mesh3d": [
           {
            "colorbar": {
             "outlinewidth": 0,
             "ticks": ""
            },
            "type": "mesh3d"
           }
          ],
          "parcoords": [
           {
            "line": {
             "colorbar": {
              "outlinewidth": 0,
              "ticks": ""
             }
            },
            "type": "parcoords"
           }
          ],
          "pie": [
           {
            "automargin": true,
            "type": "pie"
           }
          ],
          "scatter": [
           {
            "fillpattern": {
             "fillmode": "overlay",
             "size": 10,
             "solidity": 0.2
            },
            "type": "scatter"
           }
          ],
          "scatter3d": [
           {
            "line": {
             "colorbar": {
              "outlinewidth": 0,
              "ticks": ""
             }
            },
            "marker": {
             "colorbar": {
              "outlinewidth": 0,
              "ticks": ""
             }
            },
            "type": "scatter3d"
           }
          ],
          "scattercarpet": [
           {
            "marker": {
             "colorbar": {
              "outlinewidth": 0,
              "ticks": ""
             }
            },
            "type": "scattercarpet"
           }
          ],
          "scattergeo": [
           {
            "marker": {
             "colorbar": {
              "outlinewidth": 0,
              "ticks": ""
             }
            },
            "type": "scattergeo"
           }
          ],
          "scattergl": [
           {
            "marker": {
             "colorbar": {
              "outlinewidth": 0,
              "ticks": ""
             }
            },
            "type": "scattergl"
           }
          ],
          "scattermapbox": [
           {
            "marker": {
             "colorbar": {
              "outlinewidth": 0,
              "ticks": ""
             }
            },
            "type": "scattermapbox"
           }
          ],
          "scatterpolar": [
           {
            "marker": {
             "colorbar": {
              "outlinewidth": 0,
              "ticks": ""
             }
            },
            "type": "scatterpolar"
           }
          ],
          "scatterpolargl": [
           {
            "marker": {
             "colorbar": {
              "outlinewidth": 0,
              "ticks": ""
             }
            },
            "type": "scatterpolargl"
           }
          ],
          "scatterternary": [
           {
            "marker": {
             "colorbar": {
              "outlinewidth": 0,
              "ticks": ""
             }
            },
            "type": "scatterternary"
           }
          ],
          "surface": [
           {
            "colorbar": {
             "outlinewidth": 0,
             "ticks": ""
            },
            "colorscale": [
             [
              0,
              "#0d0887"
             ],
             [
              0.1111111111111111,
              "#46039f"
             ],
             [
              0.2222222222222222,
              "#7201a8"
             ],
             [
              0.3333333333333333,
              "#9c179e"
             ],
             [
              0.4444444444444444,
              "#bd3786"
             ],
             [
              0.5555555555555556,
              "#d8576b"
             ],
             [
              0.6666666666666666,
              "#ed7953"
             ],
             [
              0.7777777777777778,
              "#fb9f3a"
             ],
             [
              0.8888888888888888,
              "#fdca26"
             ],
             [
              1,
              "#f0f921"
             ]
            ],
            "type": "surface"
           }
          ],
          "table": [
           {
            "cells": {
             "fill": {
              "color": "#EBF0F8"
             },
             "line": {
              "color": "white"
             }
            },
            "header": {
             "fill": {
              "color": "#C8D4E3"
             },
             "line": {
              "color": "white"
             }
            },
            "type": "table"
           }
          ]
         },
         "layout": {
          "annotationdefaults": {
           "arrowcolor": "#2a3f5f",
           "arrowhead": 0,
           "arrowwidth": 1
          },
          "autotypenumbers": "strict",
          "coloraxis": {
           "colorbar": {
            "outlinewidth": 0,
            "ticks": ""
           }
          },
          "colorscale": {
           "diverging": [
            [
             0,
             "#8e0152"
            ],
            [
             0.1,
             "#c51b7d"
            ],
            [
             0.2,
             "#de77ae"
            ],
            [
             0.3,
             "#f1b6da"
            ],
            [
             0.4,
             "#fde0ef"
            ],
            [
             0.5,
             "#f7f7f7"
            ],
            [
             0.6,
             "#e6f5d0"
            ],
            [
             0.7,
             "#b8e186"
            ],
            [
             0.8,
             "#7fbc41"
            ],
            [
             0.9,
             "#4d9221"
            ],
            [
             1,
             "#276419"
            ]
           ],
           "sequential": [
            [
             0,
             "#0d0887"
            ],
            [
             0.1111111111111111,
             "#46039f"
            ],
            [
             0.2222222222222222,
             "#7201a8"
            ],
            [
             0.3333333333333333,
             "#9c179e"
            ],
            [
             0.4444444444444444,
             "#bd3786"
            ],
            [
             0.5555555555555556,
             "#d8576b"
            ],
            [
             0.6666666666666666,
             "#ed7953"
            ],
            [
             0.7777777777777778,
             "#fb9f3a"
            ],
            [
             0.8888888888888888,
             "#fdca26"
            ],
            [
             1,
             "#f0f921"
            ]
           ],
           "sequentialminus": [
            [
             0,
             "#0d0887"
            ],
            [
             0.1111111111111111,
             "#46039f"
            ],
            [
             0.2222222222222222,
             "#7201a8"
            ],
            [
             0.3333333333333333,
             "#9c179e"
            ],
            [
             0.4444444444444444,
             "#bd3786"
            ],
            [
             0.5555555555555556,
             "#d8576b"
            ],
            [
             0.6666666666666666,
             "#ed7953"
            ],
            [
             0.7777777777777778,
             "#fb9f3a"
            ],
            [
             0.8888888888888888,
             "#fdca26"
            ],
            [
             1,
             "#f0f921"
            ]
           ]
          },
          "colorway": [
           "#636efa",
           "#EF553B",
           "#00cc96",
           "#ab63fa",
           "#FFA15A",
           "#19d3f3",
           "#FF6692",
           "#B6E880",
           "#FF97FF",
           "#FECB52"
          ],
          "font": {
           "color": "#2a3f5f"
          },
          "geo": {
           "bgcolor": "white",
           "lakecolor": "white",
           "landcolor": "#E5ECF6",
           "showlakes": true,
           "showland": true,
           "subunitcolor": "white"
          },
          "hoverlabel": {
           "align": "left"
          },
          "hovermode": "closest",
          "mapbox": {
           "style": "light"
          },
          "paper_bgcolor": "white",
          "plot_bgcolor": "#E5ECF6",
          "polar": {
           "angularaxis": {
            "gridcolor": "white",
            "linecolor": "white",
            "ticks": ""
           },
           "bgcolor": "#E5ECF6",
           "radialaxis": {
            "gridcolor": "white",
            "linecolor": "white",
            "ticks": ""
           }
          },
          "scene": {
           "xaxis": {
            "backgroundcolor": "#E5ECF6",
            "gridcolor": "white",
            "gridwidth": 2,
            "linecolor": "white",
            "showbackground": true,
            "ticks": "",
            "zerolinecolor": "white"
           },
           "yaxis": {
            "backgroundcolor": "#E5ECF6",
            "gridcolor": "white",
            "gridwidth": 2,
            "linecolor": "white",
            "showbackground": true,
            "ticks": "",
            "zerolinecolor": "white"
           },
           "zaxis": {
            "backgroundcolor": "#E5ECF6",
            "gridcolor": "white",
            "gridwidth": 2,
            "linecolor": "white",
            "showbackground": true,
            "ticks": "",
            "zerolinecolor": "white"
           }
          },
          "shapedefaults": {
           "line": {
            "color": "#2a3f5f"
           }
          },
          "ternary": {
           "aaxis": {
            "gridcolor": "white",
            "linecolor": "white",
            "ticks": ""
           },
           "baxis": {
            "gridcolor": "white",
            "linecolor": "white",
            "ticks": ""
           },
           "bgcolor": "#E5ECF6",
           "caxis": {
            "gridcolor": "white",
            "linecolor": "white",
            "ticks": ""
           }
          },
          "title": {
           "x": 0.05
          },
          "xaxis": {
           "automargin": true,
           "gridcolor": "white",
           "linecolor": "white",
           "ticks": "",
           "title": {
            "standoff": 15
           },
           "zerolinecolor": "white",
           "zerolinewidth": 2
          },
          "yaxis": {
           "automargin": true,
           "gridcolor": "white",
           "linecolor": "white",
           "ticks": "",
           "title": {
            "standoff": 15
           },
           "zerolinecolor": "white",
           "zerolinewidth": 2
          }
         }
        },
        "width": 900,
        "xaxis": {
         "anchor": "y",
         "autorange": true,
         "domain": [
          0,
          0.94
         ],
         "gridcolor": "#0d292f",
         "nticks": 5,
         "range": [
          -0.5,
          39.5
         ],
         "rangeslider": {
          "visible": false,
          "yaxis": {},
          "yaxis2": {}
         },
         "type": "category"
        },
        "yaxis": {
         "anchor": "x",
         "autorange": true,
         "domain": [
          0,
          1
         ],
         "gridcolor": "#0d292f",
         "range": [
          1.133824142701691,
          1.1631039924893847
         ],
         "type": "linear"
        },
        "yaxis2": {
         "anchor": "x",
         "autorange": true,
         "gridcolor": "#0d292f",
         "overlaying": "y",
         "range": [
          19.764228599394205,
          85.20778413855645
         ],
         "side": "right",
         "type": "linear"
        }
       }
      },
      "image/png": "[encoded data removed]",
      "text/html": [
       "<div>                            <div id=\"3b22b80d-a0a3-4df8-a778-d5205b9fae22\" class=\"plotly-graph-div\" style=\"height:400px; width:900px;\"></div>            <script type=\"text/javascript\">                require([\"plotly\"], function(Plotly) {                    window.PLOTLYENV=window.PLOTLYENV || {};                                    if (document.getElementById(\"3b22b80d-a0a3-4df8-a778-d5205b9fae22\")) {                    Plotly.newPlot(                        \"3b22b80d-a0a3-4df8-a778-d5205b9fae22\",                        [{\"close\":[1.15118,1.15154,1.15174,1.15236,1.1518,1.15339,1.15272,1.1534,1.15319,1.15326,1.15925,1.15268,1.15244,1.14994,1.14874,1.14798,1.14848,1.14952,1.14892,1.14844,1.14934,1.1502,1.14924,1.1497,1.14912,1.15002,1.14906,1.14894,1.14853,1.14854,1.14842,1.14902,1.14877,1.14321,1.14074,1.14025,1.13992,1.1402,1.14031,1.14036],\"decreasing\":{\"fillcolor\":\"#CC2E3C\",\"line\":{\"color\":\"#ff3a4c\"}},\"high\":[1.15352,1.15193,1.15326,1.15318,1.15236,1.15362,1.15337,1.15396,1.15384,1.1539,1.16164,1.1528,1.15385,1.15022,1.15085,1.14865,1.14932,1.14974,1.14983,1.14849,1.15296,1.15182,1.15064,1.14994,1.1498,1.15028,1.15009,1.14908,1.14927,1.14938,1.14885,1.1494,1.14916,1.14328,1.14364,1.14077,1.14127,1.1404,1.14058,1.1405],\"increasing\":{\"fillcolor\":\"#24A06B\",\"line\":{\"color\":\"#2EC886\"}},\"line\":{\"width\":1},\"low\":[1.14908,1.15062,1.15169,1.15144,1.15154,1.15184,1.15252,1.15227,1.15292,1.15223,1.15879,1.15012,1.15238,1.14953,1.14782,1.14776,1.1483,1.14794,1.14698,1.14736,1.14866,1.14878,1.14666,1.14858,1.1484,1.1489,1.14904,1.14846,1.14832,1.14845,1.14822,1.14846,1.14826,1.14181,1.1404,1.1392,1.1399,1.1397,1.14014,1.1402],\"opacity\":1,\"open\":[1.15216,1.15121,1.15246,1.15178,1.15236,1.15184,1.15306,1.15232,1.15362,1.15318,1.1593,1.15066,1.15264,1.1497,1.15056,1.14782,1.14872,1.14852,1.14975,1.14832,1.15048,1.14938,1.1502,1.14858,1.14972,1.14916,1.15004,1.14862,1.1491,1.1485,1.14885,1.14846,1.149,1.14268,1.1434,1.13986,1.14124,1.13984,1.14045,1.1403],\"x\":[\"s16-05-02 14:00\",\"s16-05-02 15:00\",\"s16-05-02 17:00\",\"s16-05-02 18:00\",\"s16-05-02 19:00\",\"s16-05-02 20:00\",\"s16-05-02 21:00\",\"s16-05-03 00:00\",\"s16-05-03 03:00\",\"s16-05-03 04:00\",\"s16-05-03 08:00\",\"s16-05-03 16:00\",\"s16-05-03 17:00\",\"s16-05-03 22:00\",\"s16-05-04 01:00\",\"s16-05-04 03:00\",\"s16-05-04 05:00\",\"s16-05-04 06:00\",\"s16-05-04 08:00\",\"s16-05-04 10:00\",\"s16-05-04 12:00\",\"s16-05-04 13:00\",\"s16-05-04 14:00\",\"s16-05-04 16:00\",\"s16-05-04 17:00\",\"s16-05-04 18:00\",\"s16-05-04 19:00\",\"s16-05-04 22:00\",\"s16-05-05 00:00\",\"s16-05-05 01:00\",\"s16-05-05 04:00\",\"s16-05-05 05:00\",\"s16-05-05 06:00\",\"s16-05-05 11:00\",\"s16-05-05 13:00\",\"s16-05-05 15:00\",\"s16-05-05 17:00\",\"s16-05-05 19:00\",\"s16-05-05 21:00\",\"s16-05-05 22:00\"],\"type\":\"candlestick\"},{\"marker\":{\"color\":\"#0000FF\",\"size\":12},\"mode\":\"markers\",\"x\":[\"s16-05-02 20:00\",\"s16-05-03 00:00\",\"s16-05-03 03:00\",\"s16-05-03 16:00\",\"s16-05-03 22:00\",\"s16-05-04 01:00\",\"s16-05-04 06:00\",\"s16-05-04 08:00\",\"s16-05-04 22:00\",\"s16-05-05 00:00\",\"s16-05-05 04:00\",\"s16-05-05 13:00\",\"s16-05-05 19:00\"],\"y\":[1.15339,1.1534,1.15319,1.15268,1.14994,1.14874,1.14952,1.14892,1.14894,1.14853,1.14842,1.14074,1.1402],\"type\":\"scatter\"},{\"line\":{\"shape\":\"spline\",\"width\":2},\"name\":\"EMA_200\",\"x\":[\"s16-05-02 14:00\",\"s16-05-02 15:00\",\"s16-05-02 17:00\",\"s16-05-02 18:00\",\"s16-05-02 19:00\",\"s16-05-02 20:00\",\"s16-05-02 21:00\",\"s16-05-03 00:00\",\"s16-05-03 03:00\",\"s16-05-03 04:00\",\"s16-05-03 08:00\",\"s16-05-03 16:00\",\"s16-05-03 17:00\",\"s16-05-03 22:00\",\"s16-05-04 01:00\",\"s16-05-04 03:00\",\"s16-05-04 05:00\",\"s16-05-04 06:00\",\"s16-05-04 08:00\",\"s16-05-04 10:00\",\"s16-05-04 12:00\",\"s16-05-04 13:00\",\"s16-05-04 14:00\",\"s16-05-04 16:00\",\"s16-05-04 17:00\",\"s16-05-04 18:00\",\"s16-05-04 19:00\",\"s16-05-04 22:00\",\"s16-05-05 00:00\",\"s16-05-05 01:00\",\"s16-05-05 04:00\",\"s16-05-05 05:00\",\"s16-05-05 06:00\",\"s16-05-05 11:00\",\"s16-05-05 13:00\",\"s16-05-05 15:00\",\"s16-05-05 17:00\",\"s16-05-05 19:00\",\"s16-05-05 21:00\",\"s16-05-05 22:00\"],\"y\":[1.1352881351910757,1.1354522091152845,1.1357861462829622,1.1359533986534611,1.1361132895150259,1.1362875857130172,1.1364533413068028,1.1369433796356239,1.1374382019012104,1.1375976498692053,1.1383837278604647,1.139665322383566,1.1397938614905772,1.1403031908454588,1.14058643749134,1.1407329343782928,1.140890650049293,1.140977360030248,1.1411443104057224,1.1412885515463476,1.1414611926250509,1.1415489440242967,1.1416261672955412,1.1417760350372417,1.141849753489504,1.141931758932699,1.1420032994684914,1.1422037974023616,1.1423357559846923,1.1423979917787266,1.1425852783545958,1.1426498055322407,1.1427111738722104,1.142764085580321,1.1427503084306019,1.1426961830022657,1.1426535268219238,1.1426012416327438,1.1425576525215915,1.142535641411878],\"type\":\"scatter\",\"xaxis\":\"x\",\"yaxis\":\"y\"},{\"line\":{\"shape\":\"spline\",\"width\":2},\"name\":\"RSI_14\",\"x\":[\"s16-05-02 14:00\",\"s16-05-02 15:00\",\"s16-05-02 17:00\",\"s16-05-02 18:00\",\"s16-05-02 19:00\",\"s16-05-02 20:00\",\"s16-05-02 21:00\",\"s16-05-03 00:00\",\"s16-05-03 03:00\",\"s16-05-03 04:00\",\"s16-05-03 08:00\",\"s16-05-03 16:00\",\"s16-05-03 17:00\",\"s16-05-03 22:00\",\"s16-05-04 01:00\",\"s16-05-04 03:00\",\"s16-05-04 05:00\",\"s16-05-04 06:00\",\"s16-05-04 08:00\",\"s16-05-04 10:00\",\"s16-05-04 12:00\",\"s16-05-04 13:00\",\"s16-05-04 14:00\",\"s16-05-04 16:00\",\"s16-05-04 17:00\",\"s16-05-04 18:00\",\"s16-05-04 19:00\",\"s16-05-04 22:00\",\"s16-05-05 00:00\",\"s16-05-05 01:00\",\"s16-05-05 04:00\",\"s16-05-05 05:00\",\"s16-05-05 06:00\",\"s16-05-05 11:00\",\"s16-05-05 13:00\",\"s16-05-05 15:00\",\"s16-05-05 17:00\",\"s16-05-05 19:00\",\"s16-05-05 21:00\",\"s16-05-05 22:00\"],\"y\":[73.47845030529572,74.32863392715382,71.68414665510028,73.27987650910272,69.47168675448523,73.65753969552011,69.342890791078,70.18690614236793,67.3637346606375,67.63156124591684,81.93560636159833,47.92614183757096,47.12667178514976,40.04077655100715,36.80798616797332,34.91286150984388,38.317588812387605,44.02950618247747,41.725607299464336,40.17632616437114,45.98864851284315,49.94332748188734,45.90293024919179,48.63120808460171,46.22942850250752,50.328840671617215,46.27611478693897,46.275008195919874,44.366546759417375,44.42863724985027,43.87140849252359,48.15760718740189,46.56211636961804,28.124605622787783,23.036406376352318,24.184722577683047,27.1208644958095,29.246715310149227,30.743208851655297,31.116188157569994],\"type\":\"scatter\",\"xaxis\":\"x\",\"yaxis\":\"y2\"},{\"marker\":{\"color\":\"#00FF00\",\"size\":12},\"mode\":\"markers\",\"x\":[\"s16-05-02 20:00\",\"s16-05-03 00:00\",\"s16-05-03 03:00\",\"s16-05-03 16:00\",\"s16-05-03 22:00\",\"s16-05-04 01:00\",\"s16-05-04 06:00\",\"s16-05-04 08:00\",\"s16-05-04 22:00\",\"s16-05-05 00:00\",\"s16-05-05 04:00\",\"s16-05-05 13:00\",\"s16-05-05 19:00\"],\"y\":[1.1557149999999998,1.15502,1.1525449999999997,1.1557099999999998,1.1503,1.1460100000000002,1.1510200000000004,1.1476749999999998,1.14942,1.147675,1.1477750000000002,1.1367500000000001,1.1407400000000003],\"type\":\"scatter\"},{\"line\":{\"shape\":\"spline\",\"width\":2},\"name\":\"EMA_200\",\"x\":[\"s16-05-02 14:00\",\"s16-05-02 15:00\",\"s16-05-02 17:00\",\"s16-05-02 18:00\",\"s16-05-02 19:00\",\"s16-05-02 20:00\",\"s16-05-02 21:00\",\"s16-05-03 00:00\",\"s16-05-03 03:00\",\"s16-05-03 04:00\",\"s16-05-03 08:00\",\"s16-05-03 16:00\",\"s16-05-03 17:00\",\"s16-05-03 22:00\",\"s16-05-04 01:00\",\"s16-05-04 03:00\",\"s16-05-04 05:00\",\"s16-05-04 06:00\",\"s16-05-04 08:00\",\"s16-05-04 10:00\",\"s16-05-04 12:00\",\"s16-05-04 13:00\",\"s16-05-04 14:00\",\"s16-05-04 16:00\",\"s16-05-04 17:00\",\"s16-05-04 18:00\",\"s16-05-04 19:00\",\"s16-05-04 22:00\",\"s16-05-05 00:00\",\"s16-05-05 01:00\",\"s16-05-05 04:00\",\"s16-05-05 05:00\",\"s16-05-05 06:00\",\"s16-05-05 11:00\",\"s16-05-05 13:00\",\"s16-05-05 15:00\",\"s16-05-05 17:00\",\"s16-05-05 19:00\",\"s16-05-05 21:00\",\"s16-05-05 22:00\"],\"y\":[1.1352881351910757,1.1354522091152845,1.1357861462829622,1.1359533986534611,1.1361132895150259,1.1362875857130172,1.1364533413068028,1.1369433796356239,1.1374382019012104,1.1375976498692053,1.1383837278604647,1.139665322383566,1.1397938614905772,1.1403031908454588,1.14058643749134,1.1407329343782928,1.140890650049293,1.140977360030248,1.1411443104057224,1.1412885515463476,1.1414611926250509,1.1415489440242967,1.1416261672955412,1.1417760350372417,1.141849753489504,1.141931758932699,1.1420032994684914,1.1422037974023616,1.1423357559846923,1.1423979917787266,1.1425852783545958,1.1426498055322407,1.1427111738722104,1.142764085580321,1.1427503084306019,1.1426961830022657,1.1426535268219238,1.1426012416327438,1.1425576525215915,1.142535641411878],\"type\":\"scatter\",\"xaxis\":\"x\",\"yaxis\":\"y\"},{\"line\":{\"shape\":\"spline\",\"width\":2},\"name\":\"RSI_14\",\"x\":[\"s16-05-02 14:00\",\"s16-05-02 15:00\",\"s16-05-02 17:00\",\"s16-05-02 18:00\",\"s16-05-02 19:00\",\"s16-05-02 20:00\",\"s16-05-02 21:00\",\"s16-05-03 00:00\",\"s16-05-03 03:00\",\"s16-05-03 04:00\",\"s16-05-03 08:00\",\"s16-05-03 16:00\",\"s16-05-03 17:00\",\"s16-05-03 22:00\",\"s16-05-04 01:00\",\"s16-05-04 03:00\",\"s16-05-04 05:00\",\"s16-05-04 06:00\",\"s16-05-04 08:00\",\"s16-05-04 10:00\",\"s16-05-04 12:00\",\"s16-05-04 13:00\",\"s16-05-04 14:00\",\"s16-05-04 16:00\",\"s16-05-04 17:00\",\"s16-05-04 18:00\",\"s16-05-04 19:00\",\"s16-05-04 22:00\",\"s16-05-05 00:00\",\"s16-05-05 01:00\",\"s16-05-05 04:00\",\"s16-05-05 05:00\",\"s16-05-05 06:00\",\"s16-05-05 11:00\",\"s16-05-05 13:00\",\"s16-05-05 15:00\",\"s16-05-05 17:00\",\"s16-05-05 19:00\",\"s16-05-05 21:00\",\"s16-05-05 22:00\"],\"y\":[73.47845030529572,74.32863392715382,71.68414665510028,73.27987650910272,69.47168675448523,73.65753969552011,69.342890791078,70.18690614236793,67.3637346606375,67.63156124591684,81.93560636159833,47.92614183757096,47.12667178514976,40.04077655100715,36.80798616797332,34.91286150984388,38.317588812387605,44.02950618247747,41.725607299464336,40.17632616437114,45.98864851284315,49.94332748188734,45.90293024919179,48.63120808460171,46.22942850250752,50.328840671617215,46.27611478693897,46.275008195919874,44.366546759417375,44.42863724985027,43.87140849252359,48.15760718740189,46.56211636961804,28.124605622787783,23.036406376352318,24.184722577683047,27.1208644958095,29.246715310149227,30.743208851655297,31.116188157569994],\"type\":\"scatter\",\"xaxis\":\"x\",\"yaxis\":\"y2\"}],                        {\"template\":{\"data\":{\"histogram2dcontour\":[{\"type\":\"histogram2dcontour\",\"colorbar\":{\"outlinewidth\":0,\"ticks\":\"\"},\"colorscale\":[[0.0,\"#0d0887\"],[0.1111111111111111,\"#46039f\"],[0.2222222222222222,\"#7201a8\"],[0.3333333333333333,\"#9c179e\"],[0.4444444444444444,\"#bd3786\"],[0.5555555555555556,\"#d8576b\"],[0.6666666666666666,\"#ed7953\"],[0.7777777777777778,\"#fb9f3a\"],[0.8888888888888888,\"#fdca26\"],[1.0,\"#f0f921\"]]}],\"choropleth\":[{\"type\":\"choropleth\",\"colorbar\":{\"outlinewidth\":0,\"ticks\":\"\"}}],\"histogram2d\":[{\"type\":\"histogram2d\",\"colorbar\":{\"outlinewidth\":0,\"ticks\":\"\"},\"colorscale\":[[0.0,\"#0d0887\"],[0.1111111111111111,\"#46039f\"],[0.2222222222222222,\"#7201a8\"],[0.3333333333333333,\"#9c179e\"],[0.4444444444444444,\"#bd3786\"],[0.5555555555555556,\"#d8576b\"],[0.6666666666666666,\"#ed7953\"],[0.7777777777777778,\"#fb9f3a\"],[0.8888888888888888,\"#fdca26\"],[1.0,\"#f0f921\"]]}],\"heatmap\":[{\"type\":\"heatmap\",\"colorbar\":{\"outlinewidth\":0,\"ticks\":\"\"},\"colorscale\":[[0.0,\"#0d0887\"],[0.1111111111111111,\"#46039f\"],[0.2222222222222222,\"#7201a8\"],[0.3333333333333333,\"#9c179e\"],[0.4444444444444444,\"#bd3786\"],[0.5555555555555556,\"#d8576b\"],[0.6666666666666666,\"#ed7953\"],[0.7777777777777778,\"#fb9f3a\"],[0.8888888888888888,\"#fdca26\"],[1.0,\"#f0f921\"]]}],\"heatmapgl\":[{\"type\":\"heatmapgl\",\"colorbar\":{\"outlinewidth\":0,\"ticks\":\"\"},\"colorscale\":[[0.0,\"#0d0887\"],[0.1111111111111111,\"#46039f\"],[0.2222222222222222,\"#7201a8\"],[0.3333333333333333,\"#9c179e\"],[0.4444444444444444,\"#bd3786\"],[0.5555555555555556,\"#d8576b\"],[0.6666666666666666,\"#ed7953\"],[0.7777777777777778,\"#fb9f3a\"],[0.8888888888888888,\"#fdca26\"],[1.0,\"#f0f921\"]]}],\"contourcarpet\":[{\"type\":\"contourcarpet\",\"colorbar\":{\"outlinewidth\":0,\"ticks\":\"\"}}],\"contour\":[{\"type\":\"contour\",\"colorbar\":{\"outlinewidth\":0,\"ticks\":\"\"},\"colorscale\":[[0.0,\"#0d0887\"],[0.1111111111111111,\"#46039f\"],[0.2222222222222222,\"#7201a8\"],[0.3333333333333333,\"#9c179e\"],[0.4444444444444444,\"#bd3786\"],[0.5555555555555556,\"#d8576b\"],[0.6666666666666666,\"#ed7953\"],[0.7777777777777778,\"#fb9f3a\"],[0.8888888888888888,\"#fdca26\"],[1.0,\"#f0f921\"]]}],\"surface\":[{\"type\":\"surface\",\"colorbar\":{\"outlinewidth\":0,\"ticks\":\"\"},\"colorscale\":[[0.0,\"#0d0887\"],[0.1111111111111111,\"#46039f\"],[0.2222222222222222,\"#7201a8\"],[0.3333333333333333,\"#9c179e\"],[0.4444444444444444,\"#bd3786\"],[0.5555555555555556,\"#d8576b\"],[0.6666666666666666,\"#ed7953\"],[0.7777777777777778,\"#fb9f3a\"],[0.8888888888888888,\"#fdca26\"],[1.0,\"#f0f921\"]]}],\"mesh3d\":[{\"type\":\"mesh3d\",\"colorbar\":{\"outlinewidth\":0,\"ticks\":\"\"}}],\"scatter\":[{\"fillpattern\":{\"fillmode\":\"overlay\",\"size\":10,\"solidity\":0.2},\"type\":\"scatter\"}],\"parcoords\":[{\"type\":\"parcoords\",\"line\":{\"colorbar\":{\"outlinewidth\":0,\"ticks\":\"\"}}}],\"scatterpolargl\":[{\"type\":\"scatterpolargl\",\"marker\":{\"colorbar\":{\"outlinewidth\":0,\"ticks\":\"\"}}}],\"bar\":[{\"error_x\":{\"color\":\"#2a3f5f\"},\"error_y\":{\"color\":\"#2a3f5f\"},\"marker\":{\"line\":{\"color\":\"#E5ECF6\",\"width\":0.5},\"pattern\":{\"fillmode\":\"overlay\",\"size\":10,\"solidity\":0.2}},\"type\":\"bar\"}],\"scattergeo\":[{\"type\":\"scattergeo\",\"marker\":{\"colorbar\":{\"outlinewidth\":0,\"ticks\":\"\"}}}],\"scatterpolar\":[{\"type\":\"scatterpolar\",\"marker\":{\"colorbar\":{\"outlinewidth\":0,\"ticks\":\"\"}}}],\"histogram\":[{\"marker\":{\"pattern\":{\"fillmode\":\"overlay\",\"size\":10,\"solidity\":0.2}},\"type\":\"histogram\"}],\"scattergl\":[{\"type\":\"scattergl\",\"marker\":{\"colorbar\":{\"outlinewidth\":0,\"ticks\":\"\"}}}],\"scatter3d\":[{\"type\":\"scatter3d\",\"line\":{\"colorbar\":{\"outlinewidth\":0,\"ticks\":\"\"}},\"marker\":{\"colorbar\":{\"outlinewidth\":0,\"ticks\":\"\"}}}],\"scattermapbox\":[{\"type\":\"scattermapbox\",\"marker\":{\"colorbar\":{\"outlinewidth\":0,\"ticks\":\"\"}}}],\"scatterternary\":[{\"type\":\"scatterternary\",\"marker\":{\"colorbar\":{\"outlinewidth\":0,\"ticks\":\"\"}}}],\"scattercarpet\":[{\"type\":\"scattercarpet\",\"marker\":{\"colorbar\":{\"outlinewidth\":0,\"ticks\":\"\"}}}],\"carpet\":[{\"aaxis\":{\"endlinecolor\":\"#2a3f5f\",\"gridcolor\":\"white\",\"linecolor\":\"white\",\"minorgridcolor\":\"white\",\"startlinecolor\":\"#2a3f5f\"},\"baxis\":{\"endlinecolor\":\"#2a3f5f\",\"gridcolor\":\"white\",\"linecolor\":\"white\",\"minorgridcolor\":\"white\",\"startlinecolor\":\"#2a3f5f\"},\"type\":\"carpet\"}],\"table\":[{\"cells\":{\"fill\":{\"color\":\"#EBF0F8\"},\"line\":{\"color\":\"white\"}},\"header\":{\"fill\":{\"color\":\"#C8D4E3\"},\"line\":{\"color\":\"white\"}},\"type\":\"table\"}],\"barpolar\":[{\"marker\":{\"line\":{\"color\":\"#E5ECF6\",\"width\":0.5},\"pattern\":{\"fillmode\":\"overlay\",\"size\":10,\"solidity\":0.2}},\"type\":\"barpolar\"}],\"pie\":[{\"automargin\":true,\"type\":\"pie\"}]},\"layout\":{\"autotypenumbers\":\"strict\",\"colorway\":[\"#636efa\",\"#EF553B\",\"#00cc96\",\"#ab63fa\",\"#FFA15A\",\"#19d3f3\",\"#FF6692\",\"#B6E880\",\"#FF97FF\",\"#FECB52\"],\"font\":{\"color\":\"#2a3f5f\"},\"hovermode\":\"closest\",\"hoverlabel\":{\"align\":\"left\"},\"paper_bgcolor\":\"white\",\"plot_bgcolor\":\"#E5ECF6\",\"polar\":{\"bgcolor\":\"#E5ECF6\",\"angularaxis\":{\"gridcolor\":\"white\",\"linecolor\":\"white\",\"ticks\":\"\"},\"radialaxis\":{\"gridcolor\":\"white\",\"linecolor\":\"white\",\"ticks\":\"\"}},\"ternary\":{\"bgcolor\":\"#E5ECF6\",\"aaxis\":{\"gridcolor\":\"white\",\"linecolor\":\"white\",\"ticks\":\"\"},\"baxis\":{\"gridcolor\":\"white\",\"linecolor\":\"white\",\"ticks\":\"\"},\"caxis\":{\"gridcolor\":\"white\",\"linecolor\":\"white\",\"ticks\":\"\"}},\"coloraxis\":{\"colorbar\":{\"outlinewidth\":0,\"ticks\":\"\"}},\"colorscale\":{\"sequential\":[[0.0,\"#0d0887\"],[0.1111111111111111,\"#46039f\"],[0.2222222222222222,\"#7201a8\"],[0.3333333333333333,\"#9c179e\"],[0.4444444444444444,\"#bd3786\"],[0.5555555555555556,\"#d8576b\"],[0.6666666666666666,\"#ed7953\"],[0.7777777777777778,\"#fb9f3a\"],[0.8888888888888888,\"#fdca26\"],[1.0,\"#f0f921\"]],\"sequentialminus\":[[0.0,\"#0d0887\"],[0.1111111111111111,\"#46039f\"],[0.2222222222222222,\"#7201a8\"],[0.3333333333333333,\"#9c179e\"],[0.4444444444444444,\"#bd3786\"],[0.5555555555555556,\"#d8576b\"],[0.6666666666666666,\"#ed7953\"],[0.7777777777777778,\"#fb9f3a\"],[0.8888888888888888,\"#fdca26\"],[1.0,\"#f0f921\"]],\"diverging\":[[0,\"#8e0152\"],[0.1,\"#c51b7d\"],[0.2,\"#de77ae\"],[0.3,\"#f1b6da\"],[0.4,\"#fde0ef\"],[0.5,\"#f7f7f7\"],[0.6,\"#e6f5d0\"],[0.7,\"#b8e186\"],[0.8,\"#7fbc41\"],[0.9,\"#4d9221\"],[1,\"#276419\"]]},\"xaxis\":{\"gridcolor\":\"white\",\"linecolor\":\"white\",\"ticks\":\"\",\"title\":{\"standoff\":15},\"zerolinecolor\":\"white\",\"automargin\":true,\"zerolinewidth\":2},\"yaxis\":{\"gridcolor\":\"white\",\"linecolor\":\"white\",\"ticks\":\"\",\"title\":{\"standoff\":15},\"zerolinecolor\":\"white\",\"automargin\":true,\"zerolinewidth\":2},\"scene\":{\"xaxis\":{\"backgroundcolor\":\"#E5ECF6\",\"gridcolor\":\"white\",\"linecolor\":\"white\",\"showbackground\":true,\"ticks\":\"\",\"zerolinecolor\":\"white\",\"gridwidth\":2},\"yaxis\":{\"backgroundcolor\":\"#E5ECF6\",\"gridcolor\":\"white\",\"linecolor\":\"white\",\"showbackground\":true,\"ticks\":\"\",\"zerolinecolor\":\"white\",\"gridwidth\":2},\"zaxis\":{\"backgroundcolor\":\"#E5ECF6\",\"gridcolor\":\"white\",\"linecolor\":\"white\",\"showbackground\":true,\"ticks\":\"\",\"zerolinecolor\":\"white\",\"gridwidth\":2}},\"shapedefaults\":{\"line\":{\"color\":\"#2a3f5f\"}},\"annotationdefaults\":{\"arrowcolor\":\"#2a3f5f\",\"arrowhead\":0,\"arrowwidth\":1},\"geo\":{\"bgcolor\":\"white\",\"landcolor\":\"#E5ECF6\",\"subunitcolor\":\"white\",\"showland\":true,\"showlakes\":true,\"lakecolor\":\"white\"},\"title\":{\"x\":0.05},\"mapbox\":{\"style\":\"light\"}}},\"xaxis\":{\"anchor\":\"y\",\"domain\":[0.0,0.94],\"rangeslider\":{\"visible\":false},\"gridcolor\":\"#0d292f\",\"nticks\":5},\"yaxis\":{\"anchor\":\"x\",\"domain\":[0.0,1.0],\"gridcolor\":\"#0d292f\"},\"yaxis2\":{\"anchor\":\"x\",\"overlaying\":\"y\",\"side\":\"right\",\"gridcolor\":\"#0d292f\"},\"margin\":{\"l\":10,\"r\":10,\"b\":10,\"t\":10},\"width\":900,\"height\":400,\"plot_bgcolor\":\"#2c303c\"},                        {\"responsive\": true}                    ).then(function(){\n",
       "                            \n",
       "var gd = document.getElementById('3b22b80d-a0a3-4df8-a778-d5205b9fae22');\n",
       "var x = new MutationObserver(function (mutations, observer) {{\n",
       "        var display = window.getComputedStyle(gd).display;\n",
       "        if (!display || display === 'none') {{\n",
       "            console.log([gd, 'removed!']);\n",
       "            Plotly.purge(gd);\n",
       "            observer.disconnect();\n",
       "        }}\n",
       "}});\n",
       "\n",
       "// Listen for the removal of the full notebook cells\n",
       "var notebookContainer = gd.closest('#notebook-container');\n",
       "if (notebookContainer) {{\n",
       "    x.observe(notebookContainer, {childList: true});\n",
       "}}\n",
       "\n",
       "// Listen for the clearing of the current output cell\n",
       "var outputEl = gd.closest('.output');\n",
       "if (outputEl) {{\n",
       "    x.observe(outputEl, {childList: true});\n",
       "}}\n",
       "\n",
       "                        })                };                });            </script>        </div>"
      ]
     },
     "metadata": {},
     "output_type": "display_data"
    },
    {
     "data": {
      "application/vnd.plotly.v1+json": {
       "config": {
        "plotlyServerURL": "https://plot.ly"
       },
       "data": [
        {
         "close": [
          1.15118,
          1.15154,
          1.15174,
          1.15236,
          1.1518,
          1.15339,
          1.15272,
          1.1534,
          1.15319,
          1.15326,
          1.15925,
          1.15268,
          1.15244,
          1.14994,
          1.14874,
          1.14798,
          1.14848,
          1.14952,
          1.14892,
          1.14844,
          1.14934,
          1.1502,
          1.14924,
          1.1497,
          1.14912,
          1.15002,
          1.14906,
          1.14894,
          1.14853,
          1.14854,
          1.14842,
          1.14902,
          1.14877,
          1.14321,
          1.14074,
          1.14025,
          1.13992,
          1.1402,
          1.14031,
          1.14036
         ],
         "decreasing": {
          "fillcolor": "#CC2E3C",
          "line": {
           "color": "#ff3a4c"
          }
         },
         "high": [
          1.15352,
          1.15193,
          1.15326,
          1.15318,
          1.15236,
          1.15362,
          1.15337,
          1.15396,
          1.15384,
          1.1539,
          1.16164,
          1.1528,
          1.15385,
          1.15022,
          1.15085,
          1.14865,
          1.14932,
          1.14974,
          1.14983,
          1.14849,
          1.15296,
          1.15182,
          1.15064,
          1.14994,
          1.1498,
          1.15028,
          1.15009,
          1.14908,
          1.14927,
          1.14938,
          1.14885,
          1.1494,
          1.14916,
          1.14328,
          1.14364,
          1.14077,
          1.14127,
          1.1404,
          1.14058,
          1.1405
         ],
         "increasing": {
          "fillcolor": "#24A06B",
          "line": {
           "color": "#2EC886"
          }
         },
         "line": {
          "width": 1
         },
         "low": [
          1.14908,
          1.15062,
          1.15169,
          1.15144,
          1.15154,
          1.15184,
          1.15252,
          1.15227,
          1.15292,
          1.15223,
          1.15879,
          1.15012,
          1.15238,
          1.14953,
          1.14782,
          1.14776,
          1.1483,
          1.14794,
          1.14698,
          1.14736,
          1.14866,
          1.14878,
          1.14666,
          1.14858,
          1.1484,
          1.1489,
          1.14904,
          1.14846,
          1.14832,
          1.14845,
          1.14822,
          1.14846,
          1.14826,
          1.14181,
          1.1404,
          1.1392,
          1.1399,
          1.1397,
          1.14014,
          1.1402
         ],
         "opacity": 1,
         "open": [
          1.15216,
          1.15121,
          1.15246,
          1.15178,
          1.15236,
          1.15184,
          1.15306,
          1.15232,
          1.15362,
          1.15318,
          1.1593,
          1.15066,
          1.15264,
          1.1497,
          1.15056,
          1.14782,
          1.14872,
          1.14852,
          1.14975,
          1.14832,
          1.15048,
          1.14938,
          1.1502,
          1.14858,
          1.14972,
          1.14916,
          1.15004,
          1.14862,
          1.1491,
          1.1485,
          1.14885,
          1.14846,
          1.149,
          1.14268,
          1.1434,
          1.13986,
          1.14124,
          1.13984,
          1.14045,
          1.1403
         ],
         "type": "candlestick",
         "x": [
          "s16-05-02 14:00",
          "s16-05-02 15:00",
          "s16-05-02 17:00",
          "s16-05-02 18:00",
          "s16-05-02 19:00",
          "s16-05-02 20:00",
          "s16-05-02 21:00",
          "s16-05-03 00:00",
          "s16-05-03 03:00",
          "s16-05-03 04:00",
          "s16-05-03 08:00",
          "s16-05-03 16:00",
          "s16-05-03 17:00",
          "s16-05-03 22:00",
          "s16-05-04 01:00",
          "s16-05-04 03:00",
          "s16-05-04 05:00",
          "s16-05-04 06:00",
          "s16-05-04 08:00",
          "s16-05-04 10:00",
          "s16-05-04 12:00",
          "s16-05-04 13:00",
          "s16-05-04 14:00",
          "s16-05-04 16:00",
          "s16-05-04 17:00",
          "s16-05-04 18:00",
          "s16-05-04 19:00",
          "s16-05-04 22:00",
          "s16-05-05 00:00",
          "s16-05-05 01:00",
          "s16-05-05 04:00",
          "s16-05-05 05:00",
          "s16-05-05 06:00",
          "s16-05-05 11:00",
          "s16-05-05 13:00",
          "s16-05-05 15:00",
          "s16-05-05 17:00",
          "s16-05-05 19:00",
          "s16-05-05 21:00",
          "s16-05-05 22:00"
         ]
        },
        {
         "marker": {
          "color": "#0000FF",
          "size": 12
         },
         "mode": "markers",
         "type": "scatter",
         "x": [
          "s16-05-02 20:00",
          "s16-05-03 00:00",
          "s16-05-03 03:00",
          "s16-05-03 16:00",
          "s16-05-03 22:00",
          "s16-05-04 01:00",
          "s16-05-04 06:00",
          "s16-05-04 08:00",
          "s16-05-04 22:00",
          "s16-05-05 00:00",
          "s16-05-05 04:00",
          "s16-05-05 13:00",
          "s16-05-05 19:00"
         ],
         "y": [
          1.15339,
          1.1534,
          1.15319,
          1.15268,
          1.14994,
          1.14874,
          1.14952,
          1.14892,
          1.14894,
          1.14853,
          1.14842,
          1.14074,
          1.1402
         ]
        },
        {
         "line": {
          "shape": "spline",
          "width": 2
         },
         "name": "EMA_200",
         "type": "scatter",
         "x": [
          "s16-05-02 14:00",
          "s16-05-02 15:00",
          "s16-05-02 17:00",
          "s16-05-02 18:00",
          "s16-05-02 19:00",
          "s16-05-02 20:00",
          "s16-05-02 21:00",
          "s16-05-03 00:00",
          "s16-05-03 03:00",
          "s16-05-03 04:00",
          "s16-05-03 08:00",
          "s16-05-03 16:00",
          "s16-05-03 17:00",
          "s16-05-03 22:00",
          "s16-05-04 01:00",
          "s16-05-04 03:00",
          "s16-05-04 05:00",
          "s16-05-04 06:00",
          "s16-05-04 08:00",
          "s16-05-04 10:00",
          "s16-05-04 12:00",
          "s16-05-04 13:00",
          "s16-05-04 14:00",
          "s16-05-04 16:00",
          "s16-05-04 17:00",
          "s16-05-04 18:00",
          "s16-05-04 19:00",
          "s16-05-04 22:00",
          "s16-05-05 00:00",
          "s16-05-05 01:00",
          "s16-05-05 04:00",
          "s16-05-05 05:00",
          "s16-05-05 06:00",
          "s16-05-05 11:00",
          "s16-05-05 13:00",
          "s16-05-05 15:00",
          "s16-05-05 17:00",
          "s16-05-05 19:00",
          "s16-05-05 21:00",
          "s16-05-05 22:00"
         ],
         "xaxis": "x",
         "y": [
          1.1352881351910757,
          1.1354522091152845,
          1.1357861462829622,
          1.1359533986534611,
          1.1361132895150259,
          1.1362875857130172,
          1.1364533413068028,
          1.1369433796356239,
          1.1374382019012104,
          1.1375976498692053,
          1.1383837278604647,
          1.139665322383566,
          1.1397938614905772,
          1.1403031908454588,
          1.14058643749134,
          1.1407329343782928,
          1.140890650049293,
          1.140977360030248,
          1.1411443104057224,
          1.1412885515463476,
          1.1414611926250509,
          1.1415489440242967,
          1.1416261672955412,
          1.1417760350372417,
          1.141849753489504,
          1.141931758932699,
          1.1420032994684914,
          1.1422037974023616,
          1.1423357559846923,
          1.1423979917787266,
          1.1425852783545958,
          1.1426498055322407,
          1.1427111738722104,
          1.142764085580321,
          1.1427503084306019,
          1.1426961830022657,
          1.1426535268219238,
          1.1426012416327438,
          1.1425576525215915,
          1.142535641411878
         ],
         "yaxis": "y"
        },
        {
         "line": {
          "shape": "spline",
          "width": 2
         },
         "name": "RSI_14",
         "type": "scatter",
         "x": [
          "s16-05-02 14:00",
          "s16-05-02 15:00",
          "s16-05-02 17:00",
          "s16-05-02 18:00",
          "s16-05-02 19:00",
          "s16-05-02 20:00",
          "s16-05-02 21:00",
          "s16-05-03 00:00",
          "s16-05-03 03:00",
          "s16-05-03 04:00",
          "s16-05-03 08:00",
          "s16-05-03 16:00",
          "s16-05-03 17:00",
          "s16-05-03 22:00",
          "s16-05-04 01:00",
          "s16-05-04 03:00",
          "s16-05-04 05:00",
          "s16-05-04 06:00",
          "s16-05-04 08:00",
          "s16-05-04 10:00",
          "s16-05-04 12:00",
          "s16-05-04 13:00",
          "s16-05-04 14:00",
          "s16-05-04 16:00",
          "s16-05-04 17:00",
          "s16-05-04 18:00",
          "s16-05-04 19:00",
          "s16-05-04 22:00",
          "s16-05-05 00:00",
          "s16-05-05 01:00",
          "s16-05-05 04:00",
          "s16-05-05 05:00",
          "s16-05-05 06:00",
          "s16-05-05 11:00",
          "s16-05-05 13:00",
          "s16-05-05 15:00",
          "s16-05-05 17:00",
          "s16-05-05 19:00",
          "s16-05-05 21:00",
          "s16-05-05 22:00"
         ],
         "xaxis": "x",
         "y": [
          73.47845030529572,
          74.32863392715382,
          71.68414665510028,
          73.27987650910272,
          69.47168675448523,
          73.65753969552011,
          69.342890791078,
          70.18690614236793,
          67.3637346606375,
          67.63156124591684,
          81.93560636159833,
          47.92614183757096,
          47.12667178514976,
          40.04077655100715,
          36.80798616797332,
          34.91286150984388,
          38.317588812387605,
          44.02950618247747,
          41.725607299464336,
          40.17632616437114,
          45.98864851284315,
          49.94332748188734,
          45.90293024919179,
          48.63120808460171,
          46.22942850250752,
          50.328840671617215,
          46.27611478693897,
          46.275008195919874,
          44.366546759417375,
          44.42863724985027,
          43.87140849252359,
          48.15760718740189,
          46.56211636961804,
          28.124605622787783,
          23.036406376352318,
          24.184722577683047,
          27.1208644958095,
          29.246715310149227,
          30.743208851655297,
          31.116188157569994
         ],
         "yaxis": "y2"
        },
        {
         "marker": {
          "color": "#00FF00",
          "size": 12
         },
         "mode": "markers",
         "type": "scatter",
         "x": [
          "s16-05-02 20:00",
          "s16-05-03 00:00",
          "s16-05-03 03:00",
          "s16-05-03 16:00",
          "s16-05-03 22:00",
          "s16-05-04 01:00",
          "s16-05-04 06:00",
          "s16-05-04 08:00",
          "s16-05-04 22:00",
          "s16-05-05 00:00",
          "s16-05-05 04:00",
          "s16-05-05 13:00",
          "s16-05-05 19:00"
         ],
         "y": [
          1.1557149999999998,
          1.15502,
          1.1525449999999997,
          1.1557099999999998,
          1.1503,
          1.1460100000000002,
          1.1510200000000004,
          1.1476749999999998,
          1.14942,
          1.147675,
          1.1477750000000002,
          1.1367500000000001,
          1.1407400000000003
         ]
        },
        {
         "line": {
          "shape": "spline",
          "width": 2
         },
         "name": "EMA_200",
         "type": "scatter",
         "x": [
          "s16-05-02 14:00",
          "s16-05-02 15:00",
          "s16-05-02 17:00",
          "s16-05-02 18:00",
          "s16-05-02 19:00",
          "s16-05-02 20:00",
          "s16-05-02 21:00",
          "s16-05-03 00:00",
          "s16-05-03 03:00",
          "s16-05-03 04:00",
          "s16-05-03 08:00",
          "s16-05-03 16:00",
          "s16-05-03 17:00",
          "s16-05-03 22:00",
          "s16-05-04 01:00",
          "s16-05-04 03:00",
          "s16-05-04 05:00",
          "s16-05-04 06:00",
          "s16-05-04 08:00",
          "s16-05-04 10:00",
          "s16-05-04 12:00",
          "s16-05-04 13:00",
          "s16-05-04 14:00",
          "s16-05-04 16:00",
          "s16-05-04 17:00",
          "s16-05-04 18:00",
          "s16-05-04 19:00",
          "s16-05-04 22:00",
          "s16-05-05 00:00",
          "s16-05-05 01:00",
          "s16-05-05 04:00",
          "s16-05-05 05:00",
          "s16-05-05 06:00",
          "s16-05-05 11:00",
          "s16-05-05 13:00",
          "s16-05-05 15:00",
          "s16-05-05 17:00",
          "s16-05-05 19:00",
          "s16-05-05 21:00",
          "s16-05-05 22:00"
         ],
         "xaxis": "x",
         "y": [
          1.1352881351910757,
          1.1354522091152845,
          1.1357861462829622,
          1.1359533986534611,
          1.1361132895150259,
          1.1362875857130172,
          1.1364533413068028,
          1.1369433796356239,
          1.1374382019012104,
          1.1375976498692053,
          1.1383837278604647,
          1.139665322383566,
          1.1397938614905772,
          1.1403031908454588,
          1.14058643749134,
          1.1407329343782928,
          1.140890650049293,
          1.140977360030248,
          1.1411443104057224,
          1.1412885515463476,
          1.1414611926250509,
          1.1415489440242967,
          1.1416261672955412,
          1.1417760350372417,
          1.141849753489504,
          1.141931758932699,
          1.1420032994684914,
          1.1422037974023616,
          1.1423357559846923,
          1.1423979917787266,
          1.1425852783545958,
          1.1426498055322407,
          1.1427111738722104,
          1.142764085580321,
          1.1427503084306019,
          1.1426961830022657,
          1.1426535268219238,
          1.1426012416327438,
          1.1425576525215915,
          1.142535641411878
         ],
         "yaxis": "y"
        },
        {
         "line": {
          "shape": "spline",
          "width": 2
         },
         "name": "RSI_14",
         "type": "scatter",
         "x": [
          "s16-05-02 14:00",
          "s16-05-02 15:00",
          "s16-05-02 17:00",
          "s16-05-02 18:00",
          "s16-05-02 19:00",
          "s16-05-02 20:00",
          "s16-05-02 21:00",
          "s16-05-03 00:00",
          "s16-05-03 03:00",
          "s16-05-03 04:00",
          "s16-05-03 08:00",
          "s16-05-03 16:00",
          "s16-05-03 17:00",
          "s16-05-03 22:00",
          "s16-05-04 01:00",
          "s16-05-04 03:00",
          "s16-05-04 05:00",
          "s16-05-04 06:00",
          "s16-05-04 08:00",
          "s16-05-04 10:00",
          "s16-05-04 12:00",
          "s16-05-04 13:00",
          "s16-05-04 14:00",
          "s16-05-04 16:00",
          "s16-05-04 17:00",
          "s16-05-04 18:00",
          "s16-05-04 19:00",
          "s16-05-04 22:00",
          "s16-05-05 00:00",
          "s16-05-05 01:00",
          "s16-05-05 04:00",
          "s16-05-05 05:00",
          "s16-05-05 06:00",
          "s16-05-05 11:00",
          "s16-05-05 13:00",
          "s16-05-05 15:00",
          "s16-05-05 17:00",
          "s16-05-05 19:00",
          "s16-05-05 21:00",
          "s16-05-05 22:00"
         ],
         "xaxis": "x",
         "y": [
          73.47845030529572,
          74.32863392715382,
          71.68414665510028,
          73.27987650910272,
          69.47168675448523,
          73.65753969552011,
          69.342890791078,
          70.18690614236793,
          67.3637346606375,
          67.63156124591684,
          81.93560636159833,
          47.92614183757096,
          47.12667178514976,
          40.04077655100715,
          36.80798616797332,
          34.91286150984388,
          38.317588812387605,
          44.02950618247747,
          41.725607299464336,
          40.17632616437114,
          45.98864851284315,
          49.94332748188734,
          45.90293024919179,
          48.63120808460171,
          46.22942850250752,
          50.328840671617215,
          46.27611478693897,
          46.275008195919874,
          44.366546759417375,
          44.42863724985027,
          43.87140849252359,
          48.15760718740189,
          46.56211636961804,
          28.124605622787783,
          23.036406376352318,
          24.184722577683047,
          27.1208644958095,
          29.246715310149227,
          30.743208851655297,
          31.116188157569994
         ],
         "yaxis": "y2"
        },
        {
         "marker": {
          "color": "#ff0000",
          "size": 12
         },
         "mode": "markers",
         "type": "scatter",
         "x": [
          "s16-05-02 20:00",
          "s16-05-03 00:00",
          "s16-05-03 03:00",
          "s16-05-03 16:00",
          "s16-05-03 22:00",
          "s16-05-04 01:00",
          "s16-05-04 06:00",
          "s16-05-04 08:00",
          "s16-05-04 22:00",
          "s16-05-05 00:00",
          "s16-05-05 04:00",
          "s16-05-05 13:00",
          "s16-05-05 19:00"
         ],
         "y": [
          1.15184,
          1.15232,
          1.15362,
          1.15066,
          1.1497,
          1.15056,
          1.14852,
          1.14975,
          1.14862,
          1.1491,
          1.14885,
          1.1434,
          1.13984
         ]
        },
        {
         "line": {
          "shape": "spline",
          "width": 2
         },
         "name": "EMA_200",
         "type": "scatter",
         "x": [
          "s16-05-02 14:00",
          "s16-05-02 15:00",
          "s16-05-02 17:00",
          "s16-05-02 18:00",
          "s16-05-02 19:00",
          "s16-05-02 20:00",
          "s16-05-02 21:00",
          "s16-05-03 00:00",
          "s16-05-03 03:00",
          "s16-05-03 04:00",
          "s16-05-03 08:00",
          "s16-05-03 16:00",
          "s16-05-03 17:00",
          "s16-05-03 22:00",
          "s16-05-04 01:00",
          "s16-05-04 03:00",
          "s16-05-04 05:00",
          "s16-05-04 06:00",
          "s16-05-04 08:00",
          "s16-05-04 10:00",
          "s16-05-04 12:00",
          "s16-05-04 13:00",
          "s16-05-04 14:00",
          "s16-05-04 16:00",
          "s16-05-04 17:00",
          "s16-05-04 18:00",
          "s16-05-04 19:00",
          "s16-05-04 22:00",
          "s16-05-05 00:00",
          "s16-05-05 01:00",
          "s16-05-05 04:00",
          "s16-05-05 05:00",
          "s16-05-05 06:00",
          "s16-05-05 11:00",
          "s16-05-05 13:00",
          "s16-05-05 15:00",
          "s16-05-05 17:00",
          "s16-05-05 19:00",
          "s16-05-05 21:00",
          "s16-05-05 22:00"
         ],
         "xaxis": "x",
         "y": [
          1.1352881351910757,
          1.1354522091152845,
          1.1357861462829622,
          1.1359533986534611,
          1.1361132895150259,
          1.1362875857130172,
          1.1364533413068028,
          1.1369433796356239,
          1.1374382019012104,
          1.1375976498692053,
          1.1383837278604647,
          1.139665322383566,
          1.1397938614905772,
          1.1403031908454588,
          1.14058643749134,
          1.1407329343782928,
          1.140890650049293,
          1.140977360030248,
          1.1411443104057224,
          1.1412885515463476,
          1.1414611926250509,
          1.1415489440242967,
          1.1416261672955412,
          1.1417760350372417,
          1.141849753489504,
          1.141931758932699,
          1.1420032994684914,
          1.1422037974023616,
          1.1423357559846923,
          1.1423979917787266,
          1.1425852783545958,
          1.1426498055322407,
          1.1427111738722104,
          1.142764085580321,
          1.1427503084306019,
          1.1426961830022657,
          1.1426535268219238,
          1.1426012416327438,
          1.1425576525215915,
          1.142535641411878
         ],
         "yaxis": "y"
        },
        {
         "line": {
          "shape": "spline",
          "width": 2
         },
         "name": "RSI_14",
         "type": "scatter",
         "x": [
          "s16-05-02 14:00",
          "s16-05-02 15:00",
          "s16-05-02 17:00",
          "s16-05-02 18:00",
          "s16-05-02 19:00",
          "s16-05-02 20:00",
          "s16-05-02 21:00",
          "s16-05-03 00:00",
          "s16-05-03 03:00",
          "s16-05-03 04:00",
          "s16-05-03 08:00",
          "s16-05-03 16:00",
          "s16-05-03 17:00",
          "s16-05-03 22:00",
          "s16-05-04 01:00",
          "s16-05-04 03:00",
          "s16-05-04 05:00",
          "s16-05-04 06:00",
          "s16-05-04 08:00",
          "s16-05-04 10:00",
          "s16-05-04 12:00",
          "s16-05-04 13:00",
          "s16-05-04 14:00",
          "s16-05-04 16:00",
          "s16-05-04 17:00",
          "s16-05-04 18:00",
          "s16-05-04 19:00",
          "s16-05-04 22:00",
          "s16-05-05 00:00",
          "s16-05-05 01:00",
          "s16-05-05 04:00",
          "s16-05-05 05:00",
          "s16-05-05 06:00",
          "s16-05-05 11:00",
          "s16-05-05 13:00",
          "s16-05-05 15:00",
          "s16-05-05 17:00",
          "s16-05-05 19:00",
          "s16-05-05 21:00",
          "s16-05-05 22:00"
         ],
         "xaxis": "x",
         "y": [
          73.47845030529572,
          74.32863392715382,
          71.68414665510028,
          73.27987650910272,
          69.47168675448523,
          73.65753969552011,
          69.342890791078,
          70.18690614236793,
          67.3637346606375,
          67.63156124591684,
          81.93560636159833,
          47.92614183757096,
          47.12667178514976,
          40.04077655100715,
          36.80798616797332,
          34.91286150984388,
          38.317588812387605,
          44.02950618247747,
          41.725607299464336,
          40.17632616437114,
          45.98864851284315,
          49.94332748188734,
          45.90293024919179,
          48.63120808460171,
          46.22942850250752,
          50.328840671617215,
          46.27611478693897,
          46.275008195919874,
          44.366546759417375,
          44.42863724985027,
          43.87140849252359,
          48.15760718740189,
          46.56211636961804,
          28.124605622787783,
          23.036406376352318,
          24.184722577683047,
          27.1208644958095,
          29.246715310149227,
          30.743208851655297,
          31.116188157569994
         ],
         "yaxis": "y2"
        }
       ],
       "layout": {
        "height": 400,
        "margin": {
         "b": 10,
         "l": 10,
         "r": 10,
         "t": 10
        },
        "plot_bgcolor": "#2c303c",
        "template": {
         "data": {
          "bar": [
           {
            "error_x": {
             "color": "#2a3f5f"
            },
            "error_y": {
             "color": "#2a3f5f"
            },
            "marker": {
             "line": {
              "color": "#E5ECF6",
              "width": 0.5
             },
             "pattern": {
              "fillmode": "overlay",
              "size": 10,
              "solidity": 0.2
             }
            },
            "type": "bar"
           }
          ],
          "barpolar": [
           {
            "marker": {
             "line": {
              "color": "#E5ECF6",
              "width": 0.5
             },
             "pattern": {
              "fillmode": "overlay",
              "size": 10,
              "solidity": 0.2
             }
            },
            "type": "barpolar"
           }
          ],
          "carpet": [
           {
            "aaxis": {
             "endlinecolor": "#2a3f5f",
             "gridcolor": "white",
             "linecolor": "white",
             "minorgridcolor": "white",
             "startlinecolor": "#2a3f5f"
            },
            "baxis": {
             "endlinecolor": "#2a3f5f",
             "gridcolor": "white",
             "linecolor": "white",
             "minorgridcolor": "white",
             "startlinecolor": "#2a3f5f"
            },
            "type": "carpet"
           }
          ],
          "choropleth": [
           {
            "colorbar": {
             "outlinewidth": 0,
             "ticks": ""
            },
            "type": "choropleth"
           }
          ],
          "contour": [
           {
            "colorbar": {
             "outlinewidth": 0,
             "ticks": ""
            },
            "colorscale": [
             [
              0,
              "#0d0887"
             ],
             [
              0.1111111111111111,
              "#46039f"
             ],
             [
              0.2222222222222222,
              "#7201a8"
             ],
             [
              0.3333333333333333,
              "#9c179e"
             ],
             [
              0.4444444444444444,
              "#bd3786"
             ],
             [
              0.5555555555555556,
              "#d8576b"
             ],
             [
              0.6666666666666666,
              "#ed7953"
             ],
             [
              0.7777777777777778,
              "#fb9f3a"
             ],
             [
              0.8888888888888888,
              "#fdca26"
             ],
             [
              1,
              "#f0f921"
             ]
            ],
            "type": "contour"
           }
          ],
          "contourcarpet": [
           {
            "colorbar": {
             "outlinewidth": 0,
             "ticks": ""
            },
            "type": "contourcarpet"
           }
          ],
          "heatmap": [
           {
            "colorbar": {
             "outlinewidth": 0,
             "ticks": ""
            },
            "colorscale": [
             [
              0,
              "#0d0887"
             ],
             [
              0.1111111111111111,
              "#46039f"
             ],
             [
              0.2222222222222222,
              "#7201a8"
             ],
             [
              0.3333333333333333,
              "#9c179e"
             ],
             [
              0.4444444444444444,
              "#bd3786"
             ],
             [
              0.5555555555555556,
              "#d8576b"
             ],
             [
              0.6666666666666666,
              "#ed7953"
             ],
             [
              0.7777777777777778,
              "#fb9f3a"
             ],
             [
              0.8888888888888888,
              "#fdca26"
             ],
             [
              1,
              "#f0f921"
             ]
            ],
            "type": "heatmap"
           }
          ],
          "heatmapgl": [
           {
            "colorbar": {
             "outlinewidth": 0,
             "ticks": ""
            },
            "colorscale": [
             [
              0,
              "#0d0887"
             ],
             [
              0.1111111111111111,
              "#46039f"
             ],
             [
              0.2222222222222222,
              "#7201a8"
             ],
             [
              0.3333333333333333,
              "#9c179e"
             ],
             [
              0.4444444444444444,
              "#bd3786"
             ],
             [
              0.5555555555555556,
              "#d8576b"
             ],
             [
              0.6666666666666666,
              "#ed7953"
             ],
             [
              0.7777777777777778,
              "#fb9f3a"
             ],
             [
              0.8888888888888888,
              "#fdca26"
             ],
             [
              1,
              "#f0f921"
             ]
            ],
            "type": "heatmapgl"
           }
          ],
          "histogram": [
           {
            "marker": {
             "pattern": {
              "fillmode": "overlay",
              "size": 10,
              "solidity": 0.2
             }
            },
            "type": "histogram"
           }
          ],
          "histogram2d": [
           {
            "colorbar": {
             "outlinewidth": 0,
             "ticks": ""
            },
            "colorscale": [
             [
              0,
              "#0d0887"
             ],
             [
              0.1111111111111111,
              "#46039f"
             ],
             [
              0.2222222222222222,
              "#7201a8"
             ],
             [
              0.3333333333333333,
              "#9c179e"
             ],
             [
              0.4444444444444444,
              "#bd3786"
             ],
             [
              0.5555555555555556,
              "#d8576b"
             ],
             [
              0.6666666666666666,
              "#ed7953"
             ],
             [
              0.7777777777777778,
              "#fb9f3a"
             ],
             [
              0.8888888888888888,
              "#fdca26"
             ],
             [
              1,
              "#f0f921"
             ]
            ],
            "type": "histogram2d"
           }
          ],
          "histogram2dcontour": [
           {
            "colorbar": {
             "outlinewidth": 0,
             "ticks": ""
            },
            "colorscale": [
             [
              0,
              "#0d0887"
             ],
             [
              0.1111111111111111,
              "#46039f"
             ],
             [
              0.2222222222222222,
              "#7201a8"
             ],
             [
              0.3333333333333333,
              "#9c179e"
             ],
             [
              0.4444444444444444,
              "#bd3786"
             ],
             [
              0.5555555555555556,
              "#d8576b"
             ],
             [
              0.6666666666666666,
              "#ed7953"
             ],
             [
              0.7777777777777778,
              "#fb9f3a"
             ],
             [
              0.8888888888888888,
              "#fdca26"
             ],
             [
              1,
              "#f0f921"
             ]
            ],
            "type": "histogram2dcontour"
           }
          ],
          "mesh3d": [
           {
            "colorbar": {
             "outlinewidth": 0,
             "ticks": ""
            },
            "type": "mesh3d"
           }
          ],
          "parcoords": [
           {
            "line": {
             "colorbar": {
              "outlinewidth": 0,
              "ticks": ""
             }
            },
            "type": "parcoords"
           }
          ],
          "pie": [
           {
            "automargin": true,
            "type": "pie"
           }
          ],
          "scatter": [
           {
            "fillpattern": {
             "fillmode": "overlay",
             "size": 10,
             "solidity": 0.2
            },
            "type": "scatter"
           }
          ],
          "scatter3d": [
           {
            "line": {
             "colorbar": {
              "outlinewidth": 0,
              "ticks": ""
             }
            },
            "marker": {
             "colorbar": {
              "outlinewidth": 0,
              "ticks": ""
             }
            },
            "type": "scatter3d"
           }
          ],
          "scattercarpet": [
           {
            "marker": {
             "colorbar": {
              "outlinewidth": 0,
              "ticks": ""
             }
            },
            "type": "scattercarpet"
           }
          ],
          "scattergeo": [
           {
            "marker": {
             "colorbar": {
              "outlinewidth": 0,
              "ticks": ""
             }
            },
            "type": "scattergeo"
           }
          ],
          "scattergl": [
           {
            "marker": {
             "colorbar": {
              "outlinewidth": 0,
              "ticks": ""
             }
            },
            "type": "scattergl"
           }
          ],
          "scattermapbox": [
           {
            "marker": {
             "colorbar": {
              "outlinewidth": 0,
              "ticks": ""
             }
            },
            "type": "scattermapbox"
           }
          ],
          "scatterpolar": [
           {
            "marker": {
             "colorbar": {
              "outlinewidth": 0,
              "ticks": ""
             }
            },
            "type": "scatterpolar"
           }
          ],
          "scatterpolargl": [
           {
            "marker": {
             "colorbar": {
              "outlinewidth": 0,
              "ticks": ""
             }
            },
            "type": "scatterpolargl"
           }
          ],
          "scatterternary": [
           {
            "marker": {
             "colorbar": {
              "outlinewidth": 0,
              "ticks": ""
             }
            },
            "type": "scatterternary"
           }
          ],
          "surface": [
           {
            "colorbar": {
             "outlinewidth": 0,
             "ticks": ""
            },
            "colorscale": [
             [
              0,
              "#0d0887"
             ],
             [
              0.1111111111111111,
              "#46039f"
             ],
             [
              0.2222222222222222,
              "#7201a8"
             ],
             [
              0.3333333333333333,
              "#9c179e"
             ],
             [
              0.4444444444444444,
              "#bd3786"
             ],
             [
              0.5555555555555556,
              "#d8576b"
             ],
             [
              0.6666666666666666,
              "#ed7953"
             ],
             [
              0.7777777777777778,
              "#fb9f3a"
             ],
             [
              0.8888888888888888,
              "#fdca26"
             ],
             [
              1,
              "#f0f921"
             ]
            ],
            "type": "surface"
           }
          ],
          "table": [
           {
            "cells": {
             "fill": {
              "color": "#EBF0F8"
             },
             "line": {
              "color": "white"
             }
            },
            "header": {
             "fill": {
              "color": "#C8D4E3"
             },
             "line": {
              "color": "white"
             }
            },
            "type": "table"
           }
          ]
         },
         "layout": {
          "annotationdefaults": {
           "arrowcolor": "#2a3f5f",
           "arrowhead": 0,
           "arrowwidth": 1
          },
          "autotypenumbers": "strict",
          "coloraxis": {
           "colorbar": {
            "outlinewidth": 0,
            "ticks": ""
           }
          },
          "colorscale": {
           "diverging": [
            [
             0,
             "#8e0152"
            ],
            [
             0.1,
             "#c51b7d"
            ],
            [
             0.2,
             "#de77ae"
            ],
            [
             0.3,
             "#f1b6da"
            ],
            [
             0.4,
             "#fde0ef"
            ],
            [
             0.5,
             "#f7f7f7"
            ],
            [
             0.6,
             "#e6f5d0"
            ],
            [
             0.7,
             "#b8e186"
            ],
            [
             0.8,
             "#7fbc41"
            ],
            [
             0.9,
             "#4d9221"
            ],
            [
             1,
             "#276419"
            ]
           ],
           "sequential": [
            [
             0,
             "#0d0887"
            ],
            [
             0.1111111111111111,
             "#46039f"
            ],
            [
             0.2222222222222222,
             "#7201a8"
            ],
            [
             0.3333333333333333,
             "#9c179e"
            ],
            [
             0.4444444444444444,
             "#bd3786"
            ],
            [
             0.5555555555555556,
             "#d8576b"
            ],
            [
             0.6666666666666666,
             "#ed7953"
            ],
            [
             0.7777777777777778,
             "#fb9f3a"
            ],
            [
             0.8888888888888888,
             "#fdca26"
            ],
            [
             1,
             "#f0f921"
            ]
           ],
           "sequentialminus": [
            [
             0,
             "#0d0887"
            ],
            [
             0.1111111111111111,
             "#46039f"
            ],
            [
             0.2222222222222222,
             "#7201a8"
            ],
            [
             0.3333333333333333,
             "#9c179e"
            ],
            [
             0.4444444444444444,
             "#bd3786"
            ],
            [
             0.5555555555555556,
             "#d8576b"
            ],
            [
             0.6666666666666666,
             "#ed7953"
            ],
            [
             0.7777777777777778,
             "#fb9f3a"
            ],
            [
             0.8888888888888888,
             "#fdca26"
            ],
            [
             1,
             "#f0f921"
            ]
           ]
          },
          "colorway": [
           "#636efa",
           "#EF553B",
           "#00cc96",
           "#ab63fa",
           "#FFA15A",
           "#19d3f3",
           "#FF6692",
           "#B6E880",
           "#FF97FF",
           "#FECB52"
          ],
          "font": {
           "color": "#2a3f5f"
          },
          "geo": {
           "bgcolor": "white",
           "lakecolor": "white",
           "landcolor": "#E5ECF6",
           "showlakes": true,
           "showland": true,
           "subunitcolor": "white"
          },
          "hoverlabel": {
           "align": "left"
          },
          "hovermode": "closest",
          "mapbox": {
           "style": "light"
          },
          "paper_bgcolor": "white",
          "plot_bgcolor": "#E5ECF6",
          "polar": {
           "angularaxis": {
            "gridcolor": "white",
            "linecolor": "white",
            "ticks": ""
           },
           "bgcolor": "#E5ECF6",
           "radialaxis": {
            "gridcolor": "white",
            "linecolor": "white",
            "ticks": ""
           }
          },
          "scene": {
           "xaxis": {
            "backgroundcolor": "#E5ECF6",
            "gridcolor": "white",
            "gridwidth": 2,
            "linecolor": "white",
            "showbackground": true,
            "ticks": "",
            "zerolinecolor": "white"
           },
           "yaxis": {
            "backgroundcolor": "#E5ECF6",
            "gridcolor": "white",
            "gridwidth": 2,
            "linecolor": "white",
            "showbackground": true,
            "ticks": "",
            "zerolinecolor": "white"
           },
           "zaxis": {
            "backgroundcolor": "#E5ECF6",
            "gridcolor": "white",
            "gridwidth": 2,
            "linecolor": "white",
            "showbackground": true,
            "ticks": "",
            "zerolinecolor": "white"
           }
          },
          "shapedefaults": {
           "line": {
            "color": "#2a3f5f"
           }
          },
          "ternary": {
           "aaxis": {
            "gridcolor": "white",
            "linecolor": "white",
            "ticks": ""
           },
           "baxis": {
            "gridcolor": "white",
            "linecolor": "white",
            "ticks": ""
           },
           "bgcolor": "#E5ECF6",
           "caxis": {
            "gridcolor": "white",
            "linecolor": "white",
            "ticks": ""
           }
          },
          "title": {
           "x": 0.05
          },
          "xaxis": {
           "automargin": true,
           "gridcolor": "white",
           "linecolor": "white",
           "ticks": "",
           "title": {
            "standoff": 15
           },
           "zerolinecolor": "white",
           "zerolinewidth": 2
          },
          "yaxis": {
           "automargin": true,
           "gridcolor": "white",
           "linecolor": "white",
           "ticks": "",
           "title": {
            "standoff": 15
           },
           "zerolinecolor": "white",
           "zerolinewidth": 2
          }
         }
        },
        "width": 900,
        "xaxis": {
         "anchor": "y",
         "autorange": true,
         "domain": [
          0,
          0.94
         ],
         "gridcolor": "#0d292f",
         "nticks": 5,
         "range": [
          -0.5,
          39.5
         ],
         "rangeslider": {
          "visible": false,
          "yaxis": {},
          "yaxis2": {}
         },
         "type": "category"
        },
        "yaxis": {
         "anchor": "x",
         "autorange": true,
         "domain": [
          0,
          1
         ],
         "gridcolor": "#0d292f",
         "range": [
          1.133824142701691,
          1.1631039924893847
         ],
         "type": "linear"
        },
        "yaxis2": {
         "anchor": "x",
         "autorange": true,
         "gridcolor": "#0d292f",
         "overlaying": "y",
         "range": [
          19.764228599394205,
          85.20778413855645
         ],
         "side": "right",
         "type": "linear"
        }
       }
      },
      "image/png": "[encoded data removed]",
      "text/html": [
       "<div>                            <div id=\"1cb6ecc0-ebb9-4bb7-9762-e093328656aa\" class=\"plotly-graph-div\" style=\"height:400px; width:900px;\"></div>            <script type=\"text/javascript\">                require([\"plotly\"], function(Plotly) {                    window.PLOTLYENV=window.PLOTLYENV || {};                                    if (document.getElementById(\"1cb6ecc0-ebb9-4bb7-9762-e093328656aa\")) {                    Plotly.newPlot(                        \"1cb6ecc0-ebb9-4bb7-9762-e093328656aa\",                        [{\"close\":[1.15118,1.15154,1.15174,1.15236,1.1518,1.15339,1.15272,1.1534,1.15319,1.15326,1.15925,1.15268,1.15244,1.14994,1.14874,1.14798,1.14848,1.14952,1.14892,1.14844,1.14934,1.1502,1.14924,1.1497,1.14912,1.15002,1.14906,1.14894,1.14853,1.14854,1.14842,1.14902,1.14877,1.14321,1.14074,1.14025,1.13992,1.1402,1.14031,1.14036],\"decreasing\":{\"fillcolor\":\"#CC2E3C\",\"line\":{\"color\":\"#ff3a4c\"}},\"high\":[1.15352,1.15193,1.15326,1.15318,1.15236,1.15362,1.15337,1.15396,1.15384,1.1539,1.16164,1.1528,1.15385,1.15022,1.15085,1.14865,1.14932,1.14974,1.14983,1.14849,1.15296,1.15182,1.15064,1.14994,1.1498,1.15028,1.15009,1.14908,1.14927,1.14938,1.14885,1.1494,1.14916,1.14328,1.14364,1.14077,1.14127,1.1404,1.14058,1.1405],\"increasing\":{\"fillcolor\":\"#24A06B\",\"line\":{\"color\":\"#2EC886\"}},\"line\":{\"width\":1},\"low\":[1.14908,1.15062,1.15169,1.15144,1.15154,1.15184,1.15252,1.15227,1.15292,1.15223,1.15879,1.15012,1.15238,1.14953,1.14782,1.14776,1.1483,1.14794,1.14698,1.14736,1.14866,1.14878,1.14666,1.14858,1.1484,1.1489,1.14904,1.14846,1.14832,1.14845,1.14822,1.14846,1.14826,1.14181,1.1404,1.1392,1.1399,1.1397,1.14014,1.1402],\"opacity\":1,\"open\":[1.15216,1.15121,1.15246,1.15178,1.15236,1.15184,1.15306,1.15232,1.15362,1.15318,1.1593,1.15066,1.15264,1.1497,1.15056,1.14782,1.14872,1.14852,1.14975,1.14832,1.15048,1.14938,1.1502,1.14858,1.14972,1.14916,1.15004,1.14862,1.1491,1.1485,1.14885,1.14846,1.149,1.14268,1.1434,1.13986,1.14124,1.13984,1.14045,1.1403],\"x\":[\"s16-05-02 14:00\",\"s16-05-02 15:00\",\"s16-05-02 17:00\",\"s16-05-02 18:00\",\"s16-05-02 19:00\",\"s16-05-02 20:00\",\"s16-05-02 21:00\",\"s16-05-03 00:00\",\"s16-05-03 03:00\",\"s16-05-03 04:00\",\"s16-05-03 08:00\",\"s16-05-03 16:00\",\"s16-05-03 17:00\",\"s16-05-03 22:00\",\"s16-05-04 01:00\",\"s16-05-04 03:00\",\"s16-05-04 05:00\",\"s16-05-04 06:00\",\"s16-05-04 08:00\",\"s16-05-04 10:00\",\"s16-05-04 12:00\",\"s16-05-04 13:00\",\"s16-05-04 14:00\",\"s16-05-04 16:00\",\"s16-05-04 17:00\",\"s16-05-04 18:00\",\"s16-05-04 19:00\",\"s16-05-04 22:00\",\"s16-05-05 00:00\",\"s16-05-05 01:00\",\"s16-05-05 04:00\",\"s16-05-05 05:00\",\"s16-05-05 06:00\",\"s16-05-05 11:00\",\"s16-05-05 13:00\",\"s16-05-05 15:00\",\"s16-05-05 17:00\",\"s16-05-05 19:00\",\"s16-05-05 21:00\",\"s16-05-05 22:00\"],\"type\":\"candlestick\"},{\"marker\":{\"color\":\"#0000FF\",\"size\":12},\"mode\":\"markers\",\"x\":[\"s16-05-02 20:00\",\"s16-05-03 00:00\",\"s16-05-03 03:00\",\"s16-05-03 16:00\",\"s16-05-03 22:00\",\"s16-05-04 01:00\",\"s16-05-04 06:00\",\"s16-05-04 08:00\",\"s16-05-04 22:00\",\"s16-05-05 00:00\",\"s16-05-05 04:00\",\"s16-05-05 13:00\",\"s16-05-05 19:00\"],\"y\":[1.15339,1.1534,1.15319,1.15268,1.14994,1.14874,1.14952,1.14892,1.14894,1.14853,1.14842,1.14074,1.1402],\"type\":\"scatter\"},{\"line\":{\"shape\":\"spline\",\"width\":2},\"name\":\"EMA_200\",\"x\":[\"s16-05-02 14:00\",\"s16-05-02 15:00\",\"s16-05-02 17:00\",\"s16-05-02 18:00\",\"s16-05-02 19:00\",\"s16-05-02 20:00\",\"s16-05-02 21:00\",\"s16-05-03 00:00\",\"s16-05-03 03:00\",\"s16-05-03 04:00\",\"s16-05-03 08:00\",\"s16-05-03 16:00\",\"s16-05-03 17:00\",\"s16-05-03 22:00\",\"s16-05-04 01:00\",\"s16-05-04 03:00\",\"s16-05-04 05:00\",\"s16-05-04 06:00\",\"s16-05-04 08:00\",\"s16-05-04 10:00\",\"s16-05-04 12:00\",\"s16-05-04 13:00\",\"s16-05-04 14:00\",\"s16-05-04 16:00\",\"s16-05-04 17:00\",\"s16-05-04 18:00\",\"s16-05-04 19:00\",\"s16-05-04 22:00\",\"s16-05-05 00:00\",\"s16-05-05 01:00\",\"s16-05-05 04:00\",\"s16-05-05 05:00\",\"s16-05-05 06:00\",\"s16-05-05 11:00\",\"s16-05-05 13:00\",\"s16-05-05 15:00\",\"s16-05-05 17:00\",\"s16-05-05 19:00\",\"s16-05-05 21:00\",\"s16-05-05 22:00\"],\"y\":[1.1352881351910757,1.1354522091152845,1.1357861462829622,1.1359533986534611,1.1361132895150259,1.1362875857130172,1.1364533413068028,1.1369433796356239,1.1374382019012104,1.1375976498692053,1.1383837278604647,1.139665322383566,1.1397938614905772,1.1403031908454588,1.14058643749134,1.1407329343782928,1.140890650049293,1.140977360030248,1.1411443104057224,1.1412885515463476,1.1414611926250509,1.1415489440242967,1.1416261672955412,1.1417760350372417,1.141849753489504,1.141931758932699,1.1420032994684914,1.1422037974023616,1.1423357559846923,1.1423979917787266,1.1425852783545958,1.1426498055322407,1.1427111738722104,1.142764085580321,1.1427503084306019,1.1426961830022657,1.1426535268219238,1.1426012416327438,1.1425576525215915,1.142535641411878],\"type\":\"scatter\",\"xaxis\":\"x\",\"yaxis\":\"y\"},{\"line\":{\"shape\":\"spline\",\"width\":2},\"name\":\"RSI_14\",\"x\":[\"s16-05-02 14:00\",\"s16-05-02 15:00\",\"s16-05-02 17:00\",\"s16-05-02 18:00\",\"s16-05-02 19:00\",\"s16-05-02 20:00\",\"s16-05-02 21:00\",\"s16-05-03 00:00\",\"s16-05-03 03:00\",\"s16-05-03 04:00\",\"s16-05-03 08:00\",\"s16-05-03 16:00\",\"s16-05-03 17:00\",\"s16-05-03 22:00\",\"s16-05-04 01:00\",\"s16-05-04 03:00\",\"s16-05-04 05:00\",\"s16-05-04 06:00\",\"s16-05-04 08:00\",\"s16-05-04 10:00\",\"s16-05-04 12:00\",\"s16-05-04 13:00\",\"s16-05-04 14:00\",\"s16-05-04 16:00\",\"s16-05-04 17:00\",\"s16-05-04 18:00\",\"s16-05-04 19:00\",\"s16-05-04 22:00\",\"s16-05-05 00:00\",\"s16-05-05 01:00\",\"s16-05-05 04:00\",\"s16-05-05 05:00\",\"s16-05-05 06:00\",\"s16-05-05 11:00\",\"s16-05-05 13:00\",\"s16-05-05 15:00\",\"s16-05-05 17:00\",\"s16-05-05 19:00\",\"s16-05-05 21:00\",\"s16-05-05 22:00\"],\"y\":[73.47845030529572,74.32863392715382,71.68414665510028,73.27987650910272,69.47168675448523,73.65753969552011,69.342890791078,70.18690614236793,67.3637346606375,67.63156124591684,81.93560636159833,47.92614183757096,47.12667178514976,40.04077655100715,36.80798616797332,34.91286150984388,38.317588812387605,44.02950618247747,41.725607299464336,40.17632616437114,45.98864851284315,49.94332748188734,45.90293024919179,48.63120808460171,46.22942850250752,50.328840671617215,46.27611478693897,46.275008195919874,44.366546759417375,44.42863724985027,43.87140849252359,48.15760718740189,46.56211636961804,28.124605622787783,23.036406376352318,24.184722577683047,27.1208644958095,29.246715310149227,30.743208851655297,31.116188157569994],\"type\":\"scatter\",\"xaxis\":\"x\",\"yaxis\":\"y2\"},{\"marker\":{\"color\":\"#00FF00\",\"size\":12},\"mode\":\"markers\",\"x\":[\"s16-05-02 20:00\",\"s16-05-03 00:00\",\"s16-05-03 03:00\",\"s16-05-03 16:00\",\"s16-05-03 22:00\",\"s16-05-04 01:00\",\"s16-05-04 06:00\",\"s16-05-04 08:00\",\"s16-05-04 22:00\",\"s16-05-05 00:00\",\"s16-05-05 04:00\",\"s16-05-05 13:00\",\"s16-05-05 19:00\"],\"y\":[1.1557149999999998,1.15502,1.1525449999999997,1.1557099999999998,1.1503,1.1460100000000002,1.1510200000000004,1.1476749999999998,1.14942,1.147675,1.1477750000000002,1.1367500000000001,1.1407400000000003],\"type\":\"scatter\"},{\"line\":{\"shape\":\"spline\",\"width\":2},\"name\":\"EMA_200\",\"x\":[\"s16-05-02 14:00\",\"s16-05-02 15:00\",\"s16-05-02 17:00\",\"s16-05-02 18:00\",\"s16-05-02 19:00\",\"s16-05-02 20:00\",\"s16-05-02 21:00\",\"s16-05-03 00:00\",\"s16-05-03 03:00\",\"s16-05-03 04:00\",\"s16-05-03 08:00\",\"s16-05-03 16:00\",\"s16-05-03 17:00\",\"s16-05-03 22:00\",\"s16-05-04 01:00\",\"s16-05-04 03:00\",\"s16-05-04 05:00\",\"s16-05-04 06:00\",\"s16-05-04 08:00\",\"s16-05-04 10:00\",\"s16-05-04 12:00\",\"s16-05-04 13:00\",\"s16-05-04 14:00\",\"s16-05-04 16:00\",\"s16-05-04 17:00\",\"s16-05-04 18:00\",\"s16-05-04 19:00\",\"s16-05-04 22:00\",\"s16-05-05 00:00\",\"s16-05-05 01:00\",\"s16-05-05 04:00\",\"s16-05-05 05:00\",\"s16-05-05 06:00\",\"s16-05-05 11:00\",\"s16-05-05 13:00\",\"s16-05-05 15:00\",\"s16-05-05 17:00\",\"s16-05-05 19:00\",\"s16-05-05 21:00\",\"s16-05-05 22:00\"],\"y\":[1.1352881351910757,1.1354522091152845,1.1357861462829622,1.1359533986534611,1.1361132895150259,1.1362875857130172,1.1364533413068028,1.1369433796356239,1.1374382019012104,1.1375976498692053,1.1383837278604647,1.139665322383566,1.1397938614905772,1.1403031908454588,1.14058643749134,1.1407329343782928,1.140890650049293,1.140977360030248,1.1411443104057224,1.1412885515463476,1.1414611926250509,1.1415489440242967,1.1416261672955412,1.1417760350372417,1.141849753489504,1.141931758932699,1.1420032994684914,1.1422037974023616,1.1423357559846923,1.1423979917787266,1.1425852783545958,1.1426498055322407,1.1427111738722104,1.142764085580321,1.1427503084306019,1.1426961830022657,1.1426535268219238,1.1426012416327438,1.1425576525215915,1.142535641411878],\"type\":\"scatter\",\"xaxis\":\"x\",\"yaxis\":\"y\"},{\"line\":{\"shape\":\"spline\",\"width\":2},\"name\":\"RSI_14\",\"x\":[\"s16-05-02 14:00\",\"s16-05-02 15:00\",\"s16-05-02 17:00\",\"s16-05-02 18:00\",\"s16-05-02 19:00\",\"s16-05-02 20:00\",\"s16-05-02 21:00\",\"s16-05-03 00:00\",\"s16-05-03 03:00\",\"s16-05-03 04:00\",\"s16-05-03 08:00\",\"s16-05-03 16:00\",\"s16-05-03 17:00\",\"s16-05-03 22:00\",\"s16-05-04 01:00\",\"s16-05-04 03:00\",\"s16-05-04 05:00\",\"s16-05-04 06:00\",\"s16-05-04 08:00\",\"s16-05-04 10:00\",\"s16-05-04 12:00\",\"s16-05-04 13:00\",\"s16-05-04 14:00\",\"s16-05-04 16:00\",\"s16-05-04 17:00\",\"s16-05-04 18:00\",\"s16-05-04 19:00\",\"s16-05-04 22:00\",\"s16-05-05 00:00\",\"s16-05-05 01:00\",\"s16-05-05 04:00\",\"s16-05-05 05:00\",\"s16-05-05 06:00\",\"s16-05-05 11:00\",\"s16-05-05 13:00\",\"s16-05-05 15:00\",\"s16-05-05 17:00\",\"s16-05-05 19:00\",\"s16-05-05 21:00\",\"s16-05-05 22:00\"],\"y\":[73.47845030529572,74.32863392715382,71.68414665510028,73.27987650910272,69.47168675448523,73.65753969552011,69.342890791078,70.18690614236793,67.3637346606375,67.63156124591684,81.93560636159833,47.92614183757096,47.12667178514976,40.04077655100715,36.80798616797332,34.91286150984388,38.317588812387605,44.02950618247747,41.725607299464336,40.17632616437114,45.98864851284315,49.94332748188734,45.90293024919179,48.63120808460171,46.22942850250752,50.328840671617215,46.27611478693897,46.275008195919874,44.366546759417375,44.42863724985027,43.87140849252359,48.15760718740189,46.56211636961804,28.124605622787783,23.036406376352318,24.184722577683047,27.1208644958095,29.246715310149227,30.743208851655297,31.116188157569994],\"type\":\"scatter\",\"xaxis\":\"x\",\"yaxis\":\"y2\"},{\"marker\":{\"color\":\"#ff0000\",\"size\":12},\"mode\":\"markers\",\"x\":[\"s16-05-02 20:00\",\"s16-05-03 00:00\",\"s16-05-03 03:00\",\"s16-05-03 16:00\",\"s16-05-03 22:00\",\"s16-05-04 01:00\",\"s16-05-04 06:00\",\"s16-05-04 08:00\",\"s16-05-04 22:00\",\"s16-05-05 00:00\",\"s16-05-05 04:00\",\"s16-05-05 13:00\",\"s16-05-05 19:00\"],\"y\":[1.15184,1.15232,1.15362,1.15066,1.1497,1.15056,1.14852,1.14975,1.14862,1.1491,1.14885,1.1434,1.13984],\"type\":\"scatter\"},{\"line\":{\"shape\":\"spline\",\"width\":2},\"name\":\"EMA_200\",\"x\":[\"s16-05-02 14:00\",\"s16-05-02 15:00\",\"s16-05-02 17:00\",\"s16-05-02 18:00\",\"s16-05-02 19:00\",\"s16-05-02 20:00\",\"s16-05-02 21:00\",\"s16-05-03 00:00\",\"s16-05-03 03:00\",\"s16-05-03 04:00\",\"s16-05-03 08:00\",\"s16-05-03 16:00\",\"s16-05-03 17:00\",\"s16-05-03 22:00\",\"s16-05-04 01:00\",\"s16-05-04 03:00\",\"s16-05-04 05:00\",\"s16-05-04 06:00\",\"s16-05-04 08:00\",\"s16-05-04 10:00\",\"s16-05-04 12:00\",\"s16-05-04 13:00\",\"s16-05-04 14:00\",\"s16-05-04 16:00\",\"s16-05-04 17:00\",\"s16-05-04 18:00\",\"s16-05-04 19:00\",\"s16-05-04 22:00\",\"s16-05-05 00:00\",\"s16-05-05 01:00\",\"s16-05-05 04:00\",\"s16-05-05 05:00\",\"s16-05-05 06:00\",\"s16-05-05 11:00\",\"s16-05-05 13:00\",\"s16-05-05 15:00\",\"s16-05-05 17:00\",\"s16-05-05 19:00\",\"s16-05-05 21:00\",\"s16-05-05 22:00\"],\"y\":[1.1352881351910757,1.1354522091152845,1.1357861462829622,1.1359533986534611,1.1361132895150259,1.1362875857130172,1.1364533413068028,1.1369433796356239,1.1374382019012104,1.1375976498692053,1.1383837278604647,1.139665322383566,1.1397938614905772,1.1403031908454588,1.14058643749134,1.1407329343782928,1.140890650049293,1.140977360030248,1.1411443104057224,1.1412885515463476,1.1414611926250509,1.1415489440242967,1.1416261672955412,1.1417760350372417,1.141849753489504,1.141931758932699,1.1420032994684914,1.1422037974023616,1.1423357559846923,1.1423979917787266,1.1425852783545958,1.1426498055322407,1.1427111738722104,1.142764085580321,1.1427503084306019,1.1426961830022657,1.1426535268219238,1.1426012416327438,1.1425576525215915,1.142535641411878],\"type\":\"scatter\",\"xaxis\":\"x\",\"yaxis\":\"y\"},{\"line\":{\"shape\":\"spline\",\"width\":2},\"name\":\"RSI_14\",\"x\":[\"s16-05-02 14:00\",\"s16-05-02 15:00\",\"s16-05-02 17:00\",\"s16-05-02 18:00\",\"s16-05-02 19:00\",\"s16-05-02 20:00\",\"s16-05-02 21:00\",\"s16-05-03 00:00\",\"s16-05-03 03:00\",\"s16-05-03 04:00\",\"s16-05-03 08:00\",\"s16-05-03 16:00\",\"s16-05-03 17:00\",\"s16-05-03 22:00\",\"s16-05-04 01:00\",\"s16-05-04 03:00\",\"s16-05-04 05:00\",\"s16-05-04 06:00\",\"s16-05-04 08:00\",\"s16-05-04 10:00\",\"s16-05-04 12:00\",\"s16-05-04 13:00\",\"s16-05-04 14:00\",\"s16-05-04 16:00\",\"s16-05-04 17:00\",\"s16-05-04 18:00\",\"s16-05-04 19:00\",\"s16-05-04 22:00\",\"s16-05-05 00:00\",\"s16-05-05 01:00\",\"s16-05-05 04:00\",\"s16-05-05 05:00\",\"s16-05-05 06:00\",\"s16-05-05 11:00\",\"s16-05-05 13:00\",\"s16-05-05 15:00\",\"s16-05-05 17:00\",\"s16-05-05 19:00\",\"s16-05-05 21:00\",\"s16-05-05 22:00\"],\"y\":[73.47845030529572,74.32863392715382,71.68414665510028,73.27987650910272,69.47168675448523,73.65753969552011,69.342890791078,70.18690614236793,67.3637346606375,67.63156124591684,81.93560636159833,47.92614183757096,47.12667178514976,40.04077655100715,36.80798616797332,34.91286150984388,38.317588812387605,44.02950618247747,41.725607299464336,40.17632616437114,45.98864851284315,49.94332748188734,45.90293024919179,48.63120808460171,46.22942850250752,50.328840671617215,46.27611478693897,46.275008195919874,44.366546759417375,44.42863724985027,43.87140849252359,48.15760718740189,46.56211636961804,28.124605622787783,23.036406376352318,24.184722577683047,27.1208644958095,29.246715310149227,30.743208851655297,31.116188157569994],\"type\":\"scatter\",\"xaxis\":\"x\",\"yaxis\":\"y2\"}],                        {\"template\":{\"data\":{\"histogram2dcontour\":[{\"type\":\"histogram2dcontour\",\"colorbar\":{\"outlinewidth\":0,\"ticks\":\"\"},\"colorscale\":[[0.0,\"#0d0887\"],[0.1111111111111111,\"#46039f\"],[0.2222222222222222,\"#7201a8\"],[0.3333333333333333,\"#9c179e\"],[0.4444444444444444,\"#bd3786\"],[0.5555555555555556,\"#d8576b\"],[0.6666666666666666,\"#ed7953\"],[0.7777777777777778,\"#fb9f3a\"],[0.8888888888888888,\"#fdca26\"],[1.0,\"#f0f921\"]]}],\"choropleth\":[{\"type\":\"choropleth\",\"colorbar\":{\"outlinewidth\":0,\"ticks\":\"\"}}],\"histogram2d\":[{\"type\":\"histogram2d\",\"colorbar\":{\"outlinewidth\":0,\"ticks\":\"\"},\"colorscale\":[[0.0,\"#0d0887\"],[0.1111111111111111,\"#46039f\"],[0.2222222222222222,\"#7201a8\"],[0.3333333333333333,\"#9c179e\"],[0.4444444444444444,\"#bd3786\"],[0.5555555555555556,\"#d8576b\"],[0.6666666666666666,\"#ed7953\"],[0.7777777777777778,\"#fb9f3a\"],[0.8888888888888888,\"#fdca26\"],[1.0,\"#f0f921\"]]}],\"heatmap\":[{\"type\":\"heatmap\",\"colorbar\":{\"outlinewidth\":0,\"ticks\":\"\"},\"colorscale\":[[0.0,\"#0d0887\"],[0.1111111111111111,\"#46039f\"],[0.2222222222222222,\"#7201a8\"],[0.3333333333333333,\"#9c179e\"],[0.4444444444444444,\"#bd3786\"],[0.5555555555555556,\"#d8576b\"],[0.6666666666666666,\"#ed7953\"],[0.7777777777777778,\"#fb9f3a\"],[0.8888888888888888,\"#fdca26\"],[1.0,\"#f0f921\"]]}],\"heatmapgl\":[{\"type\":\"heatmapgl\",\"colorbar\":{\"outlinewidth\":0,\"ticks\":\"\"},\"colorscale\":[[0.0,\"#0d0887\"],[0.1111111111111111,\"#46039f\"],[0.2222222222222222,\"#7201a8\"],[0.3333333333333333,\"#9c179e\"],[0.4444444444444444,\"#bd3786\"],[0.5555555555555556,\"#d8576b\"],[0.6666666666666666,\"#ed7953\"],[0.7777777777777778,\"#fb9f3a\"],[0.8888888888888888,\"#fdca26\"],[1.0,\"#f0f921\"]]}],\"contourcarpet\":[{\"type\":\"contourcarpet\",\"colorbar\":{\"outlinewidth\":0,\"ticks\":\"\"}}],\"contour\":[{\"type\":\"contour\",\"colorbar\":{\"outlinewidth\":0,\"ticks\":\"\"},\"colorscale\":[[0.0,\"#0d0887\"],[0.1111111111111111,\"#46039f\"],[0.2222222222222222,\"#7201a8\"],[0.3333333333333333,\"#9c179e\"],[0.4444444444444444,\"#bd3786\"],[0.5555555555555556,\"#d8576b\"],[0.6666666666666666,\"#ed7953\"],[0.7777777777777778,\"#fb9f3a\"],[0.8888888888888888,\"#fdca26\"],[1.0,\"#f0f921\"]]}],\"surface\":[{\"type\":\"surface\",\"colorbar\":{\"outlinewidth\":0,\"ticks\":\"\"},\"colorscale\":[[0.0,\"#0d0887\"],[0.1111111111111111,\"#46039f\"],[0.2222222222222222,\"#7201a8\"],[0.3333333333333333,\"#9c179e\"],[0.4444444444444444,\"#bd3786\"],[0.5555555555555556,\"#d8576b\"],[0.6666666666666666,\"#ed7953\"],[0.7777777777777778,\"#fb9f3a\"],[0.8888888888888888,\"#fdca26\"],[1.0,\"#f0f921\"]]}],\"mesh3d\":[{\"type\":\"mesh3d\",\"colorbar\":{\"outlinewidth\":0,\"ticks\":\"\"}}],\"scatter\":[{\"fillpattern\":{\"fillmode\":\"overlay\",\"size\":10,\"solidity\":0.2},\"type\":\"scatter\"}],\"parcoords\":[{\"type\":\"parcoords\",\"line\":{\"colorbar\":{\"outlinewidth\":0,\"ticks\":\"\"}}}],\"scatterpolargl\":[{\"type\":\"scatterpolargl\",\"marker\":{\"colorbar\":{\"outlinewidth\":0,\"ticks\":\"\"}}}],\"bar\":[{\"error_x\":{\"color\":\"#2a3f5f\"},\"error_y\":{\"color\":\"#2a3f5f\"},\"marker\":{\"line\":{\"color\":\"#E5ECF6\",\"width\":0.5},\"pattern\":{\"fillmode\":\"overlay\",\"size\":10,\"solidity\":0.2}},\"type\":\"bar\"}],\"scattergeo\":[{\"type\":\"scattergeo\",\"marker\":{\"colorbar\":{\"outlinewidth\":0,\"ticks\":\"\"}}}],\"scatterpolar\":[{\"type\":\"scatterpolar\",\"marker\":{\"colorbar\":{\"outlinewidth\":0,\"ticks\":\"\"}}}],\"histogram\":[{\"marker\":{\"pattern\":{\"fillmode\":\"overlay\",\"size\":10,\"solidity\":0.2}},\"type\":\"histogram\"}],\"scattergl\":[{\"type\":\"scattergl\",\"marker\":{\"colorbar\":{\"outlinewidth\":0,\"ticks\":\"\"}}}],\"scatter3d\":[{\"type\":\"scatter3d\",\"line\":{\"colorbar\":{\"outlinewidth\":0,\"ticks\":\"\"}},\"marker\":{\"colorbar\":{\"outlinewidth\":0,\"ticks\":\"\"}}}],\"scattermapbox\":[{\"type\":\"scattermapbox\",\"marker\":{\"colorbar\":{\"outlinewidth\":0,\"ticks\":\"\"}}}],\"scatterternary\":[{\"type\":\"scatterternary\",\"marker\":{\"colorbar\":{\"outlinewidth\":0,\"ticks\":\"\"}}}],\"scattercarpet\":[{\"type\":\"scattercarpet\",\"marker\":{\"colorbar\":{\"outlinewidth\":0,\"ticks\":\"\"}}}],\"carpet\":[{\"aaxis\":{\"endlinecolor\":\"#2a3f5f\",\"gridcolor\":\"white\",\"linecolor\":\"white\",\"minorgridcolor\":\"white\",\"startlinecolor\":\"#2a3f5f\"},\"baxis\":{\"endlinecolor\":\"#2a3f5f\",\"gridcolor\":\"white\",\"linecolor\":\"white\",\"minorgridcolor\":\"white\",\"startlinecolor\":\"#2a3f5f\"},\"type\":\"carpet\"}],\"table\":[{\"cells\":{\"fill\":{\"color\":\"#EBF0F8\"},\"line\":{\"color\":\"white\"}},\"header\":{\"fill\":{\"color\":\"#C8D4E3\"},\"line\":{\"color\":\"white\"}},\"type\":\"table\"}],\"barpolar\":[{\"marker\":{\"line\":{\"color\":\"#E5ECF6\",\"width\":0.5},\"pattern\":{\"fillmode\":\"overlay\",\"size\":10,\"solidity\":0.2}},\"type\":\"barpolar\"}],\"pie\":[{\"automargin\":true,\"type\":\"pie\"}]},\"layout\":{\"autotypenumbers\":\"strict\",\"colorway\":[\"#636efa\",\"#EF553B\",\"#00cc96\",\"#ab63fa\",\"#FFA15A\",\"#19d3f3\",\"#FF6692\",\"#B6E880\",\"#FF97FF\",\"#FECB52\"],\"font\":{\"color\":\"#2a3f5f\"},\"hovermode\":\"closest\",\"hoverlabel\":{\"align\":\"left\"},\"paper_bgcolor\":\"white\",\"plot_bgcolor\":\"#E5ECF6\",\"polar\":{\"bgcolor\":\"#E5ECF6\",\"angularaxis\":{\"gridcolor\":\"white\",\"linecolor\":\"white\",\"ticks\":\"\"},\"radialaxis\":{\"gridcolor\":\"white\",\"linecolor\":\"white\",\"ticks\":\"\"}},\"ternary\":{\"bgcolor\":\"#E5ECF6\",\"aaxis\":{\"gridcolor\":\"white\",\"linecolor\":\"white\",\"ticks\":\"\"},\"baxis\":{\"gridcolor\":\"white\",\"linecolor\":\"white\",\"ticks\":\"\"},\"caxis\":{\"gridcolor\":\"white\",\"linecolor\":\"white\",\"ticks\":\"\"}},\"coloraxis\":{\"colorbar\":{\"outlinewidth\":0,\"ticks\":\"\"}},\"colorscale\":{\"sequential\":[[0.0,\"#0d0887\"],[0.1111111111111111,\"#46039f\"],[0.2222222222222222,\"#7201a8\"],[0.3333333333333333,\"#9c179e\"],[0.4444444444444444,\"#bd3786\"],[0.5555555555555556,\"#d8576b\"],[0.6666666666666666,\"#ed7953\"],[0.7777777777777778,\"#fb9f3a\"],[0.8888888888888888,\"#fdca26\"],[1.0,\"#f0f921\"]],\"sequentialminus\":[[0.0,\"#0d0887\"],[0.1111111111111111,\"#46039f\"],[0.2222222222222222,\"#7201a8\"],[0.3333333333333333,\"#9c179e\"],[0.4444444444444444,\"#bd3786\"],[0.5555555555555556,\"#d8576b\"],[0.6666666666666666,\"#ed7953\"],[0.7777777777777778,\"#fb9f3a\"],[0.8888888888888888,\"#fdca26\"],[1.0,\"#f0f921\"]],\"diverging\":[[0,\"#8e0152\"],[0.1,\"#c51b7d\"],[0.2,\"#de77ae\"],[0.3,\"#f1b6da\"],[0.4,\"#fde0ef\"],[0.5,\"#f7f7f7\"],[0.6,\"#e6f5d0\"],[0.7,\"#b8e186\"],[0.8,\"#7fbc41\"],[0.9,\"#4d9221\"],[1,\"#276419\"]]},\"xaxis\":{\"gridcolor\":\"white\",\"linecolor\":\"white\",\"ticks\":\"\",\"title\":{\"standoff\":15},\"zerolinecolor\":\"white\",\"automargin\":true,\"zerolinewidth\":2},\"yaxis\":{\"gridcolor\":\"white\",\"linecolor\":\"white\",\"ticks\":\"\",\"title\":{\"standoff\":15},\"zerolinecolor\":\"white\",\"automargin\":true,\"zerolinewidth\":2},\"scene\":{\"xaxis\":{\"backgroundcolor\":\"#E5ECF6\",\"gridcolor\":\"white\",\"linecolor\":\"white\",\"showbackground\":true,\"ticks\":\"\",\"zerolinecolor\":\"white\",\"gridwidth\":2},\"yaxis\":{\"backgroundcolor\":\"#E5ECF6\",\"gridcolor\":\"white\",\"linecolor\":\"white\",\"showbackground\":true,\"ticks\":\"\",\"zerolinecolor\":\"white\",\"gridwidth\":2},\"zaxis\":{\"backgroundcolor\":\"#E5ECF6\",\"gridcolor\":\"white\",\"linecolor\":\"white\",\"showbackground\":true,\"ticks\":\"\",\"zerolinecolor\":\"white\",\"gridwidth\":2}},\"shapedefaults\":{\"line\":{\"color\":\"#2a3f5f\"}},\"annotationdefaults\":{\"arrowcolor\":\"#2a3f5f\",\"arrowhead\":0,\"arrowwidth\":1},\"geo\":{\"bgcolor\":\"white\",\"landcolor\":\"#E5ECF6\",\"subunitcolor\":\"white\",\"showland\":true,\"showlakes\":true,\"lakecolor\":\"white\"},\"title\":{\"x\":0.05},\"mapbox\":{\"style\":\"light\"}}},\"xaxis\":{\"anchor\":\"y\",\"domain\":[0.0,0.94],\"rangeslider\":{\"visible\":false},\"gridcolor\":\"#0d292f\",\"nticks\":5},\"yaxis\":{\"anchor\":\"x\",\"domain\":[0.0,1.0],\"gridcolor\":\"#0d292f\"},\"yaxis2\":{\"anchor\":\"x\",\"overlaying\":\"y\",\"side\":\"right\",\"gridcolor\":\"#0d292f\"},\"margin\":{\"l\":10,\"r\":10,\"b\":10,\"t\":10},\"width\":900,\"height\":400,\"plot_bgcolor\":\"#2c303c\"},                        {\"responsive\": true}                    ).then(function(){\n",
       "                            \n",
       "var gd = document.getElementById('1cb6ecc0-ebb9-4bb7-9762-e093328656aa');\n",
       "var x = new MutationObserver(function (mutations, observer) {{\n",
       "        var display = window.getComputedStyle(gd).display;\n",
       "        if (!display || display === 'none') {{\n",
       "            console.log([gd, 'removed!']);\n",
       "            Plotly.purge(gd);\n",
       "            observer.disconnect();\n",
       "        }}\n",
       "}});\n",
       "\n",
       "// Listen for the removal of the full notebook cells\n",
       "var notebookContainer = gd.closest('#notebook-container');\n",
       "if (notebookContainer) {{\n",
       "    x.observe(notebookContainer, {childList: true});\n",
       "}}\n",
       "\n",
       "// Listen for the clearing of the current output cell\n",
       "var outputEl = gd.closest('.output');\n",
       "if (outputEl) {{\n",
       "    x.observe(outputEl, {childList: true});\n",
       "}}\n",
       "\n",
       "                        })                };                });            </script>        </div>"
      ]
     },
     "metadata": {},
     "output_type": "display_data"
    }
   ],
   "source": [
    "\n",
    "cp=CandlePlot(df_plot, candles=True)\n",
    "\n",
    "trades=cp.df_plot[df_plot.SIGNAL != NONE]\n",
    "markers=['mid_c','TAKE_PROFIT',\"STOP_LOSS\"]\n",
    "marker_colors=[\"#0000FF\",\"#00FF00\",\"#ff0000\"]\n",
    "for i in range(3):\n",
    "    cp.fig.add_trace(go.Scatter(\n",
    "        x=trades.sTime,\n",
    "        y=trades[markers[i]],\n",
    "        mode='markers',\n",
    "        marker=dict(color=marker_colors[i],size=12)\n",
    "        \n",
    "    ))\n",
    "    cp.show_plot(line_traces=[\"EMA_200\"],sec_traces=[\"RSI_14\"])"
   ]
  },
  {
   "cell_type": "code",
   "execution_count": 101,
   "id": "5822c55e-fd20-4113-a7d8-52ba6268cd22",
   "metadata": {},
   "outputs": [],
   "source": [
    "df_results.sort_values(by=\"start_index\",inplace=True)\n"
   ]
  },
  {
   "cell_type": "code",
   "execution_count": 68,
   "id": "ef90c495-45e9-4ffb-b12f-a2f17d1c58e1",
   "metadata": {},
   "outputs": [],
   "source": [
    "class Trade:\n",
    "    def __init__(self,row):\n",
    "        self.running=True\n",
    "        self.start_index=row.name\n",
    "        self.start_price=row.mid_c\n",
    "        self.trigger_price=row.mid_c\n",
    "        self.SIGNAL=row.SIGNAL\n",
    "        self.TAKE_PROFIT=row.TAKE_PROFIT\n",
    "        self.STOP_LOSS=row.STOP_LOSS\n",
    "        self.result=0.0\n",
    "        self.end_time=row.time\n",
    "        self.start_time=row.time\n",
    "        self.duration=0\n",
    "\n",
    "    \n",
    "    def close_trade(self,row,result,trigger_price):\n",
    "        self.running=False\n",
    "        self.result=result \n",
    "        self.end_time=row.time\n",
    "        self.trigger_price=trigger_price\n",
    "        \n",
    "    \n",
    "    \n",
    "    def update(self,row):\n",
    "        self.duration+=1\n",
    "        if self.SIGNAL == BUY:\n",
    "            if row.mid_h>=self.TAKE_PROFIT:\n",
    "                self.close_trade(row,PROFIT_FACTOR,row.mid_h)\n",
    "                \n",
    "            elif row.mid_l<=self.STOP_LOSS:\n",
    "                self.close_trade(row,LOSS_FACTOR,row.mid_l)\n",
    "\n",
    "             # if row.mid_l<=self.STOP_LOSS:\n",
    "             #    self.close_trade(row,LOSS_FACTOR,row.mid_l)\n",
    "                \n",
    "             # elif  row.mid_h>=self.TAKE_PROFIT:\n",
    "             #    self.close_trade(row,PROFIT_FACTOR,row.mid_h)\n",
    "                \n",
    "\n",
    "        if self.SIGNAL == SELL:\n",
    "            if row.mid_h<=self.TAKE_PROFIT:\n",
    "                self.close_trade(row,PROFIT_FACTOR,row.mid_l)\n",
    "                \n",
    "            elif row.mid_l>=self.STOP_LOSS:\n",
    "                self.close_trade(row,LOSS_FACTOR,row.mid_h)\n",
    "\n",
    "\n",
    "            # if  row.mid_l>=self.STOP_LOSS:\n",
    "            #     self.close_trade(row,LOSS_FACTOR,row.mid_h)\n",
    "                \n",
    "            # elif row.mid_h<=self.TAKE_PROFIT:\n",
    "            #     self.close_trade(row,PROFIT_FACTOR,row.mid_l)\n",
    "            \n",
    "\n"
   ]
  },
  {
   "cell_type": "code",
   "execution_count": 70,
   "id": "ab52fe64-1ad1-4d84-9d93-19859c753633",
   "metadata": {},
   "outputs": [],
   "source": [
    "open_trades=[]\n",
    "closed_trades=[]\n",
    "for index, row in df_slim.iterrows():\n",
    "    for ot in open_trades:\n",
    "        ot.update(row)\n",
    "        if ot.running==False:\n",
    "            closed_trades.append(ot)\n",
    "    open_trades=[x for x in open_trades if x.running==True]\n",
    "\n",
    "    if row.SIGNAL!=NONE:\n",
    "        open_trades.append(Trade(row))\n",
    "    \n",
    "        "
   ]
  },
  {
   "cell_type": "code",
   "execution_count": 71,
   "id": "9281e3ff-bbb6-416f-bb61-62e81d08d220",
   "metadata": {},
   "outputs": [],
   "source": [
    "df_results=pd.DataFrame.from_dict([vars(x) for x in closed_trades])"
   ]
  },
  {
   "cell_type": "code",
   "execution_count": 72,
   "id": "1d598f28-dd7c-44bd-9dd1-a2ffb58e06dd",
   "metadata": {},
   "outputs": [
    {
     "data": {
      "text/plain": [
       "248.0"
      ]
     },
     "execution_count": 72,
     "metadata": {},
     "output_type": "execute_result"
    }
   ],
   "source": [
    "df_results.result.sum()"
   ]
  },
  {
   "cell_type": "code",
   "execution_count": 141,
   "id": "5239002d-8b3b-489c-8901-ca632c44a5a1",
   "metadata": {},
   "outputs": [],
   "source": [
    "df_m5=pd.read_pickle(\"../data/EUR_USD_M5.pkl\")"
   ]
  },
  {
   "cell_type": "code",
   "execution_count": 142,
   "id": "d7cc2b42-aa65-4b17-959e-1b8bc46187fa",
   "metadata": {},
   "outputs": [
    {
     "data": {
      "text/plain": [
       "Timestamp('2021-12-30 23:00:00+0000', tz='tzutc()')"
      ]
     },
     "execution_count": 142,
     "metadata": {},
     "output_type": "execute_result"
    }
   ],
   "source": [
    "df_raw.time.max()"
   ]
  },
  {
   "cell_type": "code",
   "execution_count": 143,
   "id": "8f079d6e-23ba-4686-b747-761ca9fe66d1",
   "metadata": {},
   "outputs": [
    {
     "data": {
      "text/plain": [
       "Timestamp('2021-12-30 23:55:00+0000', tz='tzutc()')"
      ]
     },
     "execution_count": 143,
     "metadata": {},
     "output_type": "execute_result"
    }
   ],
   "source": [
    "df_m5.time.max()"
   ]
  },
  {
   "cell_type": "code",
   "execution_count": 144,
   "id": "2aa1721d-a517-446b-937c-e57c9434615e",
   "metadata": {},
   "outputs": [],
   "source": [
    "from dateutil import parser\n",
    "time_min=parser.parse(\"2021-12-15T10:00:00Z\")\n",
    "time_max=parser.parse(\"2021-12-15T11:00:00Z\")\n",
    "df_m5_s= df_m5[(df_m5.time>=time_min)&(df_m5.time<=time_max)]\n",
    "df_raw_s=df_raw[(df_raw.time>=time_min)&(df_raw.time<=time_max)]"
   ]
  },
  {
   "cell_type": "code",
   "execution_count": 145,
   "id": "392de1f2-429c-4a03-80f2-ffb3e244e995",
   "metadata": {},
   "outputs": [
    {
     "data": {
      "text/html": [
       "<div>\n",
       "<style scoped>\n",
       "    .dataframe tbody tr th:only-of-type {\n",
       "        vertical-align: middle;\n",
       "    }\n",
       "\n",
       "    .dataframe tbody tr th {\n",
       "        vertical-align: top;\n",
       "    }\n",
       "\n",
       "    .dataframe thead th {\n",
       "        text-align: right;\n",
       "    }\n",
       "</style>\n",
       "<table border=\"1\" class=\"dataframe\">\n",
       "  <thead>\n",
       "    <tr style=\"text-align: right;\">\n",
       "      <th></th>\n",
       "      <th>time</th>\n",
       "      <th>volume</th>\n",
       "      <th>mid_o</th>\n",
       "      <th>mid_h</th>\n",
       "      <th>mid_l</th>\n",
       "      <th>mid_c</th>\n",
       "      <th>bid_o</th>\n",
       "      <th>bid_h</th>\n",
       "      <th>bid_l</th>\n",
       "      <th>bid_c</th>\n",
       "      <th>ask_o</th>\n",
       "      <th>ask_h</th>\n",
       "      <th>ask_l</th>\n",
       "      <th>ask_c</th>\n",
       "    </tr>\n",
       "  </thead>\n",
       "  <tbody>\n",
       "    <tr>\n",
       "      <th>423015</th>\n",
       "      <td>2021-12-15 10:00:00+00:00</td>\n",
       "      <td>208</td>\n",
       "      <td>1.12716</td>\n",
       "      <td>1.12745</td>\n",
       "      <td>1.12709</td>\n",
       "      <td>1.12734</td>\n",
       "      <td>1.12708</td>\n",
       "      <td>1.12738</td>\n",
       "      <td>1.12702</td>\n",
       "      <td>1.12727</td>\n",
       "      <td>1.12723</td>\n",
       "      <td>1.12752</td>\n",
       "      <td>1.12715</td>\n",
       "      <td>1.12742</td>\n",
       "    </tr>\n",
       "    <tr>\n",
       "      <th>423016</th>\n",
       "      <td>2021-12-15 10:05:00+00:00</td>\n",
       "      <td>132</td>\n",
       "      <td>1.12733</td>\n",
       "      <td>1.12754</td>\n",
       "      <td>1.12726</td>\n",
       "      <td>1.12746</td>\n",
       "      <td>1.12726</td>\n",
       "      <td>1.12747</td>\n",
       "      <td>1.12719</td>\n",
       "      <td>1.12739</td>\n",
       "      <td>1.12740</td>\n",
       "      <td>1.12760</td>\n",
       "      <td>1.12733</td>\n",
       "      <td>1.12752</td>\n",
       "    </tr>\n",
       "    <tr>\n",
       "      <th>423017</th>\n",
       "      <td>2021-12-15 10:10:00+00:00</td>\n",
       "      <td>166</td>\n",
       "      <td>1.12744</td>\n",
       "      <td>1.12752</td>\n",
       "      <td>1.12732</td>\n",
       "      <td>1.12746</td>\n",
       "      <td>1.12737</td>\n",
       "      <td>1.12745</td>\n",
       "      <td>1.12725</td>\n",
       "      <td>1.12739</td>\n",
       "      <td>1.12750</td>\n",
       "      <td>1.12760</td>\n",
       "      <td>1.12739</td>\n",
       "      <td>1.12753</td>\n",
       "    </tr>\n",
       "    <tr>\n",
       "      <th>423018</th>\n",
       "      <td>2021-12-15 10:15:00+00:00</td>\n",
       "      <td>138</td>\n",
       "      <td>1.12744</td>\n",
       "      <td>1.12770</td>\n",
       "      <td>1.12740</td>\n",
       "      <td>1.12761</td>\n",
       "      <td>1.12737</td>\n",
       "      <td>1.12763</td>\n",
       "      <td>1.12733</td>\n",
       "      <td>1.12754</td>\n",
       "      <td>1.12752</td>\n",
       "      <td>1.12776</td>\n",
       "      <td>1.12747</td>\n",
       "      <td>1.12768</td>\n",
       "    </tr>\n",
       "    <tr>\n",
       "      <th>423019</th>\n",
       "      <td>2021-12-15 10:20:00+00:00</td>\n",
       "      <td>252</td>\n",
       "      <td>1.12760</td>\n",
       "      <td>1.12762</td>\n",
       "      <td>1.12712</td>\n",
       "      <td>1.12712</td>\n",
       "      <td>1.12753</td>\n",
       "      <td>1.12756</td>\n",
       "      <td>1.12705</td>\n",
       "      <td>1.12705</td>\n",
       "      <td>1.12767</td>\n",
       "      <td>1.12769</td>\n",
       "      <td>1.12719</td>\n",
       "      <td>1.12719</td>\n",
       "    </tr>\n",
       "    <tr>\n",
       "      <th>423020</th>\n",
       "      <td>2021-12-15 10:25:00+00:00</td>\n",
       "      <td>198</td>\n",
       "      <td>1.12711</td>\n",
       "      <td>1.12726</td>\n",
       "      <td>1.12695</td>\n",
       "      <td>1.12695</td>\n",
       "      <td>1.12704</td>\n",
       "      <td>1.12719</td>\n",
       "      <td>1.12688</td>\n",
       "      <td>1.12688</td>\n",
       "      <td>1.12718</td>\n",
       "      <td>1.12733</td>\n",
       "      <td>1.12702</td>\n",
       "      <td>1.12702</td>\n",
       "    </tr>\n",
       "    <tr>\n",
       "      <th>423021</th>\n",
       "      <td>2021-12-15 10:30:00+00:00</td>\n",
       "      <td>142</td>\n",
       "      <td>1.12696</td>\n",
       "      <td>1.12698</td>\n",
       "      <td>1.12680</td>\n",
       "      <td>1.12696</td>\n",
       "      <td>1.12689</td>\n",
       "      <td>1.12691</td>\n",
       "      <td>1.12674</td>\n",
       "      <td>1.12690</td>\n",
       "      <td>1.12703</td>\n",
       "      <td>1.12706</td>\n",
       "      <td>1.12686</td>\n",
       "      <td>1.12703</td>\n",
       "    </tr>\n",
       "    <tr>\n",
       "      <th>423022</th>\n",
       "      <td>2021-12-15 10:35:00+00:00</td>\n",
       "      <td>121</td>\n",
       "      <td>1.12698</td>\n",
       "      <td>1.12712</td>\n",
       "      <td>1.12698</td>\n",
       "      <td>1.12700</td>\n",
       "      <td>1.12691</td>\n",
       "      <td>1.12705</td>\n",
       "      <td>1.12691</td>\n",
       "      <td>1.12693</td>\n",
       "      <td>1.12704</td>\n",
       "      <td>1.12718</td>\n",
       "      <td>1.12704</td>\n",
       "      <td>1.12706</td>\n",
       "    </tr>\n",
       "    <tr>\n",
       "      <th>423023</th>\n",
       "      <td>2021-12-15 10:40:00+00:00</td>\n",
       "      <td>206</td>\n",
       "      <td>1.12698</td>\n",
       "      <td>1.12707</td>\n",
       "      <td>1.12651</td>\n",
       "      <td>1.12656</td>\n",
       "      <td>1.12692</td>\n",
       "      <td>1.12700</td>\n",
       "      <td>1.12644</td>\n",
       "      <td>1.12649</td>\n",
       "      <td>1.12705</td>\n",
       "      <td>1.12714</td>\n",
       "      <td>1.12658</td>\n",
       "      <td>1.12663</td>\n",
       "    </tr>\n",
       "    <tr>\n",
       "      <th>423024</th>\n",
       "      <td>2021-12-15 10:45:00+00:00</td>\n",
       "      <td>165</td>\n",
       "      <td>1.12655</td>\n",
       "      <td>1.12668</td>\n",
       "      <td>1.12645</td>\n",
       "      <td>1.12654</td>\n",
       "      <td>1.12648</td>\n",
       "      <td>1.12661</td>\n",
       "      <td>1.12638</td>\n",
       "      <td>1.12648</td>\n",
       "      <td>1.12662</td>\n",
       "      <td>1.12675</td>\n",
       "      <td>1.12652</td>\n",
       "      <td>1.12661</td>\n",
       "    </tr>\n",
       "    <tr>\n",
       "      <th>423025</th>\n",
       "      <td>2021-12-15 10:50:00+00:00</td>\n",
       "      <td>125</td>\n",
       "      <td>1.12653</td>\n",
       "      <td>1.12653</td>\n",
       "      <td>1.12634</td>\n",
       "      <td>1.12640</td>\n",
       "      <td>1.12646</td>\n",
       "      <td>1.12646</td>\n",
       "      <td>1.12627</td>\n",
       "      <td>1.12633</td>\n",
       "      <td>1.12660</td>\n",
       "      <td>1.12660</td>\n",
       "      <td>1.12640</td>\n",
       "      <td>1.12648</td>\n",
       "    </tr>\n",
       "    <tr>\n",
       "      <th>423026</th>\n",
       "      <td>2021-12-15 10:55:00+00:00</td>\n",
       "      <td>185</td>\n",
       "      <td>1.12642</td>\n",
       "      <td>1.12678</td>\n",
       "      <td>1.12634</td>\n",
       "      <td>1.12673</td>\n",
       "      <td>1.12635</td>\n",
       "      <td>1.12672</td>\n",
       "      <td>1.12627</td>\n",
       "      <td>1.12666</td>\n",
       "      <td>1.12650</td>\n",
       "      <td>1.12685</td>\n",
       "      <td>1.12640</td>\n",
       "      <td>1.12680</td>\n",
       "    </tr>\n",
       "    <tr>\n",
       "      <th>423027</th>\n",
       "      <td>2021-12-15 11:00:00+00:00</td>\n",
       "      <td>202</td>\n",
       "      <td>1.12674</td>\n",
       "      <td>1.12674</td>\n",
       "      <td>1.12643</td>\n",
       "      <td>1.12644</td>\n",
       "      <td>1.12667</td>\n",
       "      <td>1.12667</td>\n",
       "      <td>1.12636</td>\n",
       "      <td>1.12638</td>\n",
       "      <td>1.12681</td>\n",
       "      <td>1.12681</td>\n",
       "      <td>1.12650</td>\n",
       "      <td>1.12651</td>\n",
       "    </tr>\n",
       "  </tbody>\n",
       "</table>\n",
       "</div>"
      ],
      "text/plain": [
       "                            time  volume    mid_o    mid_h    mid_l    mid_c  \\\n",
       "423015 2021-12-15 10:00:00+00:00     208  1.12716  1.12745  1.12709  1.12734   \n",
       "423016 2021-12-15 10:05:00+00:00     132  1.12733  1.12754  1.12726  1.12746   \n",
       "423017 2021-12-15 10:10:00+00:00     166  1.12744  1.12752  1.12732  1.12746   \n",
       "423018 2021-12-15 10:15:00+00:00     138  1.12744  1.12770  1.12740  1.12761   \n",
       "423019 2021-12-15 10:20:00+00:00     252  1.12760  1.12762  1.12712  1.12712   \n",
       "423020 2021-12-15 10:25:00+00:00     198  1.12711  1.12726  1.12695  1.12695   \n",
       "423021 2021-12-15 10:30:00+00:00     142  1.12696  1.12698  1.12680  1.12696   \n",
       "423022 2021-12-15 10:35:00+00:00     121  1.12698  1.12712  1.12698  1.12700   \n",
       "423023 2021-12-15 10:40:00+00:00     206  1.12698  1.12707  1.12651  1.12656   \n",
       "423024 2021-12-15 10:45:00+00:00     165  1.12655  1.12668  1.12645  1.12654   \n",
       "423025 2021-12-15 10:50:00+00:00     125  1.12653  1.12653  1.12634  1.12640   \n",
       "423026 2021-12-15 10:55:00+00:00     185  1.12642  1.12678  1.12634  1.12673   \n",
       "423027 2021-12-15 11:00:00+00:00     202  1.12674  1.12674  1.12643  1.12644   \n",
       "\n",
       "          bid_o    bid_h    bid_l    bid_c    ask_o    ask_h    ask_l    ask_c  \n",
       "423015  1.12708  1.12738  1.12702  1.12727  1.12723  1.12752  1.12715  1.12742  \n",
       "423016  1.12726  1.12747  1.12719  1.12739  1.12740  1.12760  1.12733  1.12752  \n",
       "423017  1.12737  1.12745  1.12725  1.12739  1.12750  1.12760  1.12739  1.12753  \n",
       "423018  1.12737  1.12763  1.12733  1.12754  1.12752  1.12776  1.12747  1.12768  \n",
       "423019  1.12753  1.12756  1.12705  1.12705  1.12767  1.12769  1.12719  1.12719  \n",
       "423020  1.12704  1.12719  1.12688  1.12688  1.12718  1.12733  1.12702  1.12702  \n",
       "423021  1.12689  1.12691  1.12674  1.12690  1.12703  1.12706  1.12686  1.12703  \n",
       "423022  1.12691  1.12705  1.12691  1.12693  1.12704  1.12718  1.12704  1.12706  \n",
       "423023  1.12692  1.12700  1.12644  1.12649  1.12705  1.12714  1.12658  1.12663  \n",
       "423024  1.12648  1.12661  1.12638  1.12648  1.12662  1.12675  1.12652  1.12661  \n",
       "423025  1.12646  1.12646  1.12627  1.12633  1.12660  1.12660  1.12640  1.12648  \n",
       "423026  1.12635  1.12672  1.12627  1.12666  1.12650  1.12685  1.12640  1.12680  \n",
       "423027  1.12667  1.12667  1.12636  1.12638  1.12681  1.12681  1.12650  1.12651  "
      ]
     },
     "execution_count": 145,
     "metadata": {},
     "output_type": "execute_result"
    }
   ],
   "source": [
    "df_m5_s"
   ]
  },
  {
   "cell_type": "code",
   "execution_count": 146,
   "id": "50b982c3-0504-43de-99ca-c9f9456b8918",
   "metadata": {},
   "outputs": [
    {
     "data": {
      "text/html": [
       "<div>\n",
       "<style scoped>\n",
       "    .dataframe tbody tr th:only-of-type {\n",
       "        vertical-align: middle;\n",
       "    }\n",
       "\n",
       "    .dataframe tbody tr th {\n",
       "        vertical-align: top;\n",
       "    }\n",
       "\n",
       "    .dataframe thead th {\n",
       "        text-align: right;\n",
       "    }\n",
       "</style>\n",
       "<table border=\"1\" class=\"dataframe\">\n",
       "  <thead>\n",
       "    <tr style=\"text-align: right;\">\n",
       "      <th></th>\n",
       "      <th>time</th>\n",
       "      <th>volume</th>\n",
       "      <th>mid_o</th>\n",
       "      <th>mid_h</th>\n",
       "      <th>mid_l</th>\n",
       "      <th>mid_c</th>\n",
       "      <th>bid_o</th>\n",
       "      <th>bid_h</th>\n",
       "      <th>bid_l</th>\n",
       "      <th>bid_c</th>\n",
       "      <th>ask_o</th>\n",
       "      <th>ask_h</th>\n",
       "      <th>ask_l</th>\n",
       "      <th>ask_c</th>\n",
       "    </tr>\n",
       "  </thead>\n",
       "  <tbody>\n",
       "    <tr>\n",
       "      <th>35380</th>\n",
       "      <td>2021-12-15 10:00:00+00:00</td>\n",
       "      <td>2038</td>\n",
       "      <td>1.12716</td>\n",
       "      <td>1.1277</td>\n",
       "      <td>1.12634</td>\n",
       "      <td>1.12673</td>\n",
       "      <td>1.12708</td>\n",
       "      <td>1.12763</td>\n",
       "      <td>1.12627</td>\n",
       "      <td>1.12666</td>\n",
       "      <td>1.12723</td>\n",
       "      <td>1.12776</td>\n",
       "      <td>1.12640</td>\n",
       "      <td>1.12680</td>\n",
       "    </tr>\n",
       "    <tr>\n",
       "      <th>35381</th>\n",
       "      <td>2021-12-15 11:00:00+00:00</td>\n",
       "      <td>2138</td>\n",
       "      <td>1.12674</td>\n",
       "      <td>1.1270</td>\n",
       "      <td>1.12626</td>\n",
       "      <td>1.12698</td>\n",
       "      <td>1.12667</td>\n",
       "      <td>1.12693</td>\n",
       "      <td>1.12619</td>\n",
       "      <td>1.12691</td>\n",
       "      <td>1.12681</td>\n",
       "      <td>1.12706</td>\n",
       "      <td>1.12631</td>\n",
       "      <td>1.12705</td>\n",
       "    </tr>\n",
       "  </tbody>\n",
       "</table>\n",
       "</div>"
      ],
      "text/plain": [
       "                           time  volume    mid_o   mid_h    mid_l    mid_c  \\\n",
       "35380 2021-12-15 10:00:00+00:00    2038  1.12716  1.1277  1.12634  1.12673   \n",
       "35381 2021-12-15 11:00:00+00:00    2138  1.12674  1.1270  1.12626  1.12698   \n",
       "\n",
       "         bid_o    bid_h    bid_l    bid_c    ask_o    ask_h    ask_l    ask_c  \n",
       "35380  1.12708  1.12763  1.12627  1.12666  1.12723  1.12776  1.12640  1.12680  \n",
       "35381  1.12667  1.12693  1.12619  1.12691  1.12681  1.12706  1.12631  1.12705  "
      ]
     },
     "execution_count": 146,
     "metadata": {},
     "output_type": "execute_result"
    }
   ],
   "source": [
    "df_raw_s"
   ]
  },
  {
   "cell_type": "code",
   "execution_count": 147,
   "id": "d101ce69-03c0-4b40-b524-4c5d00246ca9",
   "metadata": {},
   "outputs": [],
   "source": [
    "df_m5_slim=df_m5[['time','mid_h','mid_l']].copy()"
   ]
  },
  {
   "cell_type": "code",
   "execution_count": 148,
   "id": "613ca885-1908-48c5-a763-46748379071c",
   "metadata": {},
   "outputs": [],
   "source": [
    "df_signals=df_slim[df_slim.SIGNAL != NONE].copy()\n"
   ]
  },
  {
   "cell_type": "code",
   "execution_count": 149,
   "id": "28635032-80fb-4b54-81f1-fc751659123b",
   "metadata": {},
   "outputs": [],
   "source": [
    "df_signals['m5_start']=[x+ dt.timedelta(hours=1) for x in df_signals.time]"
   ]
  },
  {
   "cell_type": "code",
   "execution_count": 150,
   "id": "3a9047b4-520f-439d-9059-cf03920b923b",
   "metadata": {},
   "outputs": [],
   "source": [
    "df_signals['start_index_h1']=df_signals.index"
   ]
  },
  {
   "cell_type": "code",
   "execution_count": 151,
   "id": "2e4c7eab-64bd-4264-ac7c-406bc76bf376",
   "metadata": {},
   "outputs": [
    {
     "data": {
      "text/plain": [
       "Index(['time', 'mid_o', 'mid_h', 'mid_l', 'mid_c', 'ask_c', 'bid_c',\n",
       "       'ENGULFING', 'EMA_200', 'direction', 'RSI_14', 'SIGNAL', 'TAKE_PROFIT',\n",
       "       'STOP_LOSS', 'm5_start', 'start_index_h1'],\n",
       "      dtype='object')"
      ]
     },
     "execution_count": 151,
     "metadata": {},
     "output_type": "execute_result"
    }
   ],
   "source": [
    "df_signals.columns"
   ]
  },
  {
   "cell_type": "code",
   "execution_count": 152,
   "id": "89e3c07b-3adb-4c7d-ae52-88df7049782b",
   "metadata": {},
   "outputs": [],
   "source": [
    "df_signals.drop(['time', 'mid_o', 'mid_h', 'mid_l','ask_c', 'bid_c','ENGULFING', 'EMA_200','RSI_14' ],axis=1, inplace=True)"
   ]
  },
  {
   "cell_type": "code",
   "execution_count": 156,
   "id": "5b0e1708-b32c-4991-a613-2dc7d36f8a0b",
   "metadata": {},
   "outputs": [],
   "source": [
    "df_signals.rename(columns={\n",
    "'mid_c':'start_price',\n",
    "'m5_start':'time'\n",
    "    \n",
    "},inplace=True)"
   ]
  },
  {
   "cell_type": "code",
   "execution_count": 158,
   "id": "94bca682-7c6d-4518-8d43-3685afec8147",
   "metadata": {},
   "outputs": [],
   "source": [
    "merged=pd.merge(left=df_m5_slim, right=df_signals,on='time',how='left')"
   ]
  },
  {
   "cell_type": "code",
   "execution_count": 162,
   "id": "44f4e210-e76e-4126-b95c-b3ba100d7e71",
   "metadata": {},
   "outputs": [],
   "source": [
    "merged[merged.SIGNAL.isna()==False].head()\n",
    "merged.fillna(0,inplace=True)\n",
    "merged.SIGNAL=merged.SIGNAL.astype(int)\n",
    "merged.start_index_h1=merged.start_index_h1.astype(int)"
   ]
  },
  {
   "cell_type": "code",
   "execution_count": 163,
   "id": "fdd0e05b-9fa8-4a07-a8f0-1211dceb2199",
   "metadata": {},
   "outputs": [
    {
     "data": {
      "text/html": [
       "<div>\n",
       "<style scoped>\n",
       "    .dataframe tbody tr th:only-of-type {\n",
       "        vertical-align: middle;\n",
       "    }\n",
       "\n",
       "    .dataframe tbody tr th {\n",
       "        vertical-align: top;\n",
       "    }\n",
       "\n",
       "    .dataframe thead th {\n",
       "        text-align: right;\n",
       "    }\n",
       "</style>\n",
       "<table border=\"1\" class=\"dataframe\">\n",
       "  <thead>\n",
       "    <tr style=\"text-align: right;\">\n",
       "      <th></th>\n",
       "      <th>time</th>\n",
       "      <th>mid_h</th>\n",
       "      <th>mid_l</th>\n",
       "      <th>start_price</th>\n",
       "      <th>direction</th>\n",
       "      <th>SIGNAL</th>\n",
       "      <th>TAKE_PROFIT</th>\n",
       "      <th>STOP_LOSS</th>\n",
       "      <th>start_index_h1</th>\n",
       "    </tr>\n",
       "  </thead>\n",
       "  <tbody>\n",
       "    <tr>\n",
       "      <th>0</th>\n",
       "      <td>2016-04-07 00:00:00+00:00</td>\n",
       "      <td>1.14018</td>\n",
       "      <td>1.13986</td>\n",
       "      <td>0.0</td>\n",
       "      <td>0.0</td>\n",
       "      <td>0</td>\n",
       "      <td>0.0</td>\n",
       "      <td>0.0</td>\n",
       "      <td>0</td>\n",
       "    </tr>\n",
       "    <tr>\n",
       "      <th>1</th>\n",
       "      <td>2016-04-07 00:05:00+00:00</td>\n",
       "      <td>1.14065</td>\n",
       "      <td>1.14018</td>\n",
       "      <td>0.0</td>\n",
       "      <td>0.0</td>\n",
       "      <td>0</td>\n",
       "      <td>0.0</td>\n",
       "      <td>0.0</td>\n",
       "      <td>0</td>\n",
       "    </tr>\n",
       "    <tr>\n",
       "      <th>2</th>\n",
       "      <td>2016-04-07 00:10:00+00:00</td>\n",
       "      <td>1.14055</td>\n",
       "      <td>1.14034</td>\n",
       "      <td>0.0</td>\n",
       "      <td>0.0</td>\n",
       "      <td>0</td>\n",
       "      <td>0.0</td>\n",
       "      <td>0.0</td>\n",
       "      <td>0</td>\n",
       "    </tr>\n",
       "    <tr>\n",
       "      <th>3</th>\n",
       "      <td>2016-04-07 00:15:00+00:00</td>\n",
       "      <td>1.14064</td>\n",
       "      <td>1.14032</td>\n",
       "      <td>0.0</td>\n",
       "      <td>0.0</td>\n",
       "      <td>0</td>\n",
       "      <td>0.0</td>\n",
       "      <td>0.0</td>\n",
       "      <td>0</td>\n",
       "    </tr>\n",
       "    <tr>\n",
       "      <th>4</th>\n",
       "      <td>2016-04-07 00:20:00+00:00</td>\n",
       "      <td>1.14068</td>\n",
       "      <td>1.14047</td>\n",
       "      <td>0.0</td>\n",
       "      <td>0.0</td>\n",
       "      <td>0</td>\n",
       "      <td>0.0</td>\n",
       "      <td>0.0</td>\n",
       "      <td>0</td>\n",
       "    </tr>\n",
       "  </tbody>\n",
       "</table>\n",
       "</div>"
      ],
      "text/plain": [
       "                       time    mid_h    mid_l  start_price  direction  SIGNAL  \\\n",
       "0 2016-04-07 00:00:00+00:00  1.14018  1.13986          0.0        0.0       0   \n",
       "1 2016-04-07 00:05:00+00:00  1.14065  1.14018          0.0        0.0       0   \n",
       "2 2016-04-07 00:10:00+00:00  1.14055  1.14034          0.0        0.0       0   \n",
       "3 2016-04-07 00:15:00+00:00  1.14064  1.14032          0.0        0.0       0   \n",
       "4 2016-04-07 00:20:00+00:00  1.14068  1.14047          0.0        0.0       0   \n",
       "\n",
       "   TAKE_PROFIT  STOP_LOSS  start_index_h1  \n",
       "0          0.0        0.0               0  \n",
       "1          0.0        0.0               0  \n",
       "2          0.0        0.0               0  \n",
       "3          0.0        0.0               0  \n",
       "4          0.0        0.0               0  "
      ]
     },
     "execution_count": 163,
     "metadata": {},
     "output_type": "execute_result"
    }
   ],
   "source": [
    "merged.head()"
   ]
  },
  {
   "cell_type": "code",
   "execution_count": null,
   "id": "085949c7-1487-44f4-bd8e-125392b0026a",
   "metadata": {},
   "outputs": [],
   "source": []
  }
 ],
 "metadata": {
  "kernelspec": {
   "display_name": "Python 3 (ipykernel)",
   "language": "python",
   "name": "python3"
  },
  "language_info": {
   "codemirror_mode": {
    "name": "ipython",
    "version": 3
   },
   "file_extension": ".py",
   "mimetype": "text/x-python",
   "name": "python",
   "nbconvert_exporter": "python",
   "pygments_lexer": "ipython3",
   "version": "3.8.2"
  }
 },
 "nbformat": 4,
 "nbformat_minor": 5
}
