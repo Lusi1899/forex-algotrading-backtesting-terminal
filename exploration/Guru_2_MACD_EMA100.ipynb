{
 "cells": [
  {
   "cell_type": "code",
   "execution_count": 1,
   "id": "d45bb3a8",
   "metadata": {},
   "outputs": [],
   "source": [
    "import sys\n",
    "sys.path.append(\"../\")"
   ]
  },
  {
   "cell_type": "code",
   "execution_count": 2,
   "id": "2276616b",
   "metadata": {},
   "outputs": [],
   "source": [
    "import pandas as pd\n",
    "import datetime as dt\n",
    "from technicals.indicators import MACD\n",
    "from technicals.patterns import apply_patterns\n",
    "from simulation.guru_tester import GuruTester\n",
    "from ploting import CandlePlot\n",
    "import plotly.graph_objects as go"
   ]
  },
  {
   "cell_type": "code",
   "execution_count": 3,
   "id": "a0d4271d",
   "metadata": {},
   "outputs": [],
   "source": [
    "BUY = 1\n",
    "SELL = -1\n",
    "NONE = 0\n",
    "\n",
    "    \n",
    "def apply_signal(row):\n",
    "    if row.direction == BUY and row.mid_l > row.EMA_100 and row.candle_dir == BUY:\n",
    "        return BUY\n",
    "    if row.direction == SELL and row.mid_h < row.EMA_100 and  row.candle_dir == SELL:\n",
    "        return SELL\n",
    "    return NONE        "
   ]
  },
  {
   "cell_type": "code",
   "execution_count": 5,
   "id": "22fbe913-22c2-4bbd-a587-1f513abdc3f4",
   "metadata": {},
   "outputs": [],
   "source": [
    "pair=\"EUR_USD\"\n",
    "df_an = pd.read_pickle(f\"../data/{pair}_H1.pkl\")\n",
    "df_m5 = pd.read_pickle(f\"../data/{pair}_M5.pkl\")\n",
    "df_an.reset_index(drop=True, inplace=True)\n",
    "df_m5.reset_index(drop=True, inplace=True)"
   ]
  },
  {
   "cell_type": "code",
   "execution_count": 6,
   "id": "ec3bbf32-f446-49b6-957a-898579949774",
   "metadata": {},
   "outputs": [
    {
     "data": {
      "text/html": [
       "<div>\n",
       "<style scoped>\n",
       "    .dataframe tbody tr th:only-of-type {\n",
       "        vertical-align: middle;\n",
       "    }\n",
       "\n",
       "    .dataframe tbody tr th {\n",
       "        vertical-align: top;\n",
       "    }\n",
       "\n",
       "    .dataframe thead th {\n",
       "        text-align: right;\n",
       "    }\n",
       "</style>\n",
       "<table border=\"1\" class=\"dataframe\">\n",
       "  <thead>\n",
       "    <tr style=\"text-align: right;\">\n",
       "      <th></th>\n",
       "      <th>time</th>\n",
       "      <th>volume</th>\n",
       "      <th>mid_o</th>\n",
       "      <th>mid_h</th>\n",
       "      <th>mid_l</th>\n",
       "      <th>mid_c</th>\n",
       "      <th>bid_o</th>\n",
       "      <th>bid_h</th>\n",
       "      <th>bid_l</th>\n",
       "      <th>bid_c</th>\n",
       "      <th>ask_o</th>\n",
       "      <th>ask_h</th>\n",
       "      <th>ask_l</th>\n",
       "      <th>ask_c</th>\n",
       "      <th>MACD</th>\n",
       "      <th>SIGNAL</th>\n",
       "      <th>HIST</th>\n",
       "      <th>EMA_100</th>\n",
       "    </tr>\n",
       "  </thead>\n",
       "  <tbody>\n",
       "    <tr>\n",
       "      <th>0</th>\n",
       "      <td>2018-04-13 00:00:00+00:00</td>\n",
       "      <td>1157</td>\n",
       "      <td>1.23290</td>\n",
       "      <td>1.23327</td>\n",
       "      <td>1.23262</td>\n",
       "      <td>1.23282</td>\n",
       "      <td>1.23284</td>\n",
       "      <td>1.23320</td>\n",
       "      <td>1.23255</td>\n",
       "      <td>1.23276</td>\n",
       "      <td>1.23297</td>\n",
       "      <td>1.23334</td>\n",
       "      <td>1.23270</td>\n",
       "      <td>1.23289</td>\n",
       "      <td>0.000684</td>\n",
       "      <td>0.000748</td>\n",
       "      <td>-0.000064</td>\n",
       "      <td>1.234245</td>\n",
       "    </tr>\n",
       "    <tr>\n",
       "      <th>1</th>\n",
       "      <td>2018-04-13 01:00:00+00:00</td>\n",
       "      <td>1221</td>\n",
       "      <td>1.23282</td>\n",
       "      <td>1.23313</td>\n",
       "      <td>1.23218</td>\n",
       "      <td>1.23232</td>\n",
       "      <td>1.23275</td>\n",
       "      <td>1.23306</td>\n",
       "      <td>1.23211</td>\n",
       "      <td>1.23226</td>\n",
       "      <td>1.23290</td>\n",
       "      <td>1.23320</td>\n",
       "      <td>1.23225</td>\n",
       "      <td>1.23239</td>\n",
       "      <td>0.000678</td>\n",
       "      <td>0.000734</td>\n",
       "      <td>-0.000056</td>\n",
       "      <td>1.234201</td>\n",
       "    </tr>\n",
       "    <tr>\n",
       "      <th>2</th>\n",
       "      <td>2018-04-13 02:00:00+00:00</td>\n",
       "      <td>774</td>\n",
       "      <td>1.23228</td>\n",
       "      <td>1.23307</td>\n",
       "      <td>1.23215</td>\n",
       "      <td>1.23293</td>\n",
       "      <td>1.23221</td>\n",
       "      <td>1.23299</td>\n",
       "      <td>1.23208</td>\n",
       "      <td>1.23287</td>\n",
       "      <td>1.23235</td>\n",
       "      <td>1.23315</td>\n",
       "      <td>1.23222</td>\n",
       "      <td>1.23299</td>\n",
       "      <td>0.000631</td>\n",
       "      <td>0.000713</td>\n",
       "      <td>-0.000083</td>\n",
       "      <td>1.234172</td>\n",
       "    </tr>\n",
       "    <tr>\n",
       "      <th>3</th>\n",
       "      <td>2018-04-13 03:00:00+00:00</td>\n",
       "      <td>584</td>\n",
       "      <td>1.23292</td>\n",
       "      <td>1.23336</td>\n",
       "      <td>1.23274</td>\n",
       "      <td>1.23299</td>\n",
       "      <td>1.23285</td>\n",
       "      <td>1.23329</td>\n",
       "      <td>1.23266</td>\n",
       "      <td>1.23292</td>\n",
       "      <td>1.23300</td>\n",
       "      <td>1.23344</td>\n",
       "      <td>1.23281</td>\n",
       "      <td>1.23306</td>\n",
       "      <td>0.000583</td>\n",
       "      <td>0.000687</td>\n",
       "      <td>-0.000104</td>\n",
       "      <td>1.234145</td>\n",
       "    </tr>\n",
       "    <tr>\n",
       "      <th>4</th>\n",
       "      <td>2018-04-13 04:00:00+00:00</td>\n",
       "      <td>148</td>\n",
       "      <td>1.23304</td>\n",
       "      <td>1.23306</td>\n",
       "      <td>1.23276</td>\n",
       "      <td>1.23292</td>\n",
       "      <td>1.23297</td>\n",
       "      <td>1.23298</td>\n",
       "      <td>1.23270</td>\n",
       "      <td>1.23286</td>\n",
       "      <td>1.23311</td>\n",
       "      <td>1.23313</td>\n",
       "      <td>1.23283</td>\n",
       "      <td>1.23299</td>\n",
       "      <td>0.000542</td>\n",
       "      <td>0.000658</td>\n",
       "      <td>-0.000116</td>\n",
       "      <td>1.234118</td>\n",
       "    </tr>\n",
       "  </tbody>\n",
       "</table>\n",
       "</div>"
      ],
      "text/plain": [
       "                       time  volume    mid_o    mid_h    mid_l    mid_c  \\\n",
       "0 2018-04-13 00:00:00+00:00    1157  1.23290  1.23327  1.23262  1.23282   \n",
       "1 2018-04-13 01:00:00+00:00    1221  1.23282  1.23313  1.23218  1.23232   \n",
       "2 2018-04-13 02:00:00+00:00     774  1.23228  1.23307  1.23215  1.23293   \n",
       "3 2018-04-13 03:00:00+00:00     584  1.23292  1.23336  1.23274  1.23299   \n",
       "4 2018-04-13 04:00:00+00:00     148  1.23304  1.23306  1.23276  1.23292   \n",
       "\n",
       "     bid_o    bid_h    bid_l    bid_c    ask_o    ask_h    ask_l    ask_c  \\\n",
       "0  1.23284  1.23320  1.23255  1.23276  1.23297  1.23334  1.23270  1.23289   \n",
       "1  1.23275  1.23306  1.23211  1.23226  1.23290  1.23320  1.23225  1.23239   \n",
       "2  1.23221  1.23299  1.23208  1.23287  1.23235  1.23315  1.23222  1.23299   \n",
       "3  1.23285  1.23329  1.23266  1.23292  1.23300  1.23344  1.23281  1.23306   \n",
       "4  1.23297  1.23298  1.23270  1.23286  1.23311  1.23313  1.23283  1.23299   \n",
       "\n",
       "       MACD    SIGNAL      HIST   EMA_100  \n",
       "0  0.000684  0.000748 -0.000064  1.234245  \n",
       "1  0.000678  0.000734 -0.000056  1.234201  \n",
       "2  0.000631  0.000713 -0.000083  1.234172  \n",
       "3  0.000583  0.000687 -0.000104  1.234145  \n",
       "4  0.000542  0.000658 -0.000116  1.234118  "
      ]
     },
     "execution_count": 6,
     "metadata": {},
     "output_type": "execute_result"
    }
   ],
   "source": [
    "df_an=MACD(df_an)\n",
    "df_an[\"EMA_100\"]=df_an.mid_c.ewm(span=100, min_periods=100).mean()\n",
    "df_an.dropna(inplace=True)\n",
    "df_an.reset_index(drop=True, inplace=True)\n",
    "df_an.head()"
   ]
  },
  {
   "cell_type": "code",
   "execution_count": 7,
   "id": "257715dd-5f54-4c2b-a60a-7cb79aa85bd8",
   "metadata": {},
   "outputs": [],
   "source": [
    "def apply_cross(row):\n",
    "    if row.macd_delta>0 and row.macd_delta_prev<0:\n",
    "        return BUY\n",
    "    if row.macd_delta<0 and row.macd_delta_prev>0:\n",
    "        return SELL\n",
    "    \n",
    "    return NONE"
   ]
  },
  {
   "cell_type": "code",
   "execution_count": 9,
   "id": "a408c140-7e0c-4485-a3ad-335ea26f4725",
   "metadata": {},
   "outputs": [],
   "source": [
    "df_an[\"macd_delta\"]=df_an.MACD - df_an.SIGNAL\n",
    "df_an[\"macd_delta_prev\"]=df_an.macd_delta.shift(1)\n",
    "df_an[\"direction\"]=df_an.apply(apply_cross,axis=1)\n",
    "candle_dir=df_an.mid_c-df_an.mid_o\n",
    "df_an['candle_dir']= [BUY if x>=0 else SELL for x in candle_dir]"
   ]
  },
  {
   "cell_type": "code",
   "execution_count": 8,
   "id": "3b3e9069-2b15-4517-b325-2232de0f6267",
   "metadata": {},
   "outputs": [
    {
     "data": {
      "text/plain": [
       "direction\n",
       " 0    34414\n",
       " 1     1410\n",
       "-1     1410\n",
       "Name: count, dtype: int64"
      ]
     },
     "execution_count": 8,
     "metadata": {},
     "output_type": "execute_result"
    }
   ],
   "source": [
    "df_an.direction.value_counts()"
   ]
  },
  {
   "cell_type": "code",
   "execution_count": null,
   "id": "e324a19d-a7e7-427c-bef9-b60db7868096",
   "metadata": {},
   "outputs": [],
   "source": []
  },
  {
   "cell_type": "code",
   "execution_count": null,
   "id": "674e9a71-325f-4496-9625-23a9bd5b3c1f",
   "metadata": {},
   "outputs": [],
   "source": []
  },
  {
   "cell_type": "code",
   "execution_count": null,
   "id": "815be17f-ca67-4568-92d5-e30b88a13116",
   "metadata": {},
   "outputs": [],
   "source": []
  },
  {
   "cell_type": "code",
   "execution_count": null,
   "id": "947ed945-8daf-429e-81c9-5e7aec194749",
   "metadata": {},
   "outputs": [],
   "source": []
  },
  {
   "cell_type": "code",
   "execution_count": null,
   "id": "b7041dd6-bb59-4c6a-855b-a4cfb082831a",
   "metadata": {},
   "outputs": [],
   "source": []
  },
  {
   "cell_type": "code",
   "execution_count": 12,
   "id": "314355c3",
   "metadata": {},
   "outputs": [],
   "source": [
    "def run_pair(pair,time_d=1):\n",
    "    df_an = pd.read_pickle(f\"../data/{pair}_H{time_d}.pkl\")\n",
    "    df_m5 = pd.read_pickle(f\"../data/{pair}_M5.pkl\")\n",
    "    df_an.reset_index(drop=True, inplace=True)\n",
    "    df_m5.reset_index(drop=True, inplace=True)\n",
    "    df_an = MACD(df_an)\n",
    "    df_an['EMA_100'] = df_an.mid_c.ewm(span=100, min_periods=100).mean()\n",
    "    df_an[\"macd_delta\"]=df_an.MACD-df_an.SIGNAL\n",
    "    df_an[\"macd_delta_prev\"]=df_an.macd_delta.shift(1)\n",
    "    df_an[\"direction\"]=df_an.apply(apply_cross,axis=1)\n",
    "    candle_dir=df_an.mid_c-df_an.mid_o\n",
    "    df_an['candle_dir']= [BUY if x>=0 else SELL for x in candle_dir]\n",
    "    our_cols = ['time', 'mid_o', 'mid_h', 'mid_l', 'mid_c',\n",
    "            'bid_o', 'bid_h', 'bid_l', 'bid_c', \n",
    "            'ask_o', 'ask_h', 'ask_l', 'ask_c'\n",
    "            , 'direction', 'EMA_100','candle_dir'  ]\n",
    "    df_slim = df_an[our_cols].copy()\n",
    "    df_slim.dropna(inplace=True)\n",
    "    \n",
    "    df_slim.reset_index(drop=True, inplace=True)\n",
    "    gt = GuruTester(\n",
    "        df_slim,\n",
    "        apply_signal,\n",
    "        df_m5,\n",
    "        use_spread=True,\n",
    "        time_d=time_d\n",
    "    )\n",
    "    \n",
    "    gt.run_test()\n",
    "    return gt.df_results\n",
    "    "
   ]
  },
  {
   "cell_type": "code",
   "execution_count": null,
   "id": "d37473f0-60e3-43fc-8ff9-13c281bf5808",
   "metadata": {},
   "outputs": [],
   "source": []
  },
  {
   "cell_type": "code",
   "execution_count": 14,
   "id": "36fab442",
   "metadata": {},
   "outputs": [],
   "source": [
    "res = []\n",
    "for p in [ \"EUR_USD\", \"EUR_GBP\" ]:\n",
    "    res.append(dict(pair=p,res=run_pair(p,time_d=4)))"
   ]
  },
  {
   "cell_type": "code",
   "execution_count": 15,
   "id": "b76fd2eb-9350-4274-ae3b-4de8a8072822",
   "metadata": {},
   "outputs": [
    {
     "name": "stdout",
     "output_type": "stream",
     "text": [
      "EUR_USD -13.0\n",
      "EUR_GBP -23.0\n"
     ]
    }
   ],
   "source": [
    "for r in res:\n",
    "    print(r['pair'], r['res'].result.sum())"
   ]
  },
  {
   "cell_type": "code",
   "execution_count": 69,
   "id": "d9b1f5f0",
   "metadata": {},
   "outputs": [
    {
     "name": "stdout",
     "output_type": "stream",
     "text": [
      "EUR_USD\n"
     ]
    },
    {
     "data": {
      "text/html": [
       "<div>\n",
       "<style scoped>\n",
       "    .dataframe tbody tr th:only-of-type {\n",
       "        vertical-align: middle;\n",
       "    }\n",
       "\n",
       "    .dataframe tbody tr th {\n",
       "        vertical-align: top;\n",
       "    }\n",
       "\n",
       "    .dataframe thead th {\n",
       "        text-align: right;\n",
       "    }\n",
       "</style>\n",
       "<table border=\"1\" class=\"dataframe\">\n",
       "  <thead>\n",
       "    <tr style=\"text-align: right;\">\n",
       "      <th></th>\n",
       "      <th>running</th>\n",
       "      <th>start_index_m5</th>\n",
       "      <th>profit_factor</th>\n",
       "      <th>loss_factor</th>\n",
       "      <th>start_price</th>\n",
       "      <th>trigger_price</th>\n",
       "      <th>SIGNAL</th>\n",
       "      <th>TP</th>\n",
       "      <th>SL</th>\n",
       "      <th>result</th>\n",
       "      <th>end_time</th>\n",
       "      <th>start_time</th>\n",
       "    </tr>\n",
       "  </thead>\n",
       "  <tbody>\n",
       "    <tr>\n",
       "      <th>3</th>\n",
       "      <td>False</td>\n",
       "      <td>2297</td>\n",
       "      <td>1.5</td>\n",
       "      <td>-1.0</td>\n",
       "      <td>1.23716</td>\n",
       "      <td>1.23716</td>\n",
       "      <td>1</td>\n",
       "      <td>1.237880</td>\n",
       "      <td>1.23753</td>\n",
       "      <td>-1.0</td>\n",
       "      <td>2018-04-18 21:00:00+00:00</td>\n",
       "      <td>2018-04-18 21:00:00+00:00</td>\n",
       "    </tr>\n",
       "    <tr>\n",
       "      <th>5</th>\n",
       "      <td>False</td>\n",
       "      <td>2897</td>\n",
       "      <td>1.5</td>\n",
       "      <td>-1.0</td>\n",
       "      <td>1.22809</td>\n",
       "      <td>1.22819</td>\n",
       "      <td>-1</td>\n",
       "      <td>1.227710</td>\n",
       "      <td>1.22806</td>\n",
       "      <td>-1.0</td>\n",
       "      <td>2018-04-22 23:00:00+00:00</td>\n",
       "      <td>2018-04-22 23:00:00+00:00</td>\n",
       "    </tr>\n",
       "    <tr>\n",
       "      <th>10</th>\n",
       "      <td>False</td>\n",
       "      <td>4935</td>\n",
       "      <td>1.5</td>\n",
       "      <td>-1.0</td>\n",
       "      <td>1.19914</td>\n",
       "      <td>1.19943</td>\n",
       "      <td>-1</td>\n",
       "      <td>1.198955</td>\n",
       "      <td>1.19903</td>\n",
       "      <td>-1.0</td>\n",
       "      <td>2018-05-02 01:00:00+00:00</td>\n",
       "      <td>2018-05-02 01:00:00+00:00</td>\n",
       "    </tr>\n",
       "    <tr>\n",
       "      <th>13</th>\n",
       "      <td>False</td>\n",
       "      <td>6012</td>\n",
       "      <td>1.5</td>\n",
       "      <td>-1.0</td>\n",
       "      <td>1.19252</td>\n",
       "      <td>1.19264</td>\n",
       "      <td>-1</td>\n",
       "      <td>1.192075</td>\n",
       "      <td>1.19260</td>\n",
       "      <td>-1.0</td>\n",
       "      <td>2018-05-07 19:10:00+00:00</td>\n",
       "      <td>2018-05-07 19:00:00+00:00</td>\n",
       "    </tr>\n",
       "    <tr>\n",
       "      <th>14</th>\n",
       "      <td>False</td>\n",
       "      <td>6345</td>\n",
       "      <td>1.5</td>\n",
       "      <td>-1.0</td>\n",
       "      <td>1.18606</td>\n",
       "      <td>1.18632</td>\n",
       "      <td>-1</td>\n",
       "      <td>1.185795</td>\n",
       "      <td>1.18602</td>\n",
       "      <td>-1.0</td>\n",
       "      <td>2018-05-08 23:00:00+00:00</td>\n",
       "      <td>2018-05-08 23:00:00+00:00</td>\n",
       "    </tr>\n",
       "    <tr>\n",
       "      <th>...</th>\n",
       "      <td>...</td>\n",
       "      <td>...</td>\n",
       "      <td>...</td>\n",
       "      <td>...</td>\n",
       "      <td>...</td>\n",
       "      <td>...</td>\n",
       "      <td>...</td>\n",
       "      <td>...</td>\n",
       "      <td>...</td>\n",
       "      <td>...</td>\n",
       "      <td>...</td>\n",
       "      <td>...</td>\n",
       "    </tr>\n",
       "    <tr>\n",
       "      <th>1236</th>\n",
       "      <td>False</td>\n",
       "      <td>437108</td>\n",
       "      <td>1.5</td>\n",
       "      <td>-1.0</td>\n",
       "      <td>1.08092</td>\n",
       "      <td>1.08060</td>\n",
       "      <td>1</td>\n",
       "      <td>1.081085</td>\n",
       "      <td>1.08106</td>\n",
       "      <td>-1.0</td>\n",
       "      <td>2024-02-21 00:00:00+00:00</td>\n",
       "      <td>2024-02-21 00:00:00+00:00</td>\n",
       "    </tr>\n",
       "    <tr>\n",
       "      <th>1241</th>\n",
       "      <td>False</td>\n",
       "      <td>439160</td>\n",
       "      <td>1.5</td>\n",
       "      <td>-1.0</td>\n",
       "      <td>1.08191</td>\n",
       "      <td>1.08220</td>\n",
       "      <td>-1</td>\n",
       "      <td>1.081270</td>\n",
       "      <td>1.08207</td>\n",
       "      <td>-1.0</td>\n",
       "      <td>2024-03-01 03:05:00+00:00</td>\n",
       "      <td>2024-03-01 03:00:00+00:00</td>\n",
       "    </tr>\n",
       "    <tr>\n",
       "      <th>1243</th>\n",
       "      <td>False</td>\n",
       "      <td>439652</td>\n",
       "      <td>1.5</td>\n",
       "      <td>-1.0</td>\n",
       "      <td>1.08558</td>\n",
       "      <td>1.08558</td>\n",
       "      <td>1</td>\n",
       "      <td>1.085775</td>\n",
       "      <td>1.08570</td>\n",
       "      <td>-1.0</td>\n",
       "      <td>2024-03-04 20:00:00+00:00</td>\n",
       "      <td>2024-03-04 20:00:00+00:00</td>\n",
       "    </tr>\n",
       "    <tr>\n",
       "      <th>1254</th>\n",
       "      <td>False</td>\n",
       "      <td>444812</td>\n",
       "      <td>1.5</td>\n",
       "      <td>-1.0</td>\n",
       "      <td>1.08000</td>\n",
       "      <td>1.08024</td>\n",
       "      <td>-1</td>\n",
       "      <td>1.079560</td>\n",
       "      <td>1.08006</td>\n",
       "      <td>-1.0</td>\n",
       "      <td>2024-03-28 17:00:00+00:00</td>\n",
       "      <td>2024-03-28 17:00:00+00:00</td>\n",
       "    </tr>\n",
       "    <tr>\n",
       "      <th>1259</th>\n",
       "      <td>False</td>\n",
       "      <td>446179</td>\n",
       "      <td>1.5</td>\n",
       "      <td>-1.0</td>\n",
       "      <td>1.08590</td>\n",
       "      <td>1.08576</td>\n",
       "      <td>1</td>\n",
       "      <td>1.086190</td>\n",
       "      <td>1.08594</td>\n",
       "      <td>-1.0</td>\n",
       "      <td>2024-04-04 11:00:00+00:00</td>\n",
       "      <td>2024-04-04 11:00:00+00:00</td>\n",
       "    </tr>\n",
       "  </tbody>\n",
       "</table>\n",
       "<p>223 rows × 12 columns</p>\n",
       "</div>"
      ],
      "text/plain": [
       "      running  start_index_m5  profit_factor  loss_factor  start_price  \\\n",
       "3       False            2297            1.5         -1.0      1.23716   \n",
       "5       False            2897            1.5         -1.0      1.22809   \n",
       "10      False            4935            1.5         -1.0      1.19914   \n",
       "13      False            6012            1.5         -1.0      1.19252   \n",
       "14      False            6345            1.5         -1.0      1.18606   \n",
       "...       ...             ...            ...          ...          ...   \n",
       "1236    False          437108            1.5         -1.0      1.08092   \n",
       "1241    False          439160            1.5         -1.0      1.08191   \n",
       "1243    False          439652            1.5         -1.0      1.08558   \n",
       "1254    False          444812            1.5         -1.0      1.08000   \n",
       "1259    False          446179            1.5         -1.0      1.08590   \n",
       "\n",
       "      trigger_price  SIGNAL        TP       SL  result  \\\n",
       "3           1.23716       1  1.237880  1.23753    -1.0   \n",
       "5           1.22819      -1  1.227710  1.22806    -1.0   \n",
       "10          1.19943      -1  1.198955  1.19903    -1.0   \n",
       "13          1.19264      -1  1.192075  1.19260    -1.0   \n",
       "14          1.18632      -1  1.185795  1.18602    -1.0   \n",
       "...             ...     ...       ...      ...     ...   \n",
       "1236        1.08060       1  1.081085  1.08106    -1.0   \n",
       "1241        1.08220      -1  1.081270  1.08207    -1.0   \n",
       "1243        1.08558       1  1.085775  1.08570    -1.0   \n",
       "1254        1.08024      -1  1.079560  1.08006    -1.0   \n",
       "1259        1.08576       1  1.086190  1.08594    -1.0   \n",
       "\n",
       "                      end_time                start_time  \n",
       "3    2018-04-18 21:00:00+00:00 2018-04-18 21:00:00+00:00  \n",
       "5    2018-04-22 23:00:00+00:00 2018-04-22 23:00:00+00:00  \n",
       "10   2018-05-02 01:00:00+00:00 2018-05-02 01:00:00+00:00  \n",
       "13   2018-05-07 19:10:00+00:00 2018-05-07 19:00:00+00:00  \n",
       "14   2018-05-08 23:00:00+00:00 2018-05-08 23:00:00+00:00  \n",
       "...                        ...                       ...  \n",
       "1236 2024-02-21 00:00:00+00:00 2024-02-21 00:00:00+00:00  \n",
       "1241 2024-03-01 03:05:00+00:00 2024-03-01 03:00:00+00:00  \n",
       "1243 2024-03-04 20:00:00+00:00 2024-03-04 20:00:00+00:00  \n",
       "1254 2024-03-28 17:00:00+00:00 2024-03-28 17:00:00+00:00  \n",
       "1259 2024-04-04 11:00:00+00:00 2024-04-04 11:00:00+00:00  \n",
       "\n",
       "[223 rows x 12 columns]"
      ]
     },
     "execution_count": 69,
     "metadata": {},
     "output_type": "execute_result"
    }
   ],
   "source": [
    "print(res[0]['pair'])\n",
    "an=pd.DataFrame.from_dict(res[0]['res'])\n",
    "an[an.result==-1.0]"
   ]
  },
  {
   "cell_type": "code",
   "execution_count": 66,
   "id": "b3aae0b2",
   "metadata": {},
   "outputs": [
    {
     "name": "stdout",
     "output_type": "stream",
     "text": [
      "                          time  volume    mid_o   mid_h    mid_l    mid_c  \\\n",
      "1353 2018-04-13 14:00:00+00:00     278  1.23246  1.2331  1.23242  1.23294   \n",
      "\n",
      "        bid_o    bid_h    bid_l    bid_c    ask_o    ask_h    ask_l  ask_c  \n",
      "1353  1.23235  1.23304  1.23231  1.23288  1.23256  1.23316  1.23253  1.233  \n"
     ]
    },
    {
     "data": {
      "application/vnd.plotly.v1+json": {
       "config": {
        "plotlyServerURL": "https://plot.ly"
       },
       "data": [
        {
         "close": [
          1.23232,
          1.23293,
          1.23299,
          1.23292,
          1.23278,
          1.23236,
          1.23412,
          1.23348,
          1.23345,
          1.23226,
          1.23122,
          1.2316,
          1.23244,
          1.2328,
          1.23206,
          1.2342,
          1.23363,
          1.23314,
          1.23372,
          1.23306,
          1.23298,
          1.23286,
          1.23314,
          1.23389,
          1.23364,
          1.23402,
          1.23382,
          1.23311,
          1.233,
          1.2327,
          1.2357,
          1.2365,
          1.23644,
          1.2364,
          1.23694,
          1.23816,
          1.23891,
          1.23674,
          1.23732,
          1.23828,
          1.23772,
          1.23808,
          1.23759,
          1.23792,
          1.23802,
          1.23818,
          1.2384,
          1.23836,
          1.2381,
          1.23814
         ],
         "decreasing": {
          "fillcolor": "#CC2E3C",
          "line": {
           "color": "#ff3a4c"
          }
         },
         "high": [
          1.23313,
          1.23307,
          1.23336,
          1.23306,
          1.2331,
          1.2331,
          1.23438,
          1.23462,
          1.23396,
          1.23389,
          1.23232,
          1.23248,
          1.23314,
          1.23336,
          1.23322,
          1.23442,
          1.23428,
          1.23364,
          1.23414,
          1.23405,
          1.23384,
          1.23359,
          1.23336,
          1.23406,
          1.23432,
          1.23416,
          1.23408,
          1.23384,
          1.23336,
          1.23391,
          1.236,
          1.23686,
          1.23738,
          1.23658,
          1.23733,
          1.23832,
          1.23948,
          1.2392,
          1.23733,
          1.23854,
          1.23828,
          1.23826,
          1.23823,
          1.23842,
          1.2382,
          1.23842,
          1.23856,
          1.23876,
          1.23878,
          1.23817
         ],
         "increasing": {
          "fillcolor": "#24A06B",
          "line": {
           "color": "#2EC886"
          }
         },
         "line": {
          "width": 1
         },
         "low": [
          1.23218,
          1.23215,
          1.23274,
          1.23276,
          1.23256,
          1.23174,
          1.23206,
          1.2329,
          1.23297,
          1.23223,
          1.2307,
          1.23092,
          1.23161,
          1.23206,
          1.23195,
          1.23196,
          1.23306,
          1.23294,
          1.23314,
          1.23276,
          1.23246,
          1.23252,
          1.23284,
          1.23314,
          1.23339,
          1.23338,
          1.23378,
          1.23308,
          1.23277,
          1.2324,
          1.23262,
          1.23531,
          1.23565,
          1.23594,
          1.23621,
          1.23586,
          1.23779,
          1.23665,
          1.23622,
          1.23692,
          1.2376,
          1.23766,
          1.23746,
          1.23754,
          1.23794,
          1.23788,
          1.23794,
          1.23826,
          1.23801,
          1.23758
         ],
         "opacity": 1,
         "open": [
          1.23282,
          1.23228,
          1.23292,
          1.23304,
          1.23292,
          1.23279,
          1.23234,
          1.23412,
          1.23344,
          1.23345,
          1.23222,
          1.23123,
          1.23163,
          1.23246,
          1.23282,
          1.23208,
          1.2342,
          1.23364,
          1.23314,
          1.23376,
          1.23342,
          1.23302,
          1.23292,
          1.23314,
          1.23389,
          1.23364,
          1.23398,
          1.23383,
          1.23314,
          1.23296,
          1.23266,
          1.2357,
          1.23647,
          1.23645,
          1.2364,
          1.23694,
          1.23814,
          1.2389,
          1.23678,
          1.23732,
          1.23824,
          1.23772,
          1.23804,
          1.23754,
          1.23815,
          1.23808,
          1.23816,
          1.23838,
          1.23841,
          1.2381
         ],
         "type": "candlestick",
         "x": [
          "s18-04-13 01:00",
          "s18-04-13 02:00",
          "s18-04-13 03:00",
          "s18-04-13 04:00",
          "s18-04-13 05:00",
          "s18-04-13 06:00",
          "s18-04-13 07:00",
          "s18-04-13 08:00",
          "s18-04-13 09:00",
          "s18-04-13 10:00",
          "s18-04-13 11:00",
          "s18-04-13 12:00",
          "s18-04-13 13:00",
          "s18-04-13 14:00",
          "s18-04-13 15:00",
          "s18-04-13 16:00",
          "s18-04-13 17:00",
          "s18-04-13 18:00",
          "s18-04-13 19:00",
          "s18-04-13 20:00",
          "s18-04-15 21:00",
          "s18-04-15 22:00",
          "s18-04-15 23:00",
          "s18-04-16 00:00",
          "s18-04-16 01:00",
          "s18-04-16 02:00",
          "s18-04-16 03:00",
          "s18-04-16 04:00",
          "s18-04-16 05:00",
          "s18-04-16 06:00",
          "s18-04-16 07:00",
          "s18-04-16 08:00",
          "s18-04-16 09:00",
          "s18-04-16 10:00",
          "s18-04-16 11:00",
          "s18-04-16 12:00",
          "s18-04-16 13:00",
          "s18-04-16 14:00",
          "s18-04-16 15:00",
          "s18-04-16 16:00",
          "s18-04-16 17:00",
          "s18-04-16 18:00",
          "s18-04-16 19:00",
          "s18-04-16 20:00",
          "s18-04-16 21:00",
          "s18-04-16 22:00",
          "s18-04-16 23:00",
          "s18-04-17 00:00",
          "s18-04-17 01:00",
          "s18-04-17 02:00"
         ]
        }
       ],
       "layout": {
        "height": 400,
        "margin": {
         "b": 10,
         "l": 10,
         "r": 10,
         "t": 10
        },
        "plot_bgcolor": "#2c303c",
        "template": {
         "data": {
          "bar": [
           {
            "error_x": {
             "color": "#2a3f5f"
            },
            "error_y": {
             "color": "#2a3f5f"
            },
            "marker": {
             "line": {
              "color": "#E5ECF6",
              "width": 0.5
             },
             "pattern": {
              "fillmode": "overlay",
              "size": 10,
              "solidity": 0.2
             }
            },
            "type": "bar"
           }
          ],
          "barpolar": [
           {
            "marker": {
             "line": {
              "color": "#E5ECF6",
              "width": 0.5
             },
             "pattern": {
              "fillmode": "overlay",
              "size": 10,
              "solidity": 0.2
             }
            },
            "type": "barpolar"
           }
          ],
          "carpet": [
           {
            "aaxis": {
             "endlinecolor": "#2a3f5f",
             "gridcolor": "white",
             "linecolor": "white",
             "minorgridcolor": "white",
             "startlinecolor": "#2a3f5f"
            },
            "baxis": {
             "endlinecolor": "#2a3f5f",
             "gridcolor": "white",
             "linecolor": "white",
             "minorgridcolor": "white",
             "startlinecolor": "#2a3f5f"
            },
            "type": "carpet"
           }
          ],
          "choropleth": [
           {
            "colorbar": {
             "outlinewidth": 0,
             "ticks": ""
            },
            "type": "choropleth"
           }
          ],
          "contour": [
           {
            "colorbar": {
             "outlinewidth": 0,
             "ticks": ""
            },
            "colorscale": [
             [
              0,
              "#0d0887"
             ],
             [
              0.1111111111111111,
              "#46039f"
             ],
             [
              0.2222222222222222,
              "#7201a8"
             ],
             [
              0.3333333333333333,
              "#9c179e"
             ],
             [
              0.4444444444444444,
              "#bd3786"
             ],
             [
              0.5555555555555556,
              "#d8576b"
             ],
             [
              0.6666666666666666,
              "#ed7953"
             ],
             [
              0.7777777777777778,
              "#fb9f3a"
             ],
             [
              0.8888888888888888,
              "#fdca26"
             ],
             [
              1,
              "#f0f921"
             ]
            ],
            "type": "contour"
           }
          ],
          "contourcarpet": [
           {
            "colorbar": {
             "outlinewidth": 0,
             "ticks": ""
            },
            "type": "contourcarpet"
           }
          ],
          "heatmap": [
           {
            "colorbar": {
             "outlinewidth": 0,
             "ticks": ""
            },
            "colorscale": [
             [
              0,
              "#0d0887"
             ],
             [
              0.1111111111111111,
              "#46039f"
             ],
             [
              0.2222222222222222,
              "#7201a8"
             ],
             [
              0.3333333333333333,
              "#9c179e"
             ],
             [
              0.4444444444444444,
              "#bd3786"
             ],
             [
              0.5555555555555556,
              "#d8576b"
             ],
             [
              0.6666666666666666,
              "#ed7953"
             ],
             [
              0.7777777777777778,
              "#fb9f3a"
             ],
             [
              0.8888888888888888,
              "#fdca26"
             ],
             [
              1,
              "#f0f921"
             ]
            ],
            "type": "heatmap"
           }
          ],
          "heatmapgl": [
           {
            "colorbar": {
             "outlinewidth": 0,
             "ticks": ""
            },
            "colorscale": [
             [
              0,
              "#0d0887"
             ],
             [
              0.1111111111111111,
              "#46039f"
             ],
             [
              0.2222222222222222,
              "#7201a8"
             ],
             [
              0.3333333333333333,
              "#9c179e"
             ],
             [
              0.4444444444444444,
              "#bd3786"
             ],
             [
              0.5555555555555556,
              "#d8576b"
             ],
             [
              0.6666666666666666,
              "#ed7953"
             ],
             [
              0.7777777777777778,
              "#fb9f3a"
             ],
             [
              0.8888888888888888,
              "#fdca26"
             ],
             [
              1,
              "#f0f921"
             ]
            ],
            "type": "heatmapgl"
           }
          ],
          "histogram": [
           {
            "marker": {
             "pattern": {
              "fillmode": "overlay",
              "size": 10,
              "solidity": 0.2
             }
            },
            "type": "histogram"
           }
          ],
          "histogram2d": [
           {
            "colorbar": {
             "outlinewidth": 0,
             "ticks": ""
            },
            "colorscale": [
             [
              0,
              "#0d0887"
             ],
             [
              0.1111111111111111,
              "#46039f"
             ],
             [
              0.2222222222222222,
              "#7201a8"
             ],
             [
              0.3333333333333333,
              "#9c179e"
             ],
             [
              0.4444444444444444,
              "#bd3786"
             ],
             [
              0.5555555555555556,
              "#d8576b"
             ],
             [
              0.6666666666666666,
              "#ed7953"
             ],
             [
              0.7777777777777778,
              "#fb9f3a"
             ],
             [
              0.8888888888888888,
              "#fdca26"
             ],
             [
              1,
              "#f0f921"
             ]
            ],
            "type": "histogram2d"
           }
          ],
          "histogram2dcontour": [
           {
            "colorbar": {
             "outlinewidth": 0,
             "ticks": ""
            },
            "colorscale": [
             [
              0,
              "#0d0887"
             ],
             [
              0.1111111111111111,
              "#46039f"
             ],
             [
              0.2222222222222222,
              "#7201a8"
             ],
             [
              0.3333333333333333,
              "#9c179e"
             ],
             [
              0.4444444444444444,
              "#bd3786"
             ],
             [
              0.5555555555555556,
              "#d8576b"
             ],
             [
              0.6666666666666666,
              "#ed7953"
             ],
             [
              0.7777777777777778,
              "#fb9f3a"
             ],
             [
              0.8888888888888888,
              "#fdca26"
             ],
             [
              1,
              "#f0f921"
             ]
            ],
            "type": "histogram2dcontour"
           }
          ],
          "mesh3d": [
           {
            "colorbar": {
             "outlinewidth": 0,
             "ticks": ""
            },
            "type": "mesh3d"
           }
          ],
          "parcoords": [
           {
            "line": {
             "colorbar": {
              "outlinewidth": 0,
              "ticks": ""
             }
            },
            "type": "parcoords"
           }
          ],
          "pie": [
           {
            "automargin": true,
            "type": "pie"
           }
          ],
          "scatter": [
           {
            "fillpattern": {
             "fillmode": "overlay",
             "size": 10,
             "solidity": 0.2
            },
            "type": "scatter"
           }
          ],
          "scatter3d": [
           {
            "line": {
             "colorbar": {
              "outlinewidth": 0,
              "ticks": ""
             }
            },
            "marker": {
             "colorbar": {
              "outlinewidth": 0,
              "ticks": ""
             }
            },
            "type": "scatter3d"
           }
          ],
          "scattercarpet": [
           {
            "marker": {
             "colorbar": {
              "outlinewidth": 0,
              "ticks": ""
             }
            },
            "type": "scattercarpet"
           }
          ],
          "scattergeo": [
           {
            "marker": {
             "colorbar": {
              "outlinewidth": 0,
              "ticks": ""
             }
            },
            "type": "scattergeo"
           }
          ],
          "scattergl": [
           {
            "marker": {
             "colorbar": {
              "outlinewidth": 0,
              "ticks": ""
             }
            },
            "type": "scattergl"
           }
          ],
          "scattermapbox": [
           {
            "marker": {
             "colorbar": {
              "outlinewidth": 0,
              "ticks": ""
             }
            },
            "type": "scattermapbox"
           }
          ],
          "scatterpolar": [
           {
            "marker": {
             "colorbar": {
              "outlinewidth": 0,
              "ticks": ""
             }
            },
            "type": "scatterpolar"
           }
          ],
          "scatterpolargl": [
           {
            "marker": {
             "colorbar": {
              "outlinewidth": 0,
              "ticks": ""
             }
            },
            "type": "scatterpolargl"
           }
          ],
          "scatterternary": [
           {
            "marker": {
             "colorbar": {
              "outlinewidth": 0,
              "ticks": ""
             }
            },
            "type": "scatterternary"
           }
          ],
          "surface": [
           {
            "colorbar": {
             "outlinewidth": 0,
             "ticks": ""
            },
            "colorscale": [
             [
              0,
              "#0d0887"
             ],
             [
              0.1111111111111111,
              "#46039f"
             ],
             [
              0.2222222222222222,
              "#7201a8"
             ],
             [
              0.3333333333333333,
              "#9c179e"
             ],
             [
              0.4444444444444444,
              "#bd3786"
             ],
             [
              0.5555555555555556,
              "#d8576b"
             ],
             [
              0.6666666666666666,
              "#ed7953"
             ],
             [
              0.7777777777777778,
              "#fb9f3a"
             ],
             [
              0.8888888888888888,
              "#fdca26"
             ],
             [
              1,
              "#f0f921"
             ]
            ],
            "type": "surface"
           }
          ],
          "table": [
           {
            "cells": {
             "fill": {
              "color": "#EBF0F8"
             },
             "line": {
              "color": "white"
             }
            },
            "header": {
             "fill": {
              "color": "#C8D4E3"
             },
             "line": {
              "color": "white"
             }
            },
            "type": "table"
           }
          ]
         },
         "layout": {
          "annotationdefaults": {
           "arrowcolor": "#2a3f5f",
           "arrowhead": 0,
           "arrowwidth": 1
          },
          "autotypenumbers": "strict",
          "coloraxis": {
           "colorbar": {
            "outlinewidth": 0,
            "ticks": ""
           }
          },
          "colorscale": {
           "diverging": [
            [
             0,
             "#8e0152"
            ],
            [
             0.1,
             "#c51b7d"
            ],
            [
             0.2,
             "#de77ae"
            ],
            [
             0.3,
             "#f1b6da"
            ],
            [
             0.4,
             "#fde0ef"
            ],
            [
             0.5,
             "#f7f7f7"
            ],
            [
             0.6,
             "#e6f5d0"
            ],
            [
             0.7,
             "#b8e186"
            ],
            [
             0.8,
             "#7fbc41"
            ],
            [
             0.9,
             "#4d9221"
            ],
            [
             1,
             "#276419"
            ]
           ],
           "sequential": [
            [
             0,
             "#0d0887"
            ],
            [
             0.1111111111111111,
             "#46039f"
            ],
            [
             0.2222222222222222,
             "#7201a8"
            ],
            [
             0.3333333333333333,
             "#9c179e"
            ],
            [
             0.4444444444444444,
             "#bd3786"
            ],
            [
             0.5555555555555556,
             "#d8576b"
            ],
            [
             0.6666666666666666,
             "#ed7953"
            ],
            [
             0.7777777777777778,
             "#fb9f3a"
            ],
            [
             0.8888888888888888,
             "#fdca26"
            ],
            [
             1,
             "#f0f921"
            ]
           ],
           "sequentialminus": [
            [
             0,
             "#0d0887"
            ],
            [
             0.1111111111111111,
             "#46039f"
            ],
            [
             0.2222222222222222,
             "#7201a8"
            ],
            [
             0.3333333333333333,
             "#9c179e"
            ],
            [
             0.4444444444444444,
             "#bd3786"
            ],
            [
             0.5555555555555556,
             "#d8576b"
            ],
            [
             0.6666666666666666,
             "#ed7953"
            ],
            [
             0.7777777777777778,
             "#fb9f3a"
            ],
            [
             0.8888888888888888,
             "#fdca26"
            ],
            [
             1,
             "#f0f921"
            ]
           ]
          },
          "colorway": [
           "#636efa",
           "#EF553B",
           "#00cc96",
           "#ab63fa",
           "#FFA15A",
           "#19d3f3",
           "#FF6692",
           "#B6E880",
           "#FF97FF",
           "#FECB52"
          ],
          "font": {
           "color": "#2a3f5f"
          },
          "geo": {
           "bgcolor": "white",
           "lakecolor": "white",
           "landcolor": "#E5ECF6",
           "showlakes": true,
           "showland": true,
           "subunitcolor": "white"
          },
          "hoverlabel": {
           "align": "left"
          },
          "hovermode": "closest",
          "mapbox": {
           "style": "light"
          },
          "paper_bgcolor": "white",
          "plot_bgcolor": "#E5ECF6",
          "polar": {
           "angularaxis": {
            "gridcolor": "white",
            "linecolor": "white",
            "ticks": ""
           },
           "bgcolor": "#E5ECF6",
           "radialaxis": {
            "gridcolor": "white",
            "linecolor": "white",
            "ticks": ""
           }
          },
          "scene": {
           "xaxis": {
            "backgroundcolor": "#E5ECF6",
            "gridcolor": "white",
            "gridwidth": 2,
            "linecolor": "white",
            "showbackground": true,
            "ticks": "",
            "zerolinecolor": "white"
           },
           "yaxis": {
            "backgroundcolor": "#E5ECF6",
            "gridcolor": "white",
            "gridwidth": 2,
            "linecolor": "white",
            "showbackground": true,
            "ticks": "",
            "zerolinecolor": "white"
           },
           "zaxis": {
            "backgroundcolor": "#E5ECF6",
            "gridcolor": "white",
            "gridwidth": 2,
            "linecolor": "white",
            "showbackground": true,
            "ticks": "",
            "zerolinecolor": "white"
           }
          },
          "shapedefaults": {
           "line": {
            "color": "#2a3f5f"
           }
          },
          "ternary": {
           "aaxis": {
            "gridcolor": "white",
            "linecolor": "white",
            "ticks": ""
           },
           "baxis": {
            "gridcolor": "white",
            "linecolor": "white",
            "ticks": ""
           },
           "bgcolor": "#E5ECF6",
           "caxis": {
            "gridcolor": "white",
            "linecolor": "white",
            "ticks": ""
           }
          },
          "title": {
           "x": 0.05
          },
          "xaxis": {
           "automargin": true,
           "gridcolor": "white",
           "linecolor": "white",
           "ticks": "",
           "title": {
            "standoff": 15
           },
           "zerolinecolor": "white",
           "zerolinewidth": 2
          },
          "yaxis": {
           "automargin": true,
           "gridcolor": "white",
           "linecolor": "white",
           "ticks": "",
           "title": {
            "standoff": 15
           },
           "zerolinecolor": "white",
           "zerolinewidth": 2
          }
         }
        },
        "width": 900,
        "xaxis": {
         "anchor": "y",
         "autorange": true,
         "domain": [
          0,
          0.94
         ],
         "gridcolor": "#0d292f",
         "nticks": 5,
         "range": [
          -0.5,
          49.5
         ],
         "rangeslider": {
          "visible": false,
          "yaxis": {}
         },
         "type": "category"
        },
        "yaxis": {
         "anchor": "x",
         "autorange": true,
         "domain": [
          0,
          1
         ],
         "gridcolor": "#0d292f",
         "range": [
          1.230212222222222,
          1.2399677777777778
         ]
        },
        "yaxis2": {
         "anchor": "x",
         "gridcolor": "#0d292f",
         "overlaying": "y",
         "side": "right"
        }
       }
      },
      "image/png": "[encoded data removed]",
      "text/html": [
       "<div>                            <div id=\"1bd550e3-1b0a-410d-8d2f-ca9fb7032dbc\" class=\"plotly-graph-div\" style=\"height:400px; width:900px;\"></div>            <script type=\"text/javascript\">                require([\"plotly\"], function(Plotly) {                    window.PLOTLYENV=window.PLOTLYENV || {};                                    if (document.getElementById(\"1bd550e3-1b0a-410d-8d2f-ca9fb7032dbc\")) {                    Plotly.newPlot(                        \"1bd550e3-1b0a-410d-8d2f-ca9fb7032dbc\",                        [{\"close\":[1.23232,1.23293,1.23299,1.23292,1.23278,1.23236,1.23412,1.23348,1.23345,1.23226,1.23122,1.2316,1.23244,1.2328,1.23206,1.2342,1.23363,1.23314,1.23372,1.23306,1.23298,1.23286,1.23314,1.23389,1.23364,1.23402,1.23382,1.23311,1.233,1.2327,1.2357,1.2365,1.23644,1.2364,1.23694,1.23816,1.23891,1.23674,1.23732,1.23828,1.23772,1.23808,1.23759,1.23792,1.23802,1.23818,1.2384,1.23836,1.2381,1.23814],\"decreasing\":{\"fillcolor\":\"#CC2E3C\",\"line\":{\"color\":\"#ff3a4c\"}},\"high\":[1.23313,1.23307,1.23336,1.23306,1.2331,1.2331,1.23438,1.23462,1.23396,1.23389,1.23232,1.23248,1.23314,1.23336,1.23322,1.23442,1.23428,1.23364,1.23414,1.23405,1.23384,1.23359,1.23336,1.23406,1.23432,1.23416,1.23408,1.23384,1.23336,1.23391,1.236,1.23686,1.23738,1.23658,1.23733,1.23832,1.23948,1.2392,1.23733,1.23854,1.23828,1.23826,1.23823,1.23842,1.2382,1.23842,1.23856,1.23876,1.23878,1.23817],\"increasing\":{\"fillcolor\":\"#24A06B\",\"line\":{\"color\":\"#2EC886\"}},\"line\":{\"width\":1},\"low\":[1.23218,1.23215,1.23274,1.23276,1.23256,1.23174,1.23206,1.2329,1.23297,1.23223,1.2307,1.23092,1.23161,1.23206,1.23195,1.23196,1.23306,1.23294,1.23314,1.23276,1.23246,1.23252,1.23284,1.23314,1.23339,1.23338,1.23378,1.23308,1.23277,1.2324,1.23262,1.23531,1.23565,1.23594,1.23621,1.23586,1.23779,1.23665,1.23622,1.23692,1.2376,1.23766,1.23746,1.23754,1.23794,1.23788,1.23794,1.23826,1.23801,1.23758],\"opacity\":1,\"open\":[1.23282,1.23228,1.23292,1.23304,1.23292,1.23279,1.23234,1.23412,1.23344,1.23345,1.23222,1.23123,1.23163,1.23246,1.23282,1.23208,1.2342,1.23364,1.23314,1.23376,1.23342,1.23302,1.23292,1.23314,1.23389,1.23364,1.23398,1.23383,1.23314,1.23296,1.23266,1.2357,1.23647,1.23645,1.2364,1.23694,1.23814,1.2389,1.23678,1.23732,1.23824,1.23772,1.23804,1.23754,1.23815,1.23808,1.23816,1.23838,1.23841,1.2381],\"x\":[\"s18-04-13 01:00\",\"s18-04-13 02:00\",\"s18-04-13 03:00\",\"s18-04-13 04:00\",\"s18-04-13 05:00\",\"s18-04-13 06:00\",\"s18-04-13 07:00\",\"s18-04-13 08:00\",\"s18-04-13 09:00\",\"s18-04-13 10:00\",\"s18-04-13 11:00\",\"s18-04-13 12:00\",\"s18-04-13 13:00\",\"s18-04-13 14:00\",\"s18-04-13 15:00\",\"s18-04-13 16:00\",\"s18-04-13 17:00\",\"s18-04-13 18:00\",\"s18-04-13 19:00\",\"s18-04-13 20:00\",\"s18-04-15 21:00\",\"s18-04-15 22:00\",\"s18-04-15 23:00\",\"s18-04-16 00:00\",\"s18-04-16 01:00\",\"s18-04-16 02:00\",\"s18-04-16 03:00\",\"s18-04-16 04:00\",\"s18-04-16 05:00\",\"s18-04-16 06:00\",\"s18-04-16 07:00\",\"s18-04-16 08:00\",\"s18-04-16 09:00\",\"s18-04-16 10:00\",\"s18-04-16 11:00\",\"s18-04-16 12:00\",\"s18-04-16 13:00\",\"s18-04-16 14:00\",\"s18-04-16 15:00\",\"s18-04-16 16:00\",\"s18-04-16 17:00\",\"s18-04-16 18:00\",\"s18-04-16 19:00\",\"s18-04-16 20:00\",\"s18-04-16 21:00\",\"s18-04-16 22:00\",\"s18-04-16 23:00\",\"s18-04-17 00:00\",\"s18-04-17 01:00\",\"s18-04-17 02:00\"],\"type\":\"candlestick\"}],                        {\"template\":{\"data\":{\"histogram2dcontour\":[{\"type\":\"histogram2dcontour\",\"colorbar\":{\"outlinewidth\":0,\"ticks\":\"\"},\"colorscale\":[[0.0,\"#0d0887\"],[0.1111111111111111,\"#46039f\"],[0.2222222222222222,\"#7201a8\"],[0.3333333333333333,\"#9c179e\"],[0.4444444444444444,\"#bd3786\"],[0.5555555555555556,\"#d8576b\"],[0.6666666666666666,\"#ed7953\"],[0.7777777777777778,\"#fb9f3a\"],[0.8888888888888888,\"#fdca26\"],[1.0,\"#f0f921\"]]}],\"choropleth\":[{\"type\":\"choropleth\",\"colorbar\":{\"outlinewidth\":0,\"ticks\":\"\"}}],\"histogram2d\":[{\"type\":\"histogram2d\",\"colorbar\":{\"outlinewidth\":0,\"ticks\":\"\"},\"colorscale\":[[0.0,\"#0d0887\"],[0.1111111111111111,\"#46039f\"],[0.2222222222222222,\"#7201a8\"],[0.3333333333333333,\"#9c179e\"],[0.4444444444444444,\"#bd3786\"],[0.5555555555555556,\"#d8576b\"],[0.6666666666666666,\"#ed7953\"],[0.7777777777777778,\"#fb9f3a\"],[0.8888888888888888,\"#fdca26\"],[1.0,\"#f0f921\"]]}],\"heatmap\":[{\"type\":\"heatmap\",\"colorbar\":{\"outlinewidth\":0,\"ticks\":\"\"},\"colorscale\":[[0.0,\"#0d0887\"],[0.1111111111111111,\"#46039f\"],[0.2222222222222222,\"#7201a8\"],[0.3333333333333333,\"#9c179e\"],[0.4444444444444444,\"#bd3786\"],[0.5555555555555556,\"#d8576b\"],[0.6666666666666666,\"#ed7953\"],[0.7777777777777778,\"#fb9f3a\"],[0.8888888888888888,\"#fdca26\"],[1.0,\"#f0f921\"]]}],\"heatmapgl\":[{\"type\":\"heatmapgl\",\"colorbar\":{\"outlinewidth\":0,\"ticks\":\"\"},\"colorscale\":[[0.0,\"#0d0887\"],[0.1111111111111111,\"#46039f\"],[0.2222222222222222,\"#7201a8\"],[0.3333333333333333,\"#9c179e\"],[0.4444444444444444,\"#bd3786\"],[0.5555555555555556,\"#d8576b\"],[0.6666666666666666,\"#ed7953\"],[0.7777777777777778,\"#fb9f3a\"],[0.8888888888888888,\"#fdca26\"],[1.0,\"#f0f921\"]]}],\"contourcarpet\":[{\"type\":\"contourcarpet\",\"colorbar\":{\"outlinewidth\":0,\"ticks\":\"\"}}],\"contour\":[{\"type\":\"contour\",\"colorbar\":{\"outlinewidth\":0,\"ticks\":\"\"},\"colorscale\":[[0.0,\"#0d0887\"],[0.1111111111111111,\"#46039f\"],[0.2222222222222222,\"#7201a8\"],[0.3333333333333333,\"#9c179e\"],[0.4444444444444444,\"#bd3786\"],[0.5555555555555556,\"#d8576b\"],[0.6666666666666666,\"#ed7953\"],[0.7777777777777778,\"#fb9f3a\"],[0.8888888888888888,\"#fdca26\"],[1.0,\"#f0f921\"]]}],\"surface\":[{\"type\":\"surface\",\"colorbar\":{\"outlinewidth\":0,\"ticks\":\"\"},\"colorscale\":[[0.0,\"#0d0887\"],[0.1111111111111111,\"#46039f\"],[0.2222222222222222,\"#7201a8\"],[0.3333333333333333,\"#9c179e\"],[0.4444444444444444,\"#bd3786\"],[0.5555555555555556,\"#d8576b\"],[0.6666666666666666,\"#ed7953\"],[0.7777777777777778,\"#fb9f3a\"],[0.8888888888888888,\"#fdca26\"],[1.0,\"#f0f921\"]]}],\"mesh3d\":[{\"type\":\"mesh3d\",\"colorbar\":{\"outlinewidth\":0,\"ticks\":\"\"}}],\"scatter\":[{\"fillpattern\":{\"fillmode\":\"overlay\",\"size\":10,\"solidity\":0.2},\"type\":\"scatter\"}],\"parcoords\":[{\"type\":\"parcoords\",\"line\":{\"colorbar\":{\"outlinewidth\":0,\"ticks\":\"\"}}}],\"scatterpolargl\":[{\"type\":\"scatterpolargl\",\"marker\":{\"colorbar\":{\"outlinewidth\":0,\"ticks\":\"\"}}}],\"bar\":[{\"error_x\":{\"color\":\"#2a3f5f\"},\"error_y\":{\"color\":\"#2a3f5f\"},\"marker\":{\"line\":{\"color\":\"#E5ECF6\",\"width\":0.5},\"pattern\":{\"fillmode\":\"overlay\",\"size\":10,\"solidity\":0.2}},\"type\":\"bar\"}],\"scattergeo\":[{\"type\":\"scattergeo\",\"marker\":{\"colorbar\":{\"outlinewidth\":0,\"ticks\":\"\"}}}],\"scatterpolar\":[{\"type\":\"scatterpolar\",\"marker\":{\"colorbar\":{\"outlinewidth\":0,\"ticks\":\"\"}}}],\"histogram\":[{\"marker\":{\"pattern\":{\"fillmode\":\"overlay\",\"size\":10,\"solidity\":0.2}},\"type\":\"histogram\"}],\"scattergl\":[{\"type\":\"scattergl\",\"marker\":{\"colorbar\":{\"outlinewidth\":0,\"ticks\":\"\"}}}],\"scatter3d\":[{\"type\":\"scatter3d\",\"line\":{\"colorbar\":{\"outlinewidth\":0,\"ticks\":\"\"}},\"marker\":{\"colorbar\":{\"outlinewidth\":0,\"ticks\":\"\"}}}],\"scattermapbox\":[{\"type\":\"scattermapbox\",\"marker\":{\"colorbar\":{\"outlinewidth\":0,\"ticks\":\"\"}}}],\"scatterternary\":[{\"type\":\"scatterternary\",\"marker\":{\"colorbar\":{\"outlinewidth\":0,\"ticks\":\"\"}}}],\"scattercarpet\":[{\"type\":\"scattercarpet\",\"marker\":{\"colorbar\":{\"outlinewidth\":0,\"ticks\":\"\"}}}],\"carpet\":[{\"aaxis\":{\"endlinecolor\":\"#2a3f5f\",\"gridcolor\":\"white\",\"linecolor\":\"white\",\"minorgridcolor\":\"white\",\"startlinecolor\":\"#2a3f5f\"},\"baxis\":{\"endlinecolor\":\"#2a3f5f\",\"gridcolor\":\"white\",\"linecolor\":\"white\",\"minorgridcolor\":\"white\",\"startlinecolor\":\"#2a3f5f\"},\"type\":\"carpet\"}],\"table\":[{\"cells\":{\"fill\":{\"color\":\"#EBF0F8\"},\"line\":{\"color\":\"white\"}},\"header\":{\"fill\":{\"color\":\"#C8D4E3\"},\"line\":{\"color\":\"white\"}},\"type\":\"table\"}],\"barpolar\":[{\"marker\":{\"line\":{\"color\":\"#E5ECF6\",\"width\":0.5},\"pattern\":{\"fillmode\":\"overlay\",\"size\":10,\"solidity\":0.2}},\"type\":\"barpolar\"}],\"pie\":[{\"automargin\":true,\"type\":\"pie\"}]},\"layout\":{\"autotypenumbers\":\"strict\",\"colorway\":[\"#636efa\",\"#EF553B\",\"#00cc96\",\"#ab63fa\",\"#FFA15A\",\"#19d3f3\",\"#FF6692\",\"#B6E880\",\"#FF97FF\",\"#FECB52\"],\"font\":{\"color\":\"#2a3f5f\"},\"hovermode\":\"closest\",\"hoverlabel\":{\"align\":\"left\"},\"paper_bgcolor\":\"white\",\"plot_bgcolor\":\"#E5ECF6\",\"polar\":{\"bgcolor\":\"#E5ECF6\",\"angularaxis\":{\"gridcolor\":\"white\",\"linecolor\":\"white\",\"ticks\":\"\"},\"radialaxis\":{\"gridcolor\":\"white\",\"linecolor\":\"white\",\"ticks\":\"\"}},\"ternary\":{\"bgcolor\":\"#E5ECF6\",\"aaxis\":{\"gridcolor\":\"white\",\"linecolor\":\"white\",\"ticks\":\"\"},\"baxis\":{\"gridcolor\":\"white\",\"linecolor\":\"white\",\"ticks\":\"\"},\"caxis\":{\"gridcolor\":\"white\",\"linecolor\":\"white\",\"ticks\":\"\"}},\"coloraxis\":{\"colorbar\":{\"outlinewidth\":0,\"ticks\":\"\"}},\"colorscale\":{\"sequential\":[[0.0,\"#0d0887\"],[0.1111111111111111,\"#46039f\"],[0.2222222222222222,\"#7201a8\"],[0.3333333333333333,\"#9c179e\"],[0.4444444444444444,\"#bd3786\"],[0.5555555555555556,\"#d8576b\"],[0.6666666666666666,\"#ed7953\"],[0.7777777777777778,\"#fb9f3a\"],[0.8888888888888888,\"#fdca26\"],[1.0,\"#f0f921\"]],\"sequentialminus\":[[0.0,\"#0d0887\"],[0.1111111111111111,\"#46039f\"],[0.2222222222222222,\"#7201a8\"],[0.3333333333333333,\"#9c179e\"],[0.4444444444444444,\"#bd3786\"],[0.5555555555555556,\"#d8576b\"],[0.6666666666666666,\"#ed7953\"],[0.7777777777777778,\"#fb9f3a\"],[0.8888888888888888,\"#fdca26\"],[1.0,\"#f0f921\"]],\"diverging\":[[0,\"#8e0152\"],[0.1,\"#c51b7d\"],[0.2,\"#de77ae\"],[0.3,\"#f1b6da\"],[0.4,\"#fde0ef\"],[0.5,\"#f7f7f7\"],[0.6,\"#e6f5d0\"],[0.7,\"#b8e186\"],[0.8,\"#7fbc41\"],[0.9,\"#4d9221\"],[1,\"#276419\"]]},\"xaxis\":{\"gridcolor\":\"white\",\"linecolor\":\"white\",\"ticks\":\"\",\"title\":{\"standoff\":15},\"zerolinecolor\":\"white\",\"automargin\":true,\"zerolinewidth\":2},\"yaxis\":{\"gridcolor\":\"white\",\"linecolor\":\"white\",\"ticks\":\"\",\"title\":{\"standoff\":15},\"zerolinecolor\":\"white\",\"automargin\":true,\"zerolinewidth\":2},\"scene\":{\"xaxis\":{\"backgroundcolor\":\"#E5ECF6\",\"gridcolor\":\"white\",\"linecolor\":\"white\",\"showbackground\":true,\"ticks\":\"\",\"zerolinecolor\":\"white\",\"gridwidth\":2},\"yaxis\":{\"backgroundcolor\":\"#E5ECF6\",\"gridcolor\":\"white\",\"linecolor\":\"white\",\"showbackground\":true,\"ticks\":\"\",\"zerolinecolor\":\"white\",\"gridwidth\":2},\"zaxis\":{\"backgroundcolor\":\"#E5ECF6\",\"gridcolor\":\"white\",\"linecolor\":\"white\",\"showbackground\":true,\"ticks\":\"\",\"zerolinecolor\":\"white\",\"gridwidth\":2}},\"shapedefaults\":{\"line\":{\"color\":\"#2a3f5f\"}},\"annotationdefaults\":{\"arrowcolor\":\"#2a3f5f\",\"arrowhead\":0,\"arrowwidth\":1},\"geo\":{\"bgcolor\":\"white\",\"landcolor\":\"#E5ECF6\",\"subunitcolor\":\"white\",\"showland\":true,\"showlakes\":true,\"lakecolor\":\"white\"},\"title\":{\"x\":0.05},\"mapbox\":{\"style\":\"light\"}}},\"xaxis\":{\"anchor\":\"y\",\"domain\":[0.0,0.94],\"rangeslider\":{\"visible\":false},\"gridcolor\":\"#0d292f\",\"nticks\":5},\"yaxis\":{\"anchor\":\"x\",\"domain\":[0.0,1.0],\"gridcolor\":\"#0d292f\"},\"yaxis2\":{\"anchor\":\"x\",\"overlaying\":\"y\",\"side\":\"right\",\"gridcolor\":\"#0d292f\"},\"margin\":{\"l\":10,\"r\":10,\"b\":10,\"t\":10},\"width\":900,\"height\":400,\"plot_bgcolor\":\"#2c303c\"},                        {\"responsive\": true}                    ).then(function(){\n",
       "                            \n",
       "var gd = document.getElementById('1bd550e3-1b0a-410d-8d2f-ca9fb7032dbc');\n",
       "var x = new MutationObserver(function (mutations, observer) {{\n",
       "        var display = window.getComputedStyle(gd).display;\n",
       "        if (!display || display === 'none') {{\n",
       "            console.log([gd, 'removed!']);\n",
       "            Plotly.purge(gd);\n",
       "            observer.disconnect();\n",
       "        }}\n",
       "}});\n",
       "\n",
       "// Listen for the removal of the full notebook cells\n",
       "var notebookContainer = gd.closest('#notebook-container');\n",
       "if (notebookContainer) {{\n",
       "    x.observe(notebookContainer, {childList: true});\n",
       "}}\n",
       "\n",
       "// Listen for the clearing of the current output cell\n",
       "var outputEl = gd.closest('.output');\n",
       "if (outputEl) {{\n",
       "    x.observe(outputEl, {childList: true});\n",
       "}}\n",
       "\n",
       "                        })                };                });            </script>        </div>"
      ]
     },
     "metadata": {},
     "output_type": "display_data"
    }
   ],
   "source": [
    "print(df_m5[df_m5.index==1353])\n",
    "df_plot=df_an.iloc[100:150]\n",
    "cp=CandlePlot(df_plot, candles=True)\n",
    "\n",
    "cp.show_plot()"
   ]
  },
  {
   "cell_type": "code",
   "execution_count": null,
   "id": "990d4bde",
   "metadata": {},
   "outputs": [],
   "source": []
  },
  {
   "cell_type": "code",
   "execution_count": null,
   "id": "3f968cf3",
   "metadata": {},
   "outputs": [],
   "source": []
  }
 ],
 "metadata": {
  "kernelspec": {
   "display_name": "Python 3 (ipykernel)",
   "language": "python",
   "name": "python3"
  },
  "language_info": {
   "codemirror_mode": {
    "name": "ipython",
    "version": 3
   },
   "file_extension": ".py",
   "mimetype": "text/x-python",
   "name": "python",
   "nbconvert_exporter": "python",
   "pygments_lexer": "ipython3",
   "version": "3.8.2"
  }
 },
 "nbformat": 4,
 "nbformat_minor": 5
}
