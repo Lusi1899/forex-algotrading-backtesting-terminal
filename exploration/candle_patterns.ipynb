{
 "cells": [
  {
   "cell_type": "code",
   "execution_count": 1,
   "id": "5acedebe-f838-4eff-8120-14efbe2980c7",
   "metadata": {},
   "outputs": [],
   "source": [
    "import sys\n",
    "sys.path.append(\"../\")\n",
    "from ploting import CandlePlot\n",
    "import pandas as pd\n",
    "from technicals.patterns import apply_patterns\n",
    "import plotly.graph_objects as go"
   ]
  },
  {
   "cell_type": "code",
   "execution_count": 2,
   "id": "08bb2709-f981-448c-9f3a-5929584532eb",
   "metadata": {},
   "outputs": [],
   "source": [
    "df= pd.read_pickle(\"../data/EUR_USD_H1.pkl\")"
   ]
  },
  {
   "cell_type": "code",
   "execution_count": 3,
   "id": "7f2cfde6-33d1-406b-b780-af25e7912f3b",
   "metadata": {},
   "outputs": [],
   "source": [
    "df_an=df[[\"time\",\"mid_c\",\"mid_o\",\"mid_h\",\"mid_l\"]].copy()"
   ]
  },
  {
   "cell_type": "code",
   "execution_count": 4,
   "id": "e4035f57-e649-4a8e-9381-81c59299bf56",
   "metadata": {},
   "outputs": [
    {
     "data": {
      "text/html": [
       "<div>\n",
       "<style scoped>\n",
       "    .dataframe tbody tr th:only-of-type {\n",
       "        vertical-align: middle;\n",
       "    }\n",
       "\n",
       "    .dataframe tbody tr th {\n",
       "        vertical-align: top;\n",
       "    }\n",
       "\n",
       "    .dataframe thead th {\n",
       "        text-align: right;\n",
       "    }\n",
       "</style>\n",
       "<table border=\"1\" class=\"dataframe\">\n",
       "  <thead>\n",
       "    <tr style=\"text-align: right;\">\n",
       "      <th></th>\n",
       "      <th>time</th>\n",
       "      <th>mid_c</th>\n",
       "      <th>mid_o</th>\n",
       "      <th>mid_h</th>\n",
       "      <th>mid_l</th>\n",
       "    </tr>\n",
       "  </thead>\n",
       "  <tbody>\n",
       "    <tr>\n",
       "      <th>35653</th>\n",
       "      <td>2021-12-30 19:00:00+00:00</td>\n",
       "      <td>1.13274</td>\n",
       "      <td>1.13058</td>\n",
       "      <td>1.13298</td>\n",
       "      <td>1.13043</td>\n",
       "    </tr>\n",
       "    <tr>\n",
       "      <th>35654</th>\n",
       "      <td>2021-12-30 20:00:00+00:00</td>\n",
       "      <td>1.13193</td>\n",
       "      <td>1.13272</td>\n",
       "      <td>1.13304</td>\n",
       "      <td>1.13185</td>\n",
       "    </tr>\n",
       "    <tr>\n",
       "      <th>35655</th>\n",
       "      <td>2021-12-30 21:00:00+00:00</td>\n",
       "      <td>1.13258</td>\n",
       "      <td>1.13195</td>\n",
       "      <td>1.13276</td>\n",
       "      <td>1.13194</td>\n",
       "    </tr>\n",
       "    <tr>\n",
       "      <th>35656</th>\n",
       "      <td>2021-12-30 22:00:00+00:00</td>\n",
       "      <td>1.13230</td>\n",
       "      <td>1.13252</td>\n",
       "      <td>1.13264</td>\n",
       "      <td>1.13222</td>\n",
       "    </tr>\n",
       "    <tr>\n",
       "      <th>35657</th>\n",
       "      <td>2021-12-30 23:00:00+00:00</td>\n",
       "      <td>1.13224</td>\n",
       "      <td>1.13227</td>\n",
       "      <td>1.13258</td>\n",
       "      <td>1.13190</td>\n",
       "    </tr>\n",
       "  </tbody>\n",
       "</table>\n",
       "</div>"
      ],
      "text/plain": [
       "                           time    mid_c    mid_o    mid_h    mid_l\n",
       "35653 2021-12-30 19:00:00+00:00  1.13274  1.13058  1.13298  1.13043\n",
       "35654 2021-12-30 20:00:00+00:00  1.13193  1.13272  1.13304  1.13185\n",
       "35655 2021-12-30 21:00:00+00:00  1.13258  1.13195  1.13276  1.13194\n",
       "35656 2021-12-30 22:00:00+00:00  1.13230  1.13252  1.13264  1.13222\n",
       "35657 2021-12-30 23:00:00+00:00  1.13224  1.13227  1.13258  1.13190"
      ]
     },
     "execution_count": 4,
     "metadata": {},
     "output_type": "execute_result"
    }
   ],
   "source": [
    "df_an.tail()"
   ]
  },
  {
   "cell_type": "code",
   "execution_count": 5,
   "id": "fe236261-1628-46a3-badf-83fb49ffdbf0",
   "metadata": {},
   "outputs": [],
   "source": [
    "# direction= df_an.mid_c-df_an.mid_o\n",
    "# body_size=abs(direction)\n",
    "# direction=[1 if x>=0 else -1 for  x in direction]\n",
    "# full_range=df_an.mid_h-df_an.mid_l\n",
    "# body_percentage=(body_size/full_range)*100\n",
    "# body_lower= df_an[[\"mid_c\",\"mid_o\"]].min(axis=1)\n",
    "# body_upper= df_an[[\"mid_c\",\"mid_o\"]].max(axis=1)\n",
    "# body_bottom_perc= ((body_lower-df_an.mid_l)/full_range)*100\n",
    "# body_upper_perc= ((df_an.mid_h-body_upper)/full_range)*100"
   ]
  },
  {
   "cell_type": "code",
   "execution_count": 6,
   "id": "3b83a08d-e6c1-423f-ae2a-77814f03a32b",
   "metadata": {},
   "outputs": [
    {
     "name": "stdout",
     "output_type": "stream",
     "text": [
      "<class 'pandas.core.frame.DataFrame'>\n",
      "RangeIndex: 35658 entries, 0 to 35657\n",
      "Data columns (total 17 columns):\n",
      " #   Column            Non-Null Count  Dtype                  \n",
      "---  ------            --------------  -----                  \n",
      " 0   time              35658 non-null  datetime64[ns, tzutc()]\n",
      " 1   mid_c             35658 non-null  float64                \n",
      " 2   mid_o             35658 non-null  float64                \n",
      " 3   mid_h             35658 non-null  float64                \n",
      " 4   mid_l             35658 non-null  float64                \n",
      " 5   body_lower        35658 non-null  float64                \n",
      " 6   body_upper        35658 non-null  float64                \n",
      " 7   body_bottom_perc  35653 non-null  float64                \n",
      " 8   body_upper_perc   35653 non-null  float64                \n",
      " 9   body_perc         35653 non-null  float64                \n",
      " 10  direction         35658 non-null  int64                  \n",
      " 11  body_size         35658 non-null  float64                \n",
      " 12  low_change        35657 non-null  float64                \n",
      " 13  high_change       35657 non-null  float64                \n",
      " 14  body_size_change  35654 non-null  float64                \n",
      " 15  mid_point         35658 non-null  float64                \n",
      " 16  mid_point_prev_2  35656 non-null  float64                \n",
      "dtypes: datetime64[ns, tzutc()](1), float64(15), int64(1)\n",
      "memory usage: 4.6 MB\n"
     ]
    }
   ],
   "source": [
    "# df_an['body_lower']=body_lower\n",
    "# df_an['body_upper']=body_upper\n",
    "# df_an['body_bottom_perc']=body_bottom_perc\n",
    "# df_an['body_upper_perc']=body_upper_perc\n",
    "# df_an['body_lower']=body_lower\n",
    "# df_an['body_percentage']=body_percentage\n",
    "df_an=apply_patterns(df_an)\n",
    "df_an.info()"
   ]
  },
  {
   "cell_type": "code",
   "execution_count": 7,
   "id": "b3d1f0dc-47f1-44a9-91ab-9214f815471e",
   "metadata": {},
   "outputs": [],
   "source": [
    "HANGING_MAN_BODY=15.0\n",
    "HANGING_MAN_HEIGHT=75.0\n",
    "SHOOTING_STAR_HEIGHT=25.0\n",
    "SPINNING_TOP_MIN=40.0\n",
    "SPINNING_TOP_MAX=60.0\n",
    "MARUBOZU=98.0\n",
    "ENGULFING_FACTOR=1.8\n",
    "TWEEZER_BODY=15.0\n",
    "TWEEZER_HL= 0.01\n",
    "TWEEZER_TOP_BODY=40.0\n",
    "TWEEZER_BOTTOM_BODY=60.0\n",
    "MORNING_STAR_PREV2_BODY=90.0\n",
    "MORNING_STAR_PREV_BODY=10.0\n",
    "def apply_hanging_man(row):\n",
    "    if row.body_bottom_perc >HANGING_MAN_HEIGHT:\n",
    "        if row.body_perc < HANGING_MAN_BODY:\n",
    "            return True\n",
    "    return False\n",
    "    \n",
    "def apply_shooting_star(row):\n",
    "    if row.body_upper_perc >SHOOTING_STAR_HEIGHT:\n",
    "        if row.body_perc< HANGING_MAN_BODY:\n",
    "            return True\n",
    "    return False\n",
    "\n",
    "def apply_spinning_top(row):\n",
    "    if row.body_upper_perc <SPINNING_TOP_MAX:\n",
    "        if row.body_bottom_perc >SPINNING_TOP_MIN:\n",
    "             if row.body_perc<HANGING_MAN_BODY:\n",
    "                 return True\n",
    "    return False\n",
    "\n",
    "apply_marubozu=lambda x:x.body_perc>MARUBOZU\n",
    "    \n",
    "def apply_engulfing(row):\n",
    "    if row.direction!=row.direction_prev:\n",
    "        if row.body_size>row.body_size_prev*ENGULFING_FACTOR:\n",
    "            return True\n",
    "        return False\n",
    "\n",
    "def apply_tweezer_top(row):\n",
    "    if abs(row.body_size_change)<TWEEZER_BODY:\n",
    "        if row.direction==-1 and row.direction!= row.direction_prev:\n",
    "            if abs(row.low_change)<TWEEZER_HL and abs(row.high_change)<TWEEZER_HL :\n",
    "                if row.body_upper_perc<TWEEZER_TOP_BODY:\n",
    "                    return True\n",
    "    return False\n",
    "\n",
    "\n",
    "def apply_tweezer_bottom(row):\n",
    "    if abs(row.body_size_change)<TWEEZER_BODY:\n",
    "        if row.direction==1 and row.direction!= row.direction_prev:\n",
    "            if abs(row.low_change)<TWEEZER_HL and abs(row.high_change)<TWEEZER_HL :\n",
    "                if row.body_bottom_perc>TWEEZER_BOTTOM_BODY:\n",
    "                    return True\n",
    "    return False\n",
    "\n",
    "def apply_morning_star(row,direction=1):\n",
    "    if row.body_perc_prev_2>MORNING_STAR_PREV2_BODY:\n",
    "        if row.body_perc_prev <MORNING_STAR_PREV_BODY:\n",
    "            if row.direction == direction and row.direction_prev_2 != direction:\n",
    "                if direction ==1:\n",
    "                    if row.mid_c> row.mid_point_prev_2:\n",
    "                        return True\n",
    "                else:\n",
    "                    if row.mid_c< row.mid_point_prev_2:\n",
    "                        return True\n",
    "    return False\n",
    "        "
   ]
  },
  {
   "cell_type": "code",
   "execution_count": 17,
   "id": "4186878a-f5dc-43de-81ce-7b23494ed7a2",
   "metadata": {},
   "outputs": [],
   "source": [
    "df_an['body_size_prev']=df_an.body_size.shift(1)\n",
    "df_an['direction_prev']=df_an.direction.shift(1)\n",
    "df_an['direction_prev_2']=df_an.direction.shift(2)\n",
    "df_an['body_perc_prev']=df_an.body_perc.shift(1)\n",
    "df_an['body_perc_prev_2']=df_an.body_perc.shift(2)\n",
    "df_an['HANGING_MAN']=df_an.apply(apply_hanging_man,axis=1)\n",
    "df_an['SHOOTING_STAR']=df_an.apply(apply_shooting_star,axis=1)\n",
    "df_an['SPINNING_TOP']=df_an.apply(apply_spinning_top,axis=1)\n",
    "df_an['MARUBOZU']=df_an.apply(apply_marubozu,axis=1)\n",
    "df_an['ENGULFING']=df_an.apply(apply_engulfing,axis=1)\n",
    "df_an['TWEEZER_TOP']=df_an.apply(apply_tweezer_top,axis=1)\n",
    "df_an['TWEEZER_BOTTOM']=df_an.apply(apply_tweezer_bottom,axis=1)\n",
    "df_an['MORNING_STAR']=df_an.apply(apply_morning_star, direction=-1,axis=1)\n",
    "df_an['EVENING_STAR']=df_an.apply(apply_morning_star,axis=1)\n"
   ]
  },
  {
   "cell_type": "code",
   "execution_count": 23,
   "id": "1b7920dd-e289-4e0a-8c85-1b01885a4bd8",
   "metadata": {},
   "outputs": [
    {
     "data": {
      "application/vnd.plotly.v1+json": {
       "config": {
        "plotlyServerURL": "https://plot.ly"
       },
       "data": [
        {
         "close": [
          1.13066,
          1.13068,
          1.131,
          1.13081,
          1.1314,
          1.13162,
          1.1322,
          1.13116,
          1.13236,
          1.13211,
          1.13364,
          1.13316,
          1.1332,
          1.13276,
          1.13281,
          1.13184,
          1.13181,
          1.13192,
          1.13207,
          1.13155,
          1.13144,
          1.13154,
          1.1318,
          1.13156,
          1.13254,
          1.1318,
          1.13154,
          1.13151,
          1.1329,
          1.13382,
          1.13245,
          1.13298,
          1.13208,
          1.13204,
          1.1311,
          1.13392,
          1.1334,
          1.13368,
          1.13318,
          1.13172,
          1.13171,
          1.1315,
          1.13132,
          1.13124,
          1.13128,
          1.13142,
          1.13084,
          1.12914,
          1.1288,
          1.12871
         ],
         "decreasing": {
          "fillcolor": "#CC2E3C",
          "line": {
           "color": "#ff3a4c"
          }
         },
         "high": [
          1.13153,
          1.13086,
          1.13108,
          1.13128,
          1.13186,
          1.1326,
          1.13308,
          1.13237,
          1.13242,
          1.13267,
          1.13422,
          1.13384,
          1.13408,
          1.1335,
          1.13348,
          1.13298,
          1.1321,
          1.13234,
          1.13217,
          1.13216,
          1.13202,
          1.13204,
          1.13218,
          1.13231,
          1.13256,
          1.13251,
          1.13184,
          1.1319,
          1.13332,
          1.134,
          1.13389,
          1.13305,
          1.13306,
          1.13227,
          1.13226,
          1.1349,
          1.1346,
          1.13425,
          1.13408,
          1.13321,
          1.13183,
          1.13222,
          1.1318,
          1.13162,
          1.13138,
          1.13146,
          1.13162,
          1.1314,
          1.12963,
          1.12926
         ],
         "increasing": {
          "fillcolor": "#24A06B",
          "line": {
           "color": "#2EC886"
          }
         },
         "line": {
          "width": 1
         },
         "low": [
          1.13062,
          1.13054,
          1.13066,
          1.13081,
          1.13072,
          1.1314,
          1.13116,
          1.13086,
          1.13075,
          1.13158,
          1.1317,
          1.13268,
          1.13259,
          1.13268,
          1.13272,
          1.13174,
          1.13138,
          1.13172,
          1.13164,
          1.13144,
          1.13139,
          1.13131,
          1.1315,
          1.13136,
          1.13145,
          1.13134,
          1.13153,
          1.1312,
          1.13112,
          1.1324,
          1.13222,
          1.13192,
          1.13208,
          1.13166,
          1.13022,
          1.1311,
          1.1333,
          1.13316,
          1.13308,
          1.13172,
          1.13122,
          1.13147,
          1.13114,
          1.13113,
          1.13101,
          1.13095,
          1.13068,
          1.12898,
          1.12856,
          1.12846
         ],
         "opacity": 1,
         "open": [
          1.13111,
          1.13064,
          1.1307,
          1.13097,
          1.13078,
          1.13142,
          1.13165,
          1.13217,
          1.13119,
          1.13238,
          1.13214,
          1.13364,
          1.1332,
          1.13317,
          1.13279,
          1.13278,
          1.13182,
          1.13178,
          1.13196,
          1.13214,
          1.13152,
          1.13145,
          1.13156,
          1.13184,
          1.13159,
          1.13251,
          1.13182,
          1.1315,
          1.13149,
          1.13288,
          1.1338,
          1.13247,
          1.13296,
          1.1321,
          1.13207,
          1.13112,
          1.13395,
          1.13344,
          1.13365,
          1.13321,
          1.13176,
          1.13168,
          1.13154,
          1.13138,
          1.13123,
          1.1313,
          1.1314,
          1.13082,
          1.12912,
          1.12883
         ],
         "type": "candlestick",
         "x": [
          "s16-05-16 02:00",
          "s16-05-16 03:00",
          "s16-05-16 04:00",
          "s16-05-16 05:00",
          "s16-05-16 06:00",
          "s16-05-16 07:00",
          "s16-05-16 08:00",
          "s16-05-16 09:00",
          "s16-05-16 10:00",
          "s16-05-16 11:00",
          "s16-05-16 12:00",
          "s16-05-16 13:00",
          "s16-05-16 14:00",
          "s16-05-16 15:00",
          "s16-05-16 16:00",
          "s16-05-16 17:00",
          "s16-05-16 18:00",
          "s16-05-16 19:00",
          "s16-05-16 20:00",
          "s16-05-16 21:00",
          "s16-05-16 22:00",
          "s16-05-16 23:00",
          "s16-05-17 00:00",
          "s16-05-17 01:00",
          "s16-05-17 02:00",
          "s16-05-17 03:00",
          "s16-05-17 04:00",
          "s16-05-17 05:00",
          "s16-05-17 06:00",
          "s16-05-17 07:00",
          "s16-05-17 08:00",
          "s16-05-17 09:00",
          "s16-05-17 10:00",
          "s16-05-17 11:00",
          "s16-05-17 12:00",
          "s16-05-17 13:00",
          "s16-05-17 14:00",
          "s16-05-17 15:00",
          "s16-05-17 16:00",
          "s16-05-17 17:00",
          "s16-05-17 18:00",
          "s16-05-17 19:00",
          "s16-05-17 20:00",
          "s16-05-17 21:00",
          "s16-05-17 22:00",
          "s16-05-17 23:00",
          "s16-05-18 00:00",
          "s16-05-18 01:00",
          "s16-05-18 02:00",
          "s16-05-18 03:00"
         ]
        },
        {
         "close": [
          1.1329
         ],
         "decreasing": {
          "fillcolor": "#0066FF",
          "line": {
           "color": "#0066FF"
          }
         },
         "high": [
          1.13332
         ],
         "increasing": {
          "fillcolor": "#0066FF",
          "line": {
           "color": "#0066FF"
          }
         },
         "line": {
          "width": 1
         },
         "low": [
          1.13112
         ],
         "opacity": 1,
         "open": [
          1.13149
         ],
         "type": "candlestick",
         "x": [
          "s16-05-17 06:00"
         ]
        }
       ],
       "layout": {
        "height": 400,
        "margin": {
         "b": 10,
         "l": 10,
         "r": 10,
         "t": 10
        },
        "plot_bgcolor": "#2c303c",
        "template": {
         "data": {
          "bar": [
           {
            "error_x": {
             "color": "#2a3f5f"
            },
            "error_y": {
             "color": "#2a3f5f"
            },
            "marker": {
             "line": {
              "color": "#E5ECF6",
              "width": 0.5
             },
             "pattern": {
              "fillmode": "overlay",
              "size": 10,
              "solidity": 0.2
             }
            },
            "type": "bar"
           }
          ],
          "barpolar": [
           {
            "marker": {
             "line": {
              "color": "#E5ECF6",
              "width": 0.5
             },
             "pattern": {
              "fillmode": "overlay",
              "size": 10,
              "solidity": 0.2
             }
            },
            "type": "barpolar"
           }
          ],
          "carpet": [
           {
            "aaxis": {
             "endlinecolor": "#2a3f5f",
             "gridcolor": "white",
             "linecolor": "white",
             "minorgridcolor": "white",
             "startlinecolor": "#2a3f5f"
            },
            "baxis": {
             "endlinecolor": "#2a3f5f",
             "gridcolor": "white",
             "linecolor": "white",
             "minorgridcolor": "white",
             "startlinecolor": "#2a3f5f"
            },
            "type": "carpet"
           }
          ],
          "choropleth": [
           {
            "colorbar": {
             "outlinewidth": 0,
             "ticks": ""
            },
            "type": "choropleth"
           }
          ],
          "contour": [
           {
            "colorbar": {
             "outlinewidth": 0,
             "ticks": ""
            },
            "colorscale": [
             [
              0,
              "#0d0887"
             ],
             [
              0.1111111111111111,
              "#46039f"
             ],
             [
              0.2222222222222222,
              "#7201a8"
             ],
             [
              0.3333333333333333,
              "#9c179e"
             ],
             [
              0.4444444444444444,
              "#bd3786"
             ],
             [
              0.5555555555555556,
              "#d8576b"
             ],
             [
              0.6666666666666666,
              "#ed7953"
             ],
             [
              0.7777777777777778,
              "#fb9f3a"
             ],
             [
              0.8888888888888888,
              "#fdca26"
             ],
             [
              1,
              "#f0f921"
             ]
            ],
            "type": "contour"
           }
          ],
          "contourcarpet": [
           {
            "colorbar": {
             "outlinewidth": 0,
             "ticks": ""
            },
            "type": "contourcarpet"
           }
          ],
          "heatmap": [
           {
            "colorbar": {
             "outlinewidth": 0,
             "ticks": ""
            },
            "colorscale": [
             [
              0,
              "#0d0887"
             ],
             [
              0.1111111111111111,
              "#46039f"
             ],
             [
              0.2222222222222222,
              "#7201a8"
             ],
             [
              0.3333333333333333,
              "#9c179e"
             ],
             [
              0.4444444444444444,
              "#bd3786"
             ],
             [
              0.5555555555555556,
              "#d8576b"
             ],
             [
              0.6666666666666666,
              "#ed7953"
             ],
             [
              0.7777777777777778,
              "#fb9f3a"
             ],
             [
              0.8888888888888888,
              "#fdca26"
             ],
             [
              1,
              "#f0f921"
             ]
            ],
            "type": "heatmap"
           }
          ],
          "heatmapgl": [
           {
            "colorbar": {
             "outlinewidth": 0,
             "ticks": ""
            },
            "colorscale": [
             [
              0,
              "#0d0887"
             ],
             [
              0.1111111111111111,
              "#46039f"
             ],
             [
              0.2222222222222222,
              "#7201a8"
             ],
             [
              0.3333333333333333,
              "#9c179e"
             ],
             [
              0.4444444444444444,
              "#bd3786"
             ],
             [
              0.5555555555555556,
              "#d8576b"
             ],
             [
              0.6666666666666666,
              "#ed7953"
             ],
             [
              0.7777777777777778,
              "#fb9f3a"
             ],
             [
              0.8888888888888888,
              "#fdca26"
             ],
             [
              1,
              "#f0f921"
             ]
            ],
            "type": "heatmapgl"
           }
          ],
          "histogram": [
           {
            "marker": {
             "pattern": {
              "fillmode": "overlay",
              "size": 10,
              "solidity": 0.2
             }
            },
            "type": "histogram"
           }
          ],
          "histogram2d": [
           {
            "colorbar": {
             "outlinewidth": 0,
             "ticks": ""
            },
            "colorscale": [
             [
              0,
              "#0d0887"
             ],
             [
              0.1111111111111111,
              "#46039f"
             ],
             [
              0.2222222222222222,
              "#7201a8"
             ],
             [
              0.3333333333333333,
              "#9c179e"
             ],
             [
              0.4444444444444444,
              "#bd3786"
             ],
             [
              0.5555555555555556,
              "#d8576b"
             ],
             [
              0.6666666666666666,
              "#ed7953"
             ],
             [
              0.7777777777777778,
              "#fb9f3a"
             ],
             [
              0.8888888888888888,
              "#fdca26"
             ],
             [
              1,
              "#f0f921"
             ]
            ],
            "type": "histogram2d"
           }
          ],
          "histogram2dcontour": [
           {
            "colorbar": {
             "outlinewidth": 0,
             "ticks": ""
            },
            "colorscale": [
             [
              0,
              "#0d0887"
             ],
             [
              0.1111111111111111,
              "#46039f"
             ],
             [
              0.2222222222222222,
              "#7201a8"
             ],
             [
              0.3333333333333333,
              "#9c179e"
             ],
             [
              0.4444444444444444,
              "#bd3786"
             ],
             [
              0.5555555555555556,
              "#d8576b"
             ],
             [
              0.6666666666666666,
              "#ed7953"
             ],
             [
              0.7777777777777778,
              "#fb9f3a"
             ],
             [
              0.8888888888888888,
              "#fdca26"
             ],
             [
              1,
              "#f0f921"
             ]
            ],
            "type": "histogram2dcontour"
           }
          ],
          "mesh3d": [
           {
            "colorbar": {
             "outlinewidth": 0,
             "ticks": ""
            },
            "type": "mesh3d"
           }
          ],
          "parcoords": [
           {
            "line": {
             "colorbar": {
              "outlinewidth": 0,
              "ticks": ""
             }
            },
            "type": "parcoords"
           }
          ],
          "pie": [
           {
            "automargin": true,
            "type": "pie"
           }
          ],
          "scatter": [
           {
            "fillpattern": {
             "fillmode": "overlay",
             "size": 10,
             "solidity": 0.2
            },
            "type": "scatter"
           }
          ],
          "scatter3d": [
           {
            "line": {
             "colorbar": {
              "outlinewidth": 0,
              "ticks": ""
             }
            },
            "marker": {
             "colorbar": {
              "outlinewidth": 0,
              "ticks": ""
             }
            },
            "type": "scatter3d"
           }
          ],
          "scattercarpet": [
           {
            "marker": {
             "colorbar": {
              "outlinewidth": 0,
              "ticks": ""
             }
            },
            "type": "scattercarpet"
           }
          ],
          "scattergeo": [
           {
            "marker": {
             "colorbar": {
              "outlinewidth": 0,
              "ticks": ""
             }
            },
            "type": "scattergeo"
           }
          ],
          "scattergl": [
           {
            "marker": {
             "colorbar": {
              "outlinewidth": 0,
              "ticks": ""
             }
            },
            "type": "scattergl"
           }
          ],
          "scattermapbox": [
           {
            "marker": {
             "colorbar": {
              "outlinewidth": 0,
              "ticks": ""
             }
            },
            "type": "scattermapbox"
           }
          ],
          "scatterpolar": [
           {
            "marker": {
             "colorbar": {
              "outlinewidth": 0,
              "ticks": ""
             }
            },
            "type": "scatterpolar"
           }
          ],
          "scatterpolargl": [
           {
            "marker": {
             "colorbar": {
              "outlinewidth": 0,
              "ticks": ""
             }
            },
            "type": "scatterpolargl"
           }
          ],
          "scatterternary": [
           {
            "marker": {
             "colorbar": {
              "outlinewidth": 0,
              "ticks": ""
             }
            },
            "type": "scatterternary"
           }
          ],
          "surface": [
           {
            "colorbar": {
             "outlinewidth": 0,
             "ticks": ""
            },
            "colorscale": [
             [
              0,
              "#0d0887"
             ],
             [
              0.1111111111111111,
              "#46039f"
             ],
             [
              0.2222222222222222,
              "#7201a8"
             ],
             [
              0.3333333333333333,
              "#9c179e"
             ],
             [
              0.4444444444444444,
              "#bd3786"
             ],
             [
              0.5555555555555556,
              "#d8576b"
             ],
             [
              0.6666666666666666,
              "#ed7953"
             ],
             [
              0.7777777777777778,
              "#fb9f3a"
             ],
             [
              0.8888888888888888,
              "#fdca26"
             ],
             [
              1,
              "#f0f921"
             ]
            ],
            "type": "surface"
           }
          ],
          "table": [
           {
            "cells": {
             "fill": {
              "color": "#EBF0F8"
             },
             "line": {
              "color": "white"
             }
            },
            "header": {
             "fill": {
              "color": "#C8D4E3"
             },
             "line": {
              "color": "white"
             }
            },
            "type": "table"
           }
          ]
         },
         "layout": {
          "annotationdefaults": {
           "arrowcolor": "#2a3f5f",
           "arrowhead": 0,
           "arrowwidth": 1
          },
          "autotypenumbers": "strict",
          "coloraxis": {
           "colorbar": {
            "outlinewidth": 0,
            "ticks": ""
           }
          },
          "colorscale": {
           "diverging": [
            [
             0,
             "#8e0152"
            ],
            [
             0.1,
             "#c51b7d"
            ],
            [
             0.2,
             "#de77ae"
            ],
            [
             0.3,
             "#f1b6da"
            ],
            [
             0.4,
             "#fde0ef"
            ],
            [
             0.5,
             "#f7f7f7"
            ],
            [
             0.6,
             "#e6f5d0"
            ],
            [
             0.7,
             "#b8e186"
            ],
            [
             0.8,
             "#7fbc41"
            ],
            [
             0.9,
             "#4d9221"
            ],
            [
             1,
             "#276419"
            ]
           ],
           "sequential": [
            [
             0,
             "#0d0887"
            ],
            [
             0.1111111111111111,
             "#46039f"
            ],
            [
             0.2222222222222222,
             "#7201a8"
            ],
            [
             0.3333333333333333,
             "#9c179e"
            ],
            [
             0.4444444444444444,
             "#bd3786"
            ],
            [
             0.5555555555555556,
             "#d8576b"
            ],
            [
             0.6666666666666666,
             "#ed7953"
            ],
            [
             0.7777777777777778,
             "#fb9f3a"
            ],
            [
             0.8888888888888888,
             "#fdca26"
            ],
            [
             1,
             "#f0f921"
            ]
           ],
           "sequentialminus": [
            [
             0,
             "#0d0887"
            ],
            [
             0.1111111111111111,
             "#46039f"
            ],
            [
             0.2222222222222222,
             "#7201a8"
            ],
            [
             0.3333333333333333,
             "#9c179e"
            ],
            [
             0.4444444444444444,
             "#bd3786"
            ],
            [
             0.5555555555555556,
             "#d8576b"
            ],
            [
             0.6666666666666666,
             "#ed7953"
            ],
            [
             0.7777777777777778,
             "#fb9f3a"
            ],
            [
             0.8888888888888888,
             "#fdca26"
            ],
            [
             1,
             "#f0f921"
            ]
           ]
          },
          "colorway": [
           "#636efa",
           "#EF553B",
           "#00cc96",
           "#ab63fa",
           "#FFA15A",
           "#19d3f3",
           "#FF6692",
           "#B6E880",
           "#FF97FF",
           "#FECB52"
          ],
          "font": {
           "color": "#2a3f5f"
          },
          "geo": {
           "bgcolor": "white",
           "lakecolor": "white",
           "landcolor": "#E5ECF6",
           "showlakes": true,
           "showland": true,
           "subunitcolor": "white"
          },
          "hoverlabel": {
           "align": "left"
          },
          "hovermode": "closest",
          "mapbox": {
           "style": "light"
          },
          "paper_bgcolor": "white",
          "plot_bgcolor": "#E5ECF6",
          "polar": {
           "angularaxis": {
            "gridcolor": "white",
            "linecolor": "white",
            "ticks": ""
           },
           "bgcolor": "#E5ECF6",
           "radialaxis": {
            "gridcolor": "white",
            "linecolor": "white",
            "ticks": ""
           }
          },
          "scene": {
           "xaxis": {
            "backgroundcolor": "#E5ECF6",
            "gridcolor": "white",
            "gridwidth": 2,
            "linecolor": "white",
            "showbackground": true,
            "ticks": "",
            "zerolinecolor": "white"
           },
           "yaxis": {
            "backgroundcolor": "#E5ECF6",
            "gridcolor": "white",
            "gridwidth": 2,
            "linecolor": "white",
            "showbackground": true,
            "ticks": "",
            "zerolinecolor": "white"
           },
           "zaxis": {
            "backgroundcolor": "#E5ECF6",
            "gridcolor": "white",
            "gridwidth": 2,
            "linecolor": "white",
            "showbackground": true,
            "ticks": "",
            "zerolinecolor": "white"
           }
          },
          "shapedefaults": {
           "line": {
            "color": "#2a3f5f"
           }
          },
          "ternary": {
           "aaxis": {
            "gridcolor": "white",
            "linecolor": "white",
            "ticks": ""
           },
           "baxis": {
            "gridcolor": "white",
            "linecolor": "white",
            "ticks": ""
           },
           "bgcolor": "#E5ECF6",
           "caxis": {
            "gridcolor": "white",
            "linecolor": "white",
            "ticks": ""
           }
          },
          "title": {
           "x": 0.05
          },
          "xaxis": {
           "automargin": true,
           "gridcolor": "white",
           "linecolor": "white",
           "ticks": "",
           "title": {
            "standoff": 15
           },
           "zerolinecolor": "white",
           "zerolinewidth": 2
          },
          "yaxis": {
           "automargin": true,
           "gridcolor": "white",
           "linecolor": "white",
           "ticks": "",
           "title": {
            "standoff": 15
           },
           "zerolinecolor": "white",
           "zerolinewidth": 2
          }
         }
        },
        "width": 900,
        "xaxis": {
         "anchor": "y",
         "autorange": true,
         "domain": [
          0,
          0.94
         ],
         "gridcolor": "#0d292f",
         "nticks": 5,
         "range": [
          -0.5,
          49.5
         ],
         "rangeslider": {
          "visible": false,
          "yaxis": {}
         },
         "type": "category"
        },
        "yaxis": {
         "anchor": "x",
         "autorange": true,
         "domain": [
          0,
          1
         ],
         "gridcolor": "#0d292f",
         "range": [
          1.1281022222222223,
          1.1352577777777777
         ]
        },
        "yaxis2": {
         "anchor": "x",
         "gridcolor": "#0d292f",
         "overlaying": "y",
         "side": "right"
        }
       }
      },
      "image/png": "[encoded data removed]",
      "text/html": [
       "<div>                            <div id=\"cf2bfd22-59d1-4b9a-8f49-5ddcaa104b11\" class=\"plotly-graph-div\" style=\"height:400px; width:900px;\"></div>            <script type=\"text/javascript\">                require([\"plotly\"], function(Plotly) {                    window.PLOTLYENV=window.PLOTLYENV || {};                                    if (document.getElementById(\"cf2bfd22-59d1-4b9a-8f49-5ddcaa104b11\")) {                    Plotly.newPlot(                        \"cf2bfd22-59d1-4b9a-8f49-5ddcaa104b11\",                        [{\"close\":[1.13066,1.13068,1.131,1.13081,1.1314,1.13162,1.1322,1.13116,1.13236,1.13211,1.13364,1.13316,1.1332,1.13276,1.13281,1.13184,1.13181,1.13192,1.13207,1.13155,1.13144,1.13154,1.1318,1.13156,1.13254,1.1318,1.13154,1.13151,1.1329,1.13382,1.13245,1.13298,1.13208,1.13204,1.1311,1.13392,1.1334,1.13368,1.13318,1.13172,1.13171,1.1315,1.13132,1.13124,1.13128,1.13142,1.13084,1.12914,1.1288,1.12871],\"decreasing\":{\"fillcolor\":\"#CC2E3C\",\"line\":{\"color\":\"#ff3a4c\"}},\"high\":[1.13153,1.13086,1.13108,1.13128,1.13186,1.1326,1.13308,1.13237,1.13242,1.13267,1.13422,1.13384,1.13408,1.1335,1.13348,1.13298,1.1321,1.13234,1.13217,1.13216,1.13202,1.13204,1.13218,1.13231,1.13256,1.13251,1.13184,1.1319,1.13332,1.134,1.13389,1.13305,1.13306,1.13227,1.13226,1.1349,1.1346,1.13425,1.13408,1.13321,1.13183,1.13222,1.1318,1.13162,1.13138,1.13146,1.13162,1.1314,1.12963,1.12926],\"increasing\":{\"fillcolor\":\"#24A06B\",\"line\":{\"color\":\"#2EC886\"}},\"line\":{\"width\":1},\"low\":[1.13062,1.13054,1.13066,1.13081,1.13072,1.1314,1.13116,1.13086,1.13075,1.13158,1.1317,1.13268,1.13259,1.13268,1.13272,1.13174,1.13138,1.13172,1.13164,1.13144,1.13139,1.13131,1.1315,1.13136,1.13145,1.13134,1.13153,1.1312,1.13112,1.1324,1.13222,1.13192,1.13208,1.13166,1.13022,1.1311,1.1333,1.13316,1.13308,1.13172,1.13122,1.13147,1.13114,1.13113,1.13101,1.13095,1.13068,1.12898,1.12856,1.12846],\"opacity\":1,\"open\":[1.13111,1.13064,1.1307,1.13097,1.13078,1.13142,1.13165,1.13217,1.13119,1.13238,1.13214,1.13364,1.1332,1.13317,1.13279,1.13278,1.13182,1.13178,1.13196,1.13214,1.13152,1.13145,1.13156,1.13184,1.13159,1.13251,1.13182,1.1315,1.13149,1.13288,1.1338,1.13247,1.13296,1.1321,1.13207,1.13112,1.13395,1.13344,1.13365,1.13321,1.13176,1.13168,1.13154,1.13138,1.13123,1.1313,1.1314,1.13082,1.12912,1.12883],\"x\":[\"s16-05-16 02:00\",\"s16-05-16 03:00\",\"s16-05-16 04:00\",\"s16-05-16 05:00\",\"s16-05-16 06:00\",\"s16-05-16 07:00\",\"s16-05-16 08:00\",\"s16-05-16 09:00\",\"s16-05-16 10:00\",\"s16-05-16 11:00\",\"s16-05-16 12:00\",\"s16-05-16 13:00\",\"s16-05-16 14:00\",\"s16-05-16 15:00\",\"s16-05-16 16:00\",\"s16-05-16 17:00\",\"s16-05-16 18:00\",\"s16-05-16 19:00\",\"s16-05-16 20:00\",\"s16-05-16 21:00\",\"s16-05-16 22:00\",\"s16-05-16 23:00\",\"s16-05-17 00:00\",\"s16-05-17 01:00\",\"s16-05-17 02:00\",\"s16-05-17 03:00\",\"s16-05-17 04:00\",\"s16-05-17 05:00\",\"s16-05-17 06:00\",\"s16-05-17 07:00\",\"s16-05-17 08:00\",\"s16-05-17 09:00\",\"s16-05-17 10:00\",\"s16-05-17 11:00\",\"s16-05-17 12:00\",\"s16-05-17 13:00\",\"s16-05-17 14:00\",\"s16-05-17 15:00\",\"s16-05-17 16:00\",\"s16-05-17 17:00\",\"s16-05-17 18:00\",\"s16-05-17 19:00\",\"s16-05-17 20:00\",\"s16-05-17 21:00\",\"s16-05-17 22:00\",\"s16-05-17 23:00\",\"s16-05-18 00:00\",\"s16-05-18 01:00\",\"s16-05-18 02:00\",\"s16-05-18 03:00\"],\"type\":\"candlestick\"},{\"close\":[1.1329],\"decreasing\":{\"fillcolor\":\"#0066FF\",\"line\":{\"color\":\"#0066FF\"}},\"high\":[1.13332],\"increasing\":{\"fillcolor\":\"#0066FF\",\"line\":{\"color\":\"#0066FF\"}},\"line\":{\"width\":1},\"low\":[1.13112],\"opacity\":1,\"open\":[1.13149],\"x\":[\"s16-05-17 06:00\"],\"type\":\"candlestick\"}],                        {\"template\":{\"data\":{\"histogram2dcontour\":[{\"type\":\"histogram2dcontour\",\"colorbar\":{\"outlinewidth\":0,\"ticks\":\"\"},\"colorscale\":[[0.0,\"#0d0887\"],[0.1111111111111111,\"#46039f\"],[0.2222222222222222,\"#7201a8\"],[0.3333333333333333,\"#9c179e\"],[0.4444444444444444,\"#bd3786\"],[0.5555555555555556,\"#d8576b\"],[0.6666666666666666,\"#ed7953\"],[0.7777777777777778,\"#fb9f3a\"],[0.8888888888888888,\"#fdca26\"],[1.0,\"#f0f921\"]]}],\"choropleth\":[{\"type\":\"choropleth\",\"colorbar\":{\"outlinewidth\":0,\"ticks\":\"\"}}],\"histogram2d\":[{\"type\":\"histogram2d\",\"colorbar\":{\"outlinewidth\":0,\"ticks\":\"\"},\"colorscale\":[[0.0,\"#0d0887\"],[0.1111111111111111,\"#46039f\"],[0.2222222222222222,\"#7201a8\"],[0.3333333333333333,\"#9c179e\"],[0.4444444444444444,\"#bd3786\"],[0.5555555555555556,\"#d8576b\"],[0.6666666666666666,\"#ed7953\"],[0.7777777777777778,\"#fb9f3a\"],[0.8888888888888888,\"#fdca26\"],[1.0,\"#f0f921\"]]}],\"heatmap\":[{\"type\":\"heatmap\",\"colorbar\":{\"outlinewidth\":0,\"ticks\":\"\"},\"colorscale\":[[0.0,\"#0d0887\"],[0.1111111111111111,\"#46039f\"],[0.2222222222222222,\"#7201a8\"],[0.3333333333333333,\"#9c179e\"],[0.4444444444444444,\"#bd3786\"],[0.5555555555555556,\"#d8576b\"],[0.6666666666666666,\"#ed7953\"],[0.7777777777777778,\"#fb9f3a\"],[0.8888888888888888,\"#fdca26\"],[1.0,\"#f0f921\"]]}],\"heatmapgl\":[{\"type\":\"heatmapgl\",\"colorbar\":{\"outlinewidth\":0,\"ticks\":\"\"},\"colorscale\":[[0.0,\"#0d0887\"],[0.1111111111111111,\"#46039f\"],[0.2222222222222222,\"#7201a8\"],[0.3333333333333333,\"#9c179e\"],[0.4444444444444444,\"#bd3786\"],[0.5555555555555556,\"#d8576b\"],[0.6666666666666666,\"#ed7953\"],[0.7777777777777778,\"#fb9f3a\"],[0.8888888888888888,\"#fdca26\"],[1.0,\"#f0f921\"]]}],\"contourcarpet\":[{\"type\":\"contourcarpet\",\"colorbar\":{\"outlinewidth\":0,\"ticks\":\"\"}}],\"contour\":[{\"type\":\"contour\",\"colorbar\":{\"outlinewidth\":0,\"ticks\":\"\"},\"colorscale\":[[0.0,\"#0d0887\"],[0.1111111111111111,\"#46039f\"],[0.2222222222222222,\"#7201a8\"],[0.3333333333333333,\"#9c179e\"],[0.4444444444444444,\"#bd3786\"],[0.5555555555555556,\"#d8576b\"],[0.6666666666666666,\"#ed7953\"],[0.7777777777777778,\"#fb9f3a\"],[0.8888888888888888,\"#fdca26\"],[1.0,\"#f0f921\"]]}],\"surface\":[{\"type\":\"surface\",\"colorbar\":{\"outlinewidth\":0,\"ticks\":\"\"},\"colorscale\":[[0.0,\"#0d0887\"],[0.1111111111111111,\"#46039f\"],[0.2222222222222222,\"#7201a8\"],[0.3333333333333333,\"#9c179e\"],[0.4444444444444444,\"#bd3786\"],[0.5555555555555556,\"#d8576b\"],[0.6666666666666666,\"#ed7953\"],[0.7777777777777778,\"#fb9f3a\"],[0.8888888888888888,\"#fdca26\"],[1.0,\"#f0f921\"]]}],\"mesh3d\":[{\"type\":\"mesh3d\",\"colorbar\":{\"outlinewidth\":0,\"ticks\":\"\"}}],\"scatter\":[{\"fillpattern\":{\"fillmode\":\"overlay\",\"size\":10,\"solidity\":0.2},\"type\":\"scatter\"}],\"parcoords\":[{\"type\":\"parcoords\",\"line\":{\"colorbar\":{\"outlinewidth\":0,\"ticks\":\"\"}}}],\"scatterpolargl\":[{\"type\":\"scatterpolargl\",\"marker\":{\"colorbar\":{\"outlinewidth\":0,\"ticks\":\"\"}}}],\"bar\":[{\"error_x\":{\"color\":\"#2a3f5f\"},\"error_y\":{\"color\":\"#2a3f5f\"},\"marker\":{\"line\":{\"color\":\"#E5ECF6\",\"width\":0.5},\"pattern\":{\"fillmode\":\"overlay\",\"size\":10,\"solidity\":0.2}},\"type\":\"bar\"}],\"scattergeo\":[{\"type\":\"scattergeo\",\"marker\":{\"colorbar\":{\"outlinewidth\":0,\"ticks\":\"\"}}}],\"scatterpolar\":[{\"type\":\"scatterpolar\",\"marker\":{\"colorbar\":{\"outlinewidth\":0,\"ticks\":\"\"}}}],\"histogram\":[{\"marker\":{\"pattern\":{\"fillmode\":\"overlay\",\"size\":10,\"solidity\":0.2}},\"type\":\"histogram\"}],\"scattergl\":[{\"type\":\"scattergl\",\"marker\":{\"colorbar\":{\"outlinewidth\":0,\"ticks\":\"\"}}}],\"scatter3d\":[{\"type\":\"scatter3d\",\"line\":{\"colorbar\":{\"outlinewidth\":0,\"ticks\":\"\"}},\"marker\":{\"colorbar\":{\"outlinewidth\":0,\"ticks\":\"\"}}}],\"scattermapbox\":[{\"type\":\"scattermapbox\",\"marker\":{\"colorbar\":{\"outlinewidth\":0,\"ticks\":\"\"}}}],\"scatterternary\":[{\"type\":\"scatterternary\",\"marker\":{\"colorbar\":{\"outlinewidth\":0,\"ticks\":\"\"}}}],\"scattercarpet\":[{\"type\":\"scattercarpet\",\"marker\":{\"colorbar\":{\"outlinewidth\":0,\"ticks\":\"\"}}}],\"carpet\":[{\"aaxis\":{\"endlinecolor\":\"#2a3f5f\",\"gridcolor\":\"white\",\"linecolor\":\"white\",\"minorgridcolor\":\"white\",\"startlinecolor\":\"#2a3f5f\"},\"baxis\":{\"endlinecolor\":\"#2a3f5f\",\"gridcolor\":\"white\",\"linecolor\":\"white\",\"minorgridcolor\":\"white\",\"startlinecolor\":\"#2a3f5f\"},\"type\":\"carpet\"}],\"table\":[{\"cells\":{\"fill\":{\"color\":\"#EBF0F8\"},\"line\":{\"color\":\"white\"}},\"header\":{\"fill\":{\"color\":\"#C8D4E3\"},\"line\":{\"color\":\"white\"}},\"type\":\"table\"}],\"barpolar\":[{\"marker\":{\"line\":{\"color\":\"#E5ECF6\",\"width\":0.5},\"pattern\":{\"fillmode\":\"overlay\",\"size\":10,\"solidity\":0.2}},\"type\":\"barpolar\"}],\"pie\":[{\"automargin\":true,\"type\":\"pie\"}]},\"layout\":{\"autotypenumbers\":\"strict\",\"colorway\":[\"#636efa\",\"#EF553B\",\"#00cc96\",\"#ab63fa\",\"#FFA15A\",\"#19d3f3\",\"#FF6692\",\"#B6E880\",\"#FF97FF\",\"#FECB52\"],\"font\":{\"color\":\"#2a3f5f\"},\"hovermode\":\"closest\",\"hoverlabel\":{\"align\":\"left\"},\"paper_bgcolor\":\"white\",\"plot_bgcolor\":\"#E5ECF6\",\"polar\":{\"bgcolor\":\"#E5ECF6\",\"angularaxis\":{\"gridcolor\":\"white\",\"linecolor\":\"white\",\"ticks\":\"\"},\"radialaxis\":{\"gridcolor\":\"white\",\"linecolor\":\"white\",\"ticks\":\"\"}},\"ternary\":{\"bgcolor\":\"#E5ECF6\",\"aaxis\":{\"gridcolor\":\"white\",\"linecolor\":\"white\",\"ticks\":\"\"},\"baxis\":{\"gridcolor\":\"white\",\"linecolor\":\"white\",\"ticks\":\"\"},\"caxis\":{\"gridcolor\":\"white\",\"linecolor\":\"white\",\"ticks\":\"\"}},\"coloraxis\":{\"colorbar\":{\"outlinewidth\":0,\"ticks\":\"\"}},\"colorscale\":{\"sequential\":[[0.0,\"#0d0887\"],[0.1111111111111111,\"#46039f\"],[0.2222222222222222,\"#7201a8\"],[0.3333333333333333,\"#9c179e\"],[0.4444444444444444,\"#bd3786\"],[0.5555555555555556,\"#d8576b\"],[0.6666666666666666,\"#ed7953\"],[0.7777777777777778,\"#fb9f3a\"],[0.8888888888888888,\"#fdca26\"],[1.0,\"#f0f921\"]],\"sequentialminus\":[[0.0,\"#0d0887\"],[0.1111111111111111,\"#46039f\"],[0.2222222222222222,\"#7201a8\"],[0.3333333333333333,\"#9c179e\"],[0.4444444444444444,\"#bd3786\"],[0.5555555555555556,\"#d8576b\"],[0.6666666666666666,\"#ed7953\"],[0.7777777777777778,\"#fb9f3a\"],[0.8888888888888888,\"#fdca26\"],[1.0,\"#f0f921\"]],\"diverging\":[[0,\"#8e0152\"],[0.1,\"#c51b7d\"],[0.2,\"#de77ae\"],[0.3,\"#f1b6da\"],[0.4,\"#fde0ef\"],[0.5,\"#f7f7f7\"],[0.6,\"#e6f5d0\"],[0.7,\"#b8e186\"],[0.8,\"#7fbc41\"],[0.9,\"#4d9221\"],[1,\"#276419\"]]},\"xaxis\":{\"gridcolor\":\"white\",\"linecolor\":\"white\",\"ticks\":\"\",\"title\":{\"standoff\":15},\"zerolinecolor\":\"white\",\"automargin\":true,\"zerolinewidth\":2},\"yaxis\":{\"gridcolor\":\"white\",\"linecolor\":\"white\",\"ticks\":\"\",\"title\":{\"standoff\":15},\"zerolinecolor\":\"white\",\"automargin\":true,\"zerolinewidth\":2},\"scene\":{\"xaxis\":{\"backgroundcolor\":\"#E5ECF6\",\"gridcolor\":\"white\",\"linecolor\":\"white\",\"showbackground\":true,\"ticks\":\"\",\"zerolinecolor\":\"white\",\"gridwidth\":2},\"yaxis\":{\"backgroundcolor\":\"#E5ECF6\",\"gridcolor\":\"white\",\"linecolor\":\"white\",\"showbackground\":true,\"ticks\":\"\",\"zerolinecolor\":\"white\",\"gridwidth\":2},\"zaxis\":{\"backgroundcolor\":\"#E5ECF6\",\"gridcolor\":\"white\",\"linecolor\":\"white\",\"showbackground\":true,\"ticks\":\"\",\"zerolinecolor\":\"white\",\"gridwidth\":2}},\"shapedefaults\":{\"line\":{\"color\":\"#2a3f5f\"}},\"annotationdefaults\":{\"arrowcolor\":\"#2a3f5f\",\"arrowhead\":0,\"arrowwidth\":1},\"geo\":{\"bgcolor\":\"white\",\"landcolor\":\"#E5ECF6\",\"subunitcolor\":\"white\",\"showland\":true,\"showlakes\":true,\"lakecolor\":\"white\"},\"title\":{\"x\":0.05},\"mapbox\":{\"style\":\"light\"}}},\"xaxis\":{\"anchor\":\"y\",\"domain\":[0.0,0.94],\"rangeslider\":{\"visible\":false},\"gridcolor\":\"#0d292f\",\"nticks\":5},\"yaxis\":{\"anchor\":\"x\",\"domain\":[0.0,1.0],\"gridcolor\":\"#0d292f\"},\"yaxis2\":{\"anchor\":\"x\",\"overlaying\":\"y\",\"side\":\"right\",\"gridcolor\":\"#0d292f\"},\"margin\":{\"l\":10,\"r\":10,\"b\":10,\"t\":10},\"width\":900,\"height\":400,\"plot_bgcolor\":\"#2c303c\"},                        {\"responsive\": true}                    ).then(function(){\n",
       "                            \n",
       "var gd = document.getElementById('cf2bfd22-59d1-4b9a-8f49-5ddcaa104b11');\n",
       "var x = new MutationObserver(function (mutations, observer) {{\n",
       "        var display = window.getComputedStyle(gd).display;\n",
       "        if (!display || display === 'none') {{\n",
       "            console.log([gd, 'removed!']);\n",
       "            Plotly.purge(gd);\n",
       "            observer.disconnect();\n",
       "        }}\n",
       "}});\n",
       "\n",
       "// Listen for the removal of the full notebook cells\n",
       "var notebookContainer = gd.closest('#notebook-container');\n",
       "if (notebookContainer) {{\n",
       "    x.observe(notebookContainer, {childList: true});\n",
       "}}\n",
       "\n",
       "// Listen for the clearing of the current output cell\n",
       "var outputEl = gd.closest('.output');\n",
       "if (outputEl) {{\n",
       "    x.observe(outputEl, {childList: true});\n",
       "}}\n",
       "\n",
       "                        })                };                });            </script>        </div>"
      ]
     },
     "metadata": {},
     "output_type": "display_data"
    }
   ],
   "source": [
    "\n",
    "MARKER=\"#0066FF\"\n",
    "dfp=df_an.iloc[650:700]\n",
    "cp=CandlePlot(dfp,candles=True)\n",
    "df_temp=cp.df_plot[cp.df_plot.EVENING_STAR==True]\n",
    "cp.fig.add_trace(go.Candlestick(\n",
    "                x=df_temp.sTime,\n",
    "                open=df_temp.mid_o,\n",
    "                close=df_temp.mid_c,\n",
    "                high=df_temp.mid_h,\n",
    "                low=df_temp.mid_l,\n",
    "\n",
    "                line=dict(width=1), opacity=1,\n",
    "                increasing_fillcolor=MARKER,\n",
    "                decreasing_fillcolor=MARKER,\n",
    "                increasing_line_color=MARKER,\n",
    "                decreasing_line_color=MARKER,\n",
    "\n",
    "        ))\n",
    "cp.show_plot()\n"
   ]
  },
  {
   "cell_type": "code",
   "execution_count": 21,
   "id": "3e6a4d52-0858-4e92-8c6f-e249aa85081e",
   "metadata": {},
   "outputs": [
    {
     "data": {
      "text/html": [
       "<div>\n",
       "<style scoped>\n",
       "    .dataframe tbody tr th:only-of-type {\n",
       "        vertical-align: middle;\n",
       "    }\n",
       "\n",
       "    .dataframe tbody tr th {\n",
       "        vertical-align: top;\n",
       "    }\n",
       "\n",
       "    .dataframe thead th {\n",
       "        text-align: right;\n",
       "    }\n",
       "</style>\n",
       "<table border=\"1\" class=\"dataframe\">\n",
       "  <thead>\n",
       "    <tr style=\"text-align: right;\">\n",
       "      <th></th>\n",
       "      <th>time</th>\n",
       "      <th>mid_c</th>\n",
       "      <th>mid_o</th>\n",
       "      <th>mid_h</th>\n",
       "      <th>mid_l</th>\n",
       "      <th>body_lower</th>\n",
       "      <th>body_upper</th>\n",
       "      <th>body_bottom_perc</th>\n",
       "      <th>body_upper_perc</th>\n",
       "      <th>body_perc</th>\n",
       "      <th>...</th>\n",
       "      <th>body_perc_prev_2</th>\n",
       "      <th>HANGING_MAN</th>\n",
       "      <th>SHOOTING_STAR</th>\n",
       "      <th>SPINNING_TOP</th>\n",
       "      <th>MARUBOZU</th>\n",
       "      <th>ENGULFING</th>\n",
       "      <th>TWEEZER_TOP</th>\n",
       "      <th>TWEEZER_BOTTOM</th>\n",
       "      <th>MORNING_STAR</th>\n",
       "      <th>EVENING_STAR</th>\n",
       "    </tr>\n",
       "  </thead>\n",
       "  <tbody>\n",
       "    <tr>\n",
       "      <th>678</th>\n",
       "      <td>2016-05-17 06:00:00+00:00</td>\n",
       "      <td>1.13290</td>\n",
       "      <td>1.13149</td>\n",
       "      <td>1.13332</td>\n",
       "      <td>1.13112</td>\n",
       "      <td>1.13149</td>\n",
       "      <td>1.13290</td>\n",
       "      <td>16.818182</td>\n",
       "      <td>19.090909</td>\n",
       "      <td>64.090909</td>\n",
       "      <td>...</td>\n",
       "      <td>90.322581</td>\n",
       "      <td>False</td>\n",
       "      <td>False</td>\n",
       "      <td>False</td>\n",
       "      <td>False</td>\n",
       "      <td>None</td>\n",
       "      <td>False</td>\n",
       "      <td>False</td>\n",
       "      <td>False</td>\n",
       "      <td>True</td>\n",
       "    </tr>\n",
       "    <tr>\n",
       "      <th>3393</th>\n",
       "      <td>2016-10-21 09:00:00+00:00</td>\n",
       "      <td>1.09016</td>\n",
       "      <td>1.08807</td>\n",
       "      <td>1.09040</td>\n",
       "      <td>1.08784</td>\n",
       "      <td>1.08807</td>\n",
       "      <td>1.09016</td>\n",
       "      <td>8.984375</td>\n",
       "      <td>9.375000</td>\n",
       "      <td>81.640625</td>\n",
       "      <td>...</td>\n",
       "      <td>97.037037</td>\n",
       "      <td>False</td>\n",
       "      <td>False</td>\n",
       "      <td>False</td>\n",
       "      <td>False</td>\n",
       "      <td>True</td>\n",
       "      <td>False</td>\n",
       "      <td>False</td>\n",
       "      <td>False</td>\n",
       "      <td>True</td>\n",
       "    </tr>\n",
       "    <tr>\n",
       "      <th>7868</th>\n",
       "      <td>2017-07-12 22:00:00+00:00</td>\n",
       "      <td>1.14160</td>\n",
       "      <td>1.14128</td>\n",
       "      <td>1.14182</td>\n",
       "      <td>1.14122</td>\n",
       "      <td>1.14128</td>\n",
       "      <td>1.14160</td>\n",
       "      <td>10.000000</td>\n",
       "      <td>36.666667</td>\n",
       "      <td>53.333333</td>\n",
       "      <td>...</td>\n",
       "      <td>91.208791</td>\n",
       "      <td>False</td>\n",
       "      <td>False</td>\n",
       "      <td>False</td>\n",
       "      <td>False</td>\n",
       "      <td>None</td>\n",
       "      <td>False</td>\n",
       "      <td>False</td>\n",
       "      <td>False</td>\n",
       "      <td>True</td>\n",
       "    </tr>\n",
       "    <tr>\n",
       "      <th>9090</th>\n",
       "      <td>2017-09-21 20:00:00+00:00</td>\n",
       "      <td>1.19420</td>\n",
       "      <td>1.19317</td>\n",
       "      <td>1.19426</td>\n",
       "      <td>1.19317</td>\n",
       "      <td>1.19317</td>\n",
       "      <td>1.19420</td>\n",
       "      <td>0.000000</td>\n",
       "      <td>5.504587</td>\n",
       "      <td>94.495413</td>\n",
       "      <td>...</td>\n",
       "      <td>90.384615</td>\n",
       "      <td>False</td>\n",
       "      <td>False</td>\n",
       "      <td>False</td>\n",
       "      <td>False</td>\n",
       "      <td>None</td>\n",
       "      <td>False</td>\n",
       "      <td>False</td>\n",
       "      <td>False</td>\n",
       "      <td>True</td>\n",
       "    </tr>\n",
       "    <tr>\n",
       "      <th>9944</th>\n",
       "      <td>2017-11-10 09:00:00+00:00</td>\n",
       "      <td>1.16604</td>\n",
       "      <td>1.16344</td>\n",
       "      <td>1.16622</td>\n",
       "      <td>1.16287</td>\n",
       "      <td>1.16344</td>\n",
       "      <td>1.16604</td>\n",
       "      <td>17.014925</td>\n",
       "      <td>5.373134</td>\n",
       "      <td>77.611940</td>\n",
       "      <td>...</td>\n",
       "      <td>96.250000</td>\n",
       "      <td>False</td>\n",
       "      <td>False</td>\n",
       "      <td>False</td>\n",
       "      <td>False</td>\n",
       "      <td>None</td>\n",
       "      <td>False</td>\n",
       "      <td>False</td>\n",
       "      <td>False</td>\n",
       "      <td>True</td>\n",
       "    </tr>\n",
       "    <tr>\n",
       "      <th>10500</th>\n",
       "      <td>2017-12-13 13:00:00+00:00</td>\n",
       "      <td>1.17576</td>\n",
       "      <td>1.17399</td>\n",
       "      <td>1.17712</td>\n",
       "      <td>1.17295</td>\n",
       "      <td>1.17399</td>\n",
       "      <td>1.17576</td>\n",
       "      <td>24.940048</td>\n",
       "      <td>32.613909</td>\n",
       "      <td>42.446043</td>\n",
       "      <td>...</td>\n",
       "      <td>93.893130</td>\n",
       "      <td>False</td>\n",
       "      <td>False</td>\n",
       "      <td>False</td>\n",
       "      <td>False</td>\n",
       "      <td>None</td>\n",
       "      <td>False</td>\n",
       "      <td>False</td>\n",
       "      <td>False</td>\n",
       "      <td>True</td>\n",
       "    </tr>\n",
       "    <tr>\n",
       "      <th>11436</th>\n",
       "      <td>2018-02-08 13:00:00+00:00</td>\n",
       "      <td>1.22754</td>\n",
       "      <td>1.22368</td>\n",
       "      <td>1.22767</td>\n",
       "      <td>1.22340</td>\n",
       "      <td>1.22368</td>\n",
       "      <td>1.22754</td>\n",
       "      <td>6.557377</td>\n",
       "      <td>3.044496</td>\n",
       "      <td>90.398126</td>\n",
       "      <td>...</td>\n",
       "      <td>90.476190</td>\n",
       "      <td>False</td>\n",
       "      <td>False</td>\n",
       "      <td>False</td>\n",
       "      <td>False</td>\n",
       "      <td>None</td>\n",
       "      <td>False</td>\n",
       "      <td>False</td>\n",
       "      <td>False</td>\n",
       "      <td>True</td>\n",
       "    </tr>\n",
       "    <tr>\n",
       "      <th>11815</th>\n",
       "      <td>2018-03-02 08:00:00+00:00</td>\n",
       "      <td>1.22744</td>\n",
       "      <td>1.22632</td>\n",
       "      <td>1.22786</td>\n",
       "      <td>1.22548</td>\n",
       "      <td>1.22632</td>\n",
       "      <td>1.22744</td>\n",
       "      <td>35.294118</td>\n",
       "      <td>17.647059</td>\n",
       "      <td>47.058824</td>\n",
       "      <td>...</td>\n",
       "      <td>97.023810</td>\n",
       "      <td>False</td>\n",
       "      <td>False</td>\n",
       "      <td>False</td>\n",
       "      <td>False</td>\n",
       "      <td>None</td>\n",
       "      <td>False</td>\n",
       "      <td>False</td>\n",
       "      <td>False</td>\n",
       "      <td>True</td>\n",
       "    </tr>\n",
       "    <tr>\n",
       "      <th>12286</th>\n",
       "      <td>2018-03-29 22:00:00+00:00</td>\n",
       "      <td>1.23042</td>\n",
       "      <td>1.23014</td>\n",
       "      <td>1.23062</td>\n",
       "      <td>1.23000</td>\n",
       "      <td>1.23014</td>\n",
       "      <td>1.23042</td>\n",
       "      <td>22.580645</td>\n",
       "      <td>32.258065</td>\n",
       "      <td>45.161290</td>\n",
       "      <td>...</td>\n",
       "      <td>100.000000</td>\n",
       "      <td>False</td>\n",
       "      <td>False</td>\n",
       "      <td>False</td>\n",
       "      <td>False</td>\n",
       "      <td>None</td>\n",
       "      <td>False</td>\n",
       "      <td>False</td>\n",
       "      <td>False</td>\n",
       "      <td>True</td>\n",
       "    </tr>\n",
       "    <tr>\n",
       "      <th>13294</th>\n",
       "      <td>2018-05-28 22:00:00+00:00</td>\n",
       "      <td>1.16265</td>\n",
       "      <td>1.16248</td>\n",
       "      <td>1.16283</td>\n",
       "      <td>1.16228</td>\n",
       "      <td>1.16248</td>\n",
       "      <td>1.16265</td>\n",
       "      <td>36.363636</td>\n",
       "      <td>32.727273</td>\n",
       "      <td>30.909091</td>\n",
       "      <td>...</td>\n",
       "      <td>100.000000</td>\n",
       "      <td>False</td>\n",
       "      <td>False</td>\n",
       "      <td>False</td>\n",
       "      <td>False</td>\n",
       "      <td>None</td>\n",
       "      <td>False</td>\n",
       "      <td>False</td>\n",
       "      <td>False</td>\n",
       "      <td>True</td>\n",
       "    </tr>\n",
       "    <tr>\n",
       "      <th>13963</th>\n",
       "      <td>2018-07-05 19:00:00+00:00</td>\n",
       "      <td>1.16929</td>\n",
       "      <td>1.16804</td>\n",
       "      <td>1.16934</td>\n",
       "      <td>1.16795</td>\n",
       "      <td>1.16804</td>\n",
       "      <td>1.16929</td>\n",
       "      <td>6.474820</td>\n",
       "      <td>3.597122</td>\n",
       "      <td>89.928058</td>\n",
       "      <td>...</td>\n",
       "      <td>90.643275</td>\n",
       "      <td>False</td>\n",
       "      <td>False</td>\n",
       "      <td>False</td>\n",
       "      <td>False</td>\n",
       "      <td>True</td>\n",
       "      <td>False</td>\n",
       "      <td>False</td>\n",
       "      <td>False</td>\n",
       "      <td>True</td>\n",
       "    </tr>\n",
       "    <tr>\n",
       "      <th>17935</th>\n",
       "      <td>2019-02-26 08:00:00+00:00</td>\n",
       "      <td>1.13550</td>\n",
       "      <td>1.13500</td>\n",
       "      <td>1.13590</td>\n",
       "      <td>1.13458</td>\n",
       "      <td>1.13500</td>\n",
       "      <td>1.13550</td>\n",
       "      <td>31.818182</td>\n",
       "      <td>30.303030</td>\n",
       "      <td>37.878788</td>\n",
       "      <td>...</td>\n",
       "      <td>91.262136</td>\n",
       "      <td>False</td>\n",
       "      <td>False</td>\n",
       "      <td>False</td>\n",
       "      <td>False</td>\n",
       "      <td>None</td>\n",
       "      <td>False</td>\n",
       "      <td>False</td>\n",
       "      <td>False</td>\n",
       "      <td>True</td>\n",
       "    </tr>\n",
       "    <tr>\n",
       "      <th>19273</th>\n",
       "      <td>2019-05-15 01:00:00+00:00</td>\n",
       "      <td>1.12073</td>\n",
       "      <td>1.12039</td>\n",
       "      <td>1.12082</td>\n",
       "      <td>1.12030</td>\n",
       "      <td>1.12039</td>\n",
       "      <td>1.12073</td>\n",
       "      <td>17.307692</td>\n",
       "      <td>17.307692</td>\n",
       "      <td>65.384615</td>\n",
       "      <td>...</td>\n",
       "      <td>92.857143</td>\n",
       "      <td>False</td>\n",
       "      <td>False</td>\n",
       "      <td>False</td>\n",
       "      <td>False</td>\n",
       "      <td>None</td>\n",
       "      <td>False</td>\n",
       "      <td>False</td>\n",
       "      <td>False</td>\n",
       "      <td>True</td>\n",
       "    </tr>\n",
       "    <tr>\n",
       "      <th>19558</th>\n",
       "      <td>2019-05-30 22:00:00+00:00</td>\n",
       "      <td>1.11332</td>\n",
       "      <td>1.11291</td>\n",
       "      <td>1.11332</td>\n",
       "      <td>1.11291</td>\n",
       "      <td>1.11291</td>\n",
       "      <td>1.11332</td>\n",
       "      <td>0.000000</td>\n",
       "      <td>0.000000</td>\n",
       "      <td>100.000000</td>\n",
       "      <td>...</td>\n",
       "      <td>100.000000</td>\n",
       "      <td>False</td>\n",
       "      <td>False</td>\n",
       "      <td>False</td>\n",
       "      <td>True</td>\n",
       "      <td>None</td>\n",
       "      <td>False</td>\n",
       "      <td>False</td>\n",
       "      <td>False</td>\n",
       "      <td>True</td>\n",
       "    </tr>\n",
       "    <tr>\n",
       "      <th>20760</th>\n",
       "      <td>2019-08-09 00:00:00+00:00</td>\n",
       "      <td>1.11928</td>\n",
       "      <td>1.11865</td>\n",
       "      <td>1.11946</td>\n",
       "      <td>1.11852</td>\n",
       "      <td>1.11865</td>\n",
       "      <td>1.11928</td>\n",
       "      <td>13.829787</td>\n",
       "      <td>19.148936</td>\n",
       "      <td>67.021277</td>\n",
       "      <td>...</td>\n",
       "      <td>95.061728</td>\n",
       "      <td>False</td>\n",
       "      <td>False</td>\n",
       "      <td>False</td>\n",
       "      <td>False</td>\n",
       "      <td>None</td>\n",
       "      <td>False</td>\n",
       "      <td>False</td>\n",
       "      <td>False</td>\n",
       "      <td>True</td>\n",
       "    </tr>\n",
       "    <tr>\n",
       "      <th>21290</th>\n",
       "      <td>2019-09-10 02:00:00+00:00</td>\n",
       "      <td>1.10456</td>\n",
       "      <td>1.10428</td>\n",
       "      <td>1.10468</td>\n",
       "      <td>1.10405</td>\n",
       "      <td>1.10428</td>\n",
       "      <td>1.10456</td>\n",
       "      <td>36.507937</td>\n",
       "      <td>19.047619</td>\n",
       "      <td>44.444444</td>\n",
       "      <td>...</td>\n",
       "      <td>90.909091</td>\n",
       "      <td>False</td>\n",
       "      <td>False</td>\n",
       "      <td>False</td>\n",
       "      <td>False</td>\n",
       "      <td>None</td>\n",
       "      <td>False</td>\n",
       "      <td>False</td>\n",
       "      <td>False</td>\n",
       "      <td>True</td>\n",
       "    </tr>\n",
       "    <tr>\n",
       "      <th>21935</th>\n",
       "      <td>2019-10-16 22:00:00+00:00</td>\n",
       "      <td>1.10749</td>\n",
       "      <td>1.10731</td>\n",
       "      <td>1.10764</td>\n",
       "      <td>1.10731</td>\n",
       "      <td>1.10731</td>\n",
       "      <td>1.10749</td>\n",
       "      <td>0.000000</td>\n",
       "      <td>45.454545</td>\n",
       "      <td>54.545455</td>\n",
       "      <td>...</td>\n",
       "      <td>97.297297</td>\n",
       "      <td>False</td>\n",
       "      <td>False</td>\n",
       "      <td>False</td>\n",
       "      <td>False</td>\n",
       "      <td>None</td>\n",
       "      <td>False</td>\n",
       "      <td>False</td>\n",
       "      <td>False</td>\n",
       "      <td>True</td>\n",
       "    </tr>\n",
       "    <tr>\n",
       "      <th>22523</th>\n",
       "      <td>2019-11-20 13:00:00+00:00</td>\n",
       "      <td>1.10640</td>\n",
       "      <td>1.10568</td>\n",
       "      <td>1.10640</td>\n",
       "      <td>1.10532</td>\n",
       "      <td>1.10568</td>\n",
       "      <td>1.10640</td>\n",
       "      <td>33.333333</td>\n",
       "      <td>0.000000</td>\n",
       "      <td>66.666667</td>\n",
       "      <td>...</td>\n",
       "      <td>97.872340</td>\n",
       "      <td>False</td>\n",
       "      <td>False</td>\n",
       "      <td>False</td>\n",
       "      <td>False</td>\n",
       "      <td>None</td>\n",
       "      <td>False</td>\n",
       "      <td>False</td>\n",
       "      <td>False</td>\n",
       "      <td>True</td>\n",
       "    </tr>\n",
       "    <tr>\n",
       "      <th>24239</th>\n",
       "      <td>2020-03-03 02:00:00+00:00</td>\n",
       "      <td>1.11406</td>\n",
       "      <td>1.11321</td>\n",
       "      <td>1.11463</td>\n",
       "      <td>1.11288</td>\n",
       "      <td>1.11321</td>\n",
       "      <td>1.11406</td>\n",
       "      <td>18.857143</td>\n",
       "      <td>32.571429</td>\n",
       "      <td>48.571429</td>\n",
       "      <td>...</td>\n",
       "      <td>94.488189</td>\n",
       "      <td>False</td>\n",
       "      <td>False</td>\n",
       "      <td>False</td>\n",
       "      <td>False</td>\n",
       "      <td>True</td>\n",
       "      <td>False</td>\n",
       "      <td>False</td>\n",
       "      <td>False</td>\n",
       "      <td>True</td>\n",
       "    </tr>\n",
       "    <tr>\n",
       "      <th>24699</th>\n",
       "      <td>2020-03-30 05:00:00+00:00</td>\n",
       "      <td>1.11008</td>\n",
       "      <td>1.10814</td>\n",
       "      <td>1.11024</td>\n",
       "      <td>1.10704</td>\n",
       "      <td>1.10814</td>\n",
       "      <td>1.11008</td>\n",
       "      <td>34.375000</td>\n",
       "      <td>5.000000</td>\n",
       "      <td>60.625000</td>\n",
       "      <td>...</td>\n",
       "      <td>93.525180</td>\n",
       "      <td>False</td>\n",
       "      <td>False</td>\n",
       "      <td>False</td>\n",
       "      <td>False</td>\n",
       "      <td>None</td>\n",
       "      <td>False</td>\n",
       "      <td>False</td>\n",
       "      <td>False</td>\n",
       "      <td>True</td>\n",
       "    </tr>\n",
       "    <tr>\n",
       "      <th>29618</th>\n",
       "      <td>2021-01-13 06:00:00+00:00</td>\n",
       "      <td>1.22140</td>\n",
       "      <td>1.22091</td>\n",
       "      <td>1.22174</td>\n",
       "      <td>1.22080</td>\n",
       "      <td>1.22091</td>\n",
       "      <td>1.22140</td>\n",
       "      <td>11.702128</td>\n",
       "      <td>36.170213</td>\n",
       "      <td>52.127660</td>\n",
       "      <td>...</td>\n",
       "      <td>100.000000</td>\n",
       "      <td>False</td>\n",
       "      <td>False</td>\n",
       "      <td>False</td>\n",
       "      <td>False</td>\n",
       "      <td>None</td>\n",
       "      <td>False</td>\n",
       "      <td>False</td>\n",
       "      <td>False</td>\n",
       "      <td>True</td>\n",
       "    </tr>\n",
       "    <tr>\n",
       "      <th>33394</th>\n",
       "      <td>2021-08-20 13:00:00+00:00</td>\n",
       "      <td>1.16796</td>\n",
       "      <td>1.16683</td>\n",
       "      <td>1.16854</td>\n",
       "      <td>1.16640</td>\n",
       "      <td>1.16683</td>\n",
       "      <td>1.16796</td>\n",
       "      <td>20.093458</td>\n",
       "      <td>27.102804</td>\n",
       "      <td>52.803738</td>\n",
       "      <td>...</td>\n",
       "      <td>91.176471</td>\n",
       "      <td>False</td>\n",
       "      <td>False</td>\n",
       "      <td>False</td>\n",
       "      <td>False</td>\n",
       "      <td>None</td>\n",
       "      <td>False</td>\n",
       "      <td>False</td>\n",
       "      <td>False</td>\n",
       "      <td>True</td>\n",
       "    </tr>\n",
       "    <tr>\n",
       "      <th>33610</th>\n",
       "      <td>2021-09-02 13:00:00+00:00</td>\n",
       "      <td>1.18588</td>\n",
       "      <td>1.18472</td>\n",
       "      <td>1.18626</td>\n",
       "      <td>1.18464</td>\n",
       "      <td>1.18472</td>\n",
       "      <td>1.18588</td>\n",
       "      <td>4.938272</td>\n",
       "      <td>23.456790</td>\n",
       "      <td>71.604938</td>\n",
       "      <td>...</td>\n",
       "      <td>90.476190</td>\n",
       "      <td>False</td>\n",
       "      <td>False</td>\n",
       "      <td>False</td>\n",
       "      <td>False</td>\n",
       "      <td>None</td>\n",
       "      <td>False</td>\n",
       "      <td>False</td>\n",
       "      <td>False</td>\n",
       "      <td>True</td>\n",
       "    </tr>\n",
       "  </tbody>\n",
       "</table>\n",
       "<p>23 rows × 31 columns</p>\n",
       "</div>"
      ],
      "text/plain": [
       "                           time    mid_c    mid_o    mid_h    mid_l  \\\n",
       "678   2016-05-17 06:00:00+00:00  1.13290  1.13149  1.13332  1.13112   \n",
       "3393  2016-10-21 09:00:00+00:00  1.09016  1.08807  1.09040  1.08784   \n",
       "7868  2017-07-12 22:00:00+00:00  1.14160  1.14128  1.14182  1.14122   \n",
       "9090  2017-09-21 20:00:00+00:00  1.19420  1.19317  1.19426  1.19317   \n",
       "9944  2017-11-10 09:00:00+00:00  1.16604  1.16344  1.16622  1.16287   \n",
       "10500 2017-12-13 13:00:00+00:00  1.17576  1.17399  1.17712  1.17295   \n",
       "11436 2018-02-08 13:00:00+00:00  1.22754  1.22368  1.22767  1.22340   \n",
       "11815 2018-03-02 08:00:00+00:00  1.22744  1.22632  1.22786  1.22548   \n",
       "12286 2018-03-29 22:00:00+00:00  1.23042  1.23014  1.23062  1.23000   \n",
       "13294 2018-05-28 22:00:00+00:00  1.16265  1.16248  1.16283  1.16228   \n",
       "13963 2018-07-05 19:00:00+00:00  1.16929  1.16804  1.16934  1.16795   \n",
       "17935 2019-02-26 08:00:00+00:00  1.13550  1.13500  1.13590  1.13458   \n",
       "19273 2019-05-15 01:00:00+00:00  1.12073  1.12039  1.12082  1.12030   \n",
       "19558 2019-05-30 22:00:00+00:00  1.11332  1.11291  1.11332  1.11291   \n",
       "20760 2019-08-09 00:00:00+00:00  1.11928  1.11865  1.11946  1.11852   \n",
       "21290 2019-09-10 02:00:00+00:00  1.10456  1.10428  1.10468  1.10405   \n",
       "21935 2019-10-16 22:00:00+00:00  1.10749  1.10731  1.10764  1.10731   \n",
       "22523 2019-11-20 13:00:00+00:00  1.10640  1.10568  1.10640  1.10532   \n",
       "24239 2020-03-03 02:00:00+00:00  1.11406  1.11321  1.11463  1.11288   \n",
       "24699 2020-03-30 05:00:00+00:00  1.11008  1.10814  1.11024  1.10704   \n",
       "29618 2021-01-13 06:00:00+00:00  1.22140  1.22091  1.22174  1.22080   \n",
       "33394 2021-08-20 13:00:00+00:00  1.16796  1.16683  1.16854  1.16640   \n",
       "33610 2021-09-02 13:00:00+00:00  1.18588  1.18472  1.18626  1.18464   \n",
       "\n",
       "       body_lower  body_upper  body_bottom_perc  body_upper_perc   body_perc  \\\n",
       "678       1.13149     1.13290         16.818182        19.090909   64.090909   \n",
       "3393      1.08807     1.09016          8.984375         9.375000   81.640625   \n",
       "7868      1.14128     1.14160         10.000000        36.666667   53.333333   \n",
       "9090      1.19317     1.19420          0.000000         5.504587   94.495413   \n",
       "9944      1.16344     1.16604         17.014925         5.373134   77.611940   \n",
       "10500     1.17399     1.17576         24.940048        32.613909   42.446043   \n",
       "11436     1.22368     1.22754          6.557377         3.044496   90.398126   \n",
       "11815     1.22632     1.22744         35.294118        17.647059   47.058824   \n",
       "12286     1.23014     1.23042         22.580645        32.258065   45.161290   \n",
       "13294     1.16248     1.16265         36.363636        32.727273   30.909091   \n",
       "13963     1.16804     1.16929          6.474820         3.597122   89.928058   \n",
       "17935     1.13500     1.13550         31.818182        30.303030   37.878788   \n",
       "19273     1.12039     1.12073         17.307692        17.307692   65.384615   \n",
       "19558     1.11291     1.11332          0.000000         0.000000  100.000000   \n",
       "20760     1.11865     1.11928         13.829787        19.148936   67.021277   \n",
       "21290     1.10428     1.10456         36.507937        19.047619   44.444444   \n",
       "21935     1.10731     1.10749          0.000000        45.454545   54.545455   \n",
       "22523     1.10568     1.10640         33.333333         0.000000   66.666667   \n",
       "24239     1.11321     1.11406         18.857143        32.571429   48.571429   \n",
       "24699     1.10814     1.11008         34.375000         5.000000   60.625000   \n",
       "29618     1.22091     1.22140         11.702128        36.170213   52.127660   \n",
       "33394     1.16683     1.16796         20.093458        27.102804   52.803738   \n",
       "33610     1.18472     1.18588          4.938272        23.456790   71.604938   \n",
       "\n",
       "       ...  body_perc_prev_2  HANGING_MAN  SHOOTING_STAR  SPINNING_TOP  \\\n",
       "678    ...         90.322581        False          False         False   \n",
       "3393   ...         97.037037        False          False         False   \n",
       "7868   ...         91.208791        False          False         False   \n",
       "9090   ...         90.384615        False          False         False   \n",
       "9944   ...         96.250000        False          False         False   \n",
       "10500  ...         93.893130        False          False         False   \n",
       "11436  ...         90.476190        False          False         False   \n",
       "11815  ...         97.023810        False          False         False   \n",
       "12286  ...        100.000000        False          False         False   \n",
       "13294  ...        100.000000        False          False         False   \n",
       "13963  ...         90.643275        False          False         False   \n",
       "17935  ...         91.262136        False          False         False   \n",
       "19273  ...         92.857143        False          False         False   \n",
       "19558  ...        100.000000        False          False         False   \n",
       "20760  ...         95.061728        False          False         False   \n",
       "21290  ...         90.909091        False          False         False   \n",
       "21935  ...         97.297297        False          False         False   \n",
       "22523  ...         97.872340        False          False         False   \n",
       "24239  ...         94.488189        False          False         False   \n",
       "24699  ...         93.525180        False          False         False   \n",
       "29618  ...        100.000000        False          False         False   \n",
       "33394  ...         91.176471        False          False         False   \n",
       "33610  ...         90.476190        False          False         False   \n",
       "\n",
       "       MARUBOZU  ENGULFING  TWEEZER_TOP  TWEEZER_BOTTOM  MORNING_STAR  \\\n",
       "678       False       None        False           False         False   \n",
       "3393      False       True        False           False         False   \n",
       "7868      False       None        False           False         False   \n",
       "9090      False       None        False           False         False   \n",
       "9944      False       None        False           False         False   \n",
       "10500     False       None        False           False         False   \n",
       "11436     False       None        False           False         False   \n",
       "11815     False       None        False           False         False   \n",
       "12286     False       None        False           False         False   \n",
       "13294     False       None        False           False         False   \n",
       "13963     False       True        False           False         False   \n",
       "17935     False       None        False           False         False   \n",
       "19273     False       None        False           False         False   \n",
       "19558      True       None        False           False         False   \n",
       "20760     False       None        False           False         False   \n",
       "21290     False       None        False           False         False   \n",
       "21935     False       None        False           False         False   \n",
       "22523     False       None        False           False         False   \n",
       "24239     False       True        False           False         False   \n",
       "24699     False       None        False           False         False   \n",
       "29618     False       None        False           False         False   \n",
       "33394     False       None        False           False         False   \n",
       "33610     False       None        False           False         False   \n",
       "\n",
       "       EVENING_STAR  \n",
       "678            True  \n",
       "3393           True  \n",
       "7868           True  \n",
       "9090           True  \n",
       "9944           True  \n",
       "10500          True  \n",
       "11436          True  \n",
       "11815          True  \n",
       "12286          True  \n",
       "13294          True  \n",
       "13963          True  \n",
       "17935          True  \n",
       "19273          True  \n",
       "19558          True  \n",
       "20760          True  \n",
       "21290          True  \n",
       "21935          True  \n",
       "22523          True  \n",
       "24239          True  \n",
       "24699          True  \n",
       "29618          True  \n",
       "33394          True  \n",
       "33610          True  \n",
       "\n",
       "[23 rows x 31 columns]"
      ]
     },
     "execution_count": 21,
     "metadata": {},
     "output_type": "execute_result"
    }
   ],
   "source": [
    "df_an[df_an[\"EVENING_STAR\"]==True]"
   ]
  },
  {
   "cell_type": "code",
   "execution_count": null,
   "id": "2cead573-1cb2-4457-81e4-1ae590a9c9b6",
   "metadata": {},
   "outputs": [],
   "source": []
  },
  {
   "cell_type": "code",
   "execution_count": null,
   "id": "2412082c-f9b3-4d89-84fb-434a842c118d",
   "metadata": {},
   "outputs": [],
   "source": []
  },
  {
   "cell_type": "code",
   "execution_count": null,
   "id": "94ca7e05-025d-4d6b-ac8b-bad10a51181f",
   "metadata": {},
   "outputs": [],
   "source": []
  }
 ],
 "metadata": {
  "kernelspec": {
   "display_name": "Python 3 (ipykernel)",
   "language": "python",
   "name": "python3"
  },
  "language_info": {
   "codemirror_mode": {
    "name": "ipython",
    "version": 3
   },
   "file_extension": ".py",
   "mimetype": "text/x-python",
   "name": "python",
   "nbconvert_exporter": "python",
   "pygments_lexer": "ipython3",
   "version": "3.8.2"
  }
 },
 "nbformat": 4,
 "nbformat_minor": 5
}
