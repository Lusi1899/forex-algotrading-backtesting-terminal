{
 "cells": [
  {
   "cell_type": "code",
   "execution_count": 2,
   "id": "f209c596-8604-4647-8ba3-4c397a24a002",
   "metadata": {},
   "outputs": [],
   "source": [
    "import pandas as pd\n",
    "from ploting import CandlePlot\n",
    "pd.set_option(\"display.max_columns\",None)"
   ]
  },
  {
   "cell_type": "code",
   "execution_count": 3,
   "id": "28a62903-5046-4ab9-9e5c-0ec8df464796",
   "metadata": {},
   "outputs": [
    {
     "name": "stdout",
     "output_type": "stream",
     "text": [
      "Requirement already satisfied: xlsxwriter in c:\\program files\\python38\\lib\\site-packages (3.2.0)\n",
      "Note: you may need to restart the kernel to use updated packages.\n"
     ]
    },
    {
     "name": "stderr",
     "output_type": "stream",
     "text": [
      "WARNING: You are using pip version 19.2.3, however version 24.0 is available.\n",
      "You should consider upgrading via the 'python -m pip install --upgrade pip' command.\n"
     ]
    }
   ],
   "source": [
    "pip install xlsxwriter"
   ]
  },
  {
   "cell_type": "code",
   "execution_count": 5,
   "id": "96481279-dd04-4ce7-bc03-8cc3f0de2a10",
   "metadata": {},
   "outputs": [],
   "source": [
    "df=pd.read_pickle(\"../data/EUR_USDM5.pkl\")\n",
    "df_ma_trades=pd.read_pickle(\"../data/ma_trades.pkl\")\n"
   ]
  },
  {
   "cell_type": "code",
   "execution_count": 8,
   "id": "fc2ed9e5-0fe6-4cf2-968a-b8db7421cf5a",
   "metadata": {},
   "outputs": [
    {
     "name": "stdout",
     "output_type": "stream",
     "text": [
      "<class 'pandas.core.frame.DataFrame'>\n",
      "RangeIndex: 426334 entries, 0 to 426333\n",
      "Data columns (total 14 columns):\n",
      " #   Column  Non-Null Count   Dtype                  \n",
      "---  ------  --------------   -----                  \n",
      " 0   time    426334 non-null  datetime64[ns, tzutc()]\n",
      " 1   volume  426334 non-null  int64                  \n",
      " 2   mid_o   426334 non-null  float64                \n",
      " 3   mid_h   426334 non-null  float64                \n",
      " 4   mid_l   426334 non-null  float64                \n",
      " 5   mid_c   426334 non-null  float64                \n",
      " 6   bid_o   426334 non-null  float64                \n",
      " 7   bid_h   426334 non-null  float64                \n",
      " 8   bid_l   426334 non-null  float64                \n",
      " 9   bid_c   426334 non-null  float64                \n",
      " 10  ask_o   426334 non-null  float64                \n",
      " 11  ask_h   426334 non-null  float64                \n",
      " 12  ask_l   426334 non-null  float64                \n",
      " 13  ask_c   426334 non-null  float64                \n",
      "dtypes: datetime64[ns, tzutc()](1), float64(12), int64(1)\n",
      "memory usage: 45.5 MB\n"
     ]
    }
   ],
   "source": [
    "# df_ma_trades_10_40=df_ma_trades[df_ma_trades.cross == \"MA_10_MA_40\"].copy()\n",
    "# df_a=df_ma_trades_10_40.sort_values(by=\"time\", ascending=False)\n",
    "# df_a=df_a[df_a.pair== \"EUR_USD\"].copy()\n",
    "# df_a\n",
    "df.info()"
   ]
  },
  {
   "cell_type": "code",
   "execution_count": null,
   "id": "8c6feb7e-6317-439c-8510-39585e567361",
   "metadata": {},
   "outputs": [],
   "source": []
  },
  {
   "cell_type": "code",
   "execution_count": null,
   "id": "2940f8eb-7359-4386-879f-7596925411d2",
   "metadata": {},
   "outputs": [],
   "source": [
    "df_ma_res.granularity.unique()"
   ]
  },
  {
   "cell_type": "code",
   "execution_count": null,
   "id": "21273169-34f5-4bc0-b69a-514016534b03",
   "metadata": {},
   "outputs": [],
   "source": [
    "df_ma_res_h1=df_ma_res[df_ma_res.granularity == \"H1\"].copy()\n",
    "df_ma_trades_h1=df_ma_trades[df_ma_trades.granularity ==\"H1\"].copy()"
   ]
  },
  {
   "cell_type": "code",
   "execution_count": null,
   "id": "6c18f285-7761-4fa4-bdd0-99bd8377876a",
   "metadata": {},
   "outputs": [],
   "source": [
    "df_cross_summary=df_ma_res_h1[['pair','num_trades','total_gain','cross']].copy()"
   ]
  },
  {
   "cell_type": "code",
   "execution_count": null,
   "id": "f328e155-a85d-4a31-8e43-160acd8b46fb",
   "metadata": {},
   "outputs": [],
   "source": [
    "df_cross_summary"
   ]
  },
  {
   "cell_type": "code",
   "execution_count": null,
   "id": "fca88472-8710-43ee-8e7d-0cf7d031dff1",
   "metadata": {},
   "outputs": [],
   "source": [
    "df_cross_gr=df_cross_summary.groupby(by='cross', as_index=False).sum()\n",
    "df_cross_gr.sort_values(by=\"total_gain\",ascending=False,inplace=True)\n",
    "df_cross_gr"
   ]
  },
  {
   "cell_type": "code",
   "execution_count": null,
   "id": "dcf003c6-8c9b-4457-a33f-13c5c5d3b770",
   "metadata": {},
   "outputs": [],
   "source": [
    "total_pairs=len(df_ma_res_h1.pair.unique())\n",
    "total_pairs"
   ]
  },
  {
   "cell_type": "code",
   "execution_count": null,
   "id": "ead02688-844d-4066-8a9e-cd3415871447",
   "metadata": {},
   "outputs": [],
   "source": [
    "temp=df_ma_res_h1[df_ma_res_h1.cross == \"MA_10_MA_40\"]\n",
    "temp"
   ]
  },
  {
   "cell_type": "code",
   "execution_count": null,
   "id": "f4703bca-49da-4bda-bec4-59af7b054ce2",
   "metadata": {},
   "outputs": [],
   "source": [
    "temp[temp.total_gain > 0].shape[0]"
   ]
  },
  {
   "cell_type": "code",
   "execution_count": null,
   "id": "54b19970-c523-46c8-8d3d-db7bbeecc598",
   "metadata": {},
   "outputs": [],
   "source": [
    "df_ma_trades_h1[df_ma_trades_h1.cross==\"MA_10_MA_40\"]"
   ]
  },
  {
   "cell_type": "code",
   "execution_count": null,
   "id": "1a83f8cf-ba7c-420d-b628-7219ad0ae9dc",
   "metadata": {},
   "outputs": [],
   "source": [
    "for c in df_ma_res_h1.cross.unique():\n",
    "    temp=df_ma_res_h1[df_ma_res_h1.cross == c]\n",
    "    pg= temp[temp.total_gain > 0].shape[0]\n",
    "    print(f\"{c} pg:{pg} percentage gain:{(pg/total_pairs)*100:.0f}%\")"
   ]
  },
  {
   "cell_type": "code",
   "execution_count": null,
   "id": "e96af527-8d28-4d5a-b56f-552c3461bb8b",
   "metadata": {},
   "outputs": [],
   "source": [
    "cross=\"MA_10_MA_40\"\n",
    "df_MA_10_MA_40=df_ma_res_h1[df_ma_res_h1.cross== cross].copy()\n",
    "df_MA_10_MA_40.sort_values(by=\"total_gain\",ascending=False, inplace=True )"
   ]
  },
  {
   "cell_type": "code",
   "execution_count": null,
   "id": "3d2ebcaa-7e2f-4a4f-a5b9-e4649e46da2f",
   "metadata": {},
   "outputs": [],
   "source": [
    "df_MA_10_MA_40"
   ]
  },
  {
   "cell_type": "code",
   "execution_count": null,
   "id": "f1eb42e6-0bf3-4c51-b5b2-b5cf5c1cbda7",
   "metadata": {},
   "outputs": [],
   "source": [
    "df_gains=df_ma_trades_h1[(df_ma_trades_h1.cross==cross)&(df_ma_trades_h1.pair==\"GBP_JPY\")].copy()\n"
   ]
  },
  {
   "cell_type": "code",
   "execution_count": null,
   "id": "ab965432-0d0e-4ee7-9ee3-9c012d60c3a1",
   "metadata": {},
   "outputs": [],
   "source": [
    "cp = CandlePlot(df_gains, candles=False)\n",
    "cp.show_plot(line_traces=[\"GAIN_C\"] )"
   ]
  },
  {
   "cell_type": "code",
   "execution_count": null,
   "id": "a2bd13c9-b82c-40cc-8d3b-4ee9a8d5f22b",
   "metadata": {},
   "outputs": [],
   "source": []
  },
  {
   "cell_type": "code",
   "execution_count": null,
   "id": "78d7946a-f56d-4c7b-8d00-2346fc55ffbe",
   "metadata": {},
   "outputs": [],
   "source": [
    "for curr in df_MA_10_MA_40[df_MA_10_MA_40.total_gain>0].pair.unique():\n",
    "    temp_gains=df_gains=df_ma_trades_h1[(df_ma_trades_h1.cross==cross)&(df_ma_trades_h1.pair==curr)].copy()\n",
    "    print(curr, int(temp_gains.GAIN.sum()))\n",
    "    cp = CandlePlot(temp_gains, candles=False)\n",
    "    cp.show_plot(line_traces=[\"GAIN_C\"] )"
   ]
  },
  {
   "cell_type": "code",
   "execution_count": null,
   "id": "c83dc975-2aed-4789-b39f-aa32e76d7d22",
   "metadata": {},
   "outputs": [],
   "source": []
  },
  {
   "cell_type": "code",
   "execution_count": null,
   "id": "cbe58443-da20-4dc1-b904-bb28e5f60341",
   "metadata": {},
   "outputs": [],
   "source": []
  },
  {
   "cell_type": "code",
   "execution_count": null,
   "id": "33062453-24d4-4d4f-a015-b698a244d576",
   "metadata": {},
   "outputs": [],
   "source": []
  }
 ],
 "metadata": {
  "kernelspec": {
   "display_name": "Python 3 (ipykernel)",
   "language": "python",
   "name": "python3"
  },
  "language_info": {
   "codemirror_mode": {
    "name": "ipython",
    "version": 3
   },
   "file_extension": ".py",
   "mimetype": "text/x-python",
   "name": "python",
   "nbconvert_exporter": "python",
   "pygments_lexer": "ipython3",
   "version": "3.8.2"
  }
 },
 "nbformat": 4,
 "nbformat_minor": 5
}
